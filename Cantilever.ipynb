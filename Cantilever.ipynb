{
  "nbformat": 4,
  "nbformat_minor": 0,
  "metadata": {
    "colab": {
      "name": "Cantilever.ipynb",
      "provenance": [],
      "collapsed_sections": [],
      "include_colab_link": true
    },
    "kernelspec": {
      "name": "python2",
      "display_name": "Python 2"
    }
  },
  "cells": [
    {
      "cell_type": "markdown",
      "metadata": {
        "id": "view-in-github",
        "colab_type": "text"
      },
      "source": [
        "<a href=\"https://colab.research.google.com/github/tkoyama010/Colaboratory/blob/master/Cantilever.ipynb\" target=\"_parent\"><img src=\"https://colab.research.google.com/assets/colab-badge.svg\" alt=\"Open In Colab\"/></a>"
      ]
    },
    {
      "cell_type": "markdown",
      "metadata": {
        "id": "L_IS3iGB1kNR",
        "colab_type": "text"
      },
      "source": [
        "# 片持ちはりの検討\n",
        "\n",
        "有限要素法ライブラリGetFEM++を使用して片持ちはりの検討を行います。まずは、GetFEM++をインストールします。"
      ]
    },
    {
      "cell_type": "markdown",
      "metadata": {
        "id": "A3Y7EudS_mVB",
        "colab_type": "text"
      },
      "source": [
        "## ライブラリのインストール"
      ]
    },
    {
      "cell_type": "code",
      "metadata": {
        "id": "78voqqWq1ma_",
        "colab_type": "code",
        "outputId": "7758d877-1688-4a50-c6a5-c3c043119e6d",
        "colab": {
          "base_uri": "https://localhost:8080/",
          "height": 109
        }
      },
      "source": [
        "!apt install python-getfem++=5.2+dfsg1-6"
      ],
      "execution_count": 0,
      "outputs": [
        {
          "output_type": "stream",
          "text": [
            "Reading package lists... Done\n",
            "Building dependency tree       \n",
            "Reading state information... Done\n",
            "python-getfem++ is already the newest version (5.2+dfsg1-6).\n",
            "0 upgraded, 0 newly installed, 0 to remove and 25 not upgraded.\n"
          ],
          "name": "stdout"
        }
      ]
    },
    {
      "cell_type": "markdown",
      "metadata": {
        "id": "kSL_se6E29FQ",
        "colab_type": "text"
      },
      "source": [
        "次に可視化ソフトMayavi2をインストールします。"
      ]
    },
    {
      "cell_type": "code",
      "metadata": {
        "id": "o-APQqlN2_HY",
        "colab_type": "code",
        "outputId": "f24ab74b-8419-4991-f4db-900fc520481f",
        "colab": {
          "base_uri": "https://localhost:8080/",
          "height": 109
        }
      },
      "source": [
        "!apt install mayavi2=4.5.0-1"
      ],
      "execution_count": 0,
      "outputs": [
        {
          "output_type": "stream",
          "text": [
            "Reading package lists... Done\n",
            "Building dependency tree       \n",
            "Reading state information... Done\n",
            "mayavi2 is already the newest version (4.5.0-1).\n",
            "0 upgraded, 0 newly installed, 0 to remove and 25 not upgraded.\n"
          ],
          "name": "stdout"
        }
      ]
    },
    {
      "cell_type": "markdown",
      "metadata": {
        "id": "YlHZjpib5Cb2",
        "colab_type": "text"
      },
      "source": [
        "colab上にはディスプレイがないため、Mayavi2用に仮想ディスプレイを設定します。"
      ]
    },
    {
      "cell_type": "code",
      "metadata": {
        "id": "EqZ1Qe9k3E2T",
        "colab_type": "code",
        "outputId": "0bc3c754-2cf1-476f-acfc-fc4122975ac6",
        "colab": {
          "base_uri": "https://localhost:8080/",
          "height": 165
        }
      },
      "source": [
        "!apt-get -y install xvfb=2:1.19.6-1ubuntu4.4\n",
        "!pip install pyvirtualdisplay==0.2.5\n",
        "\n",
        "from pyvirtualdisplay import Display\n",
        "import os\n",
        "\n",
        "display = Display(visible=0, size=(1280, 1024))\n",
        "display.start()\n",
        "os.environ[\"DISPLAY\"] = \":\" + str(display.display) + \".\" + str(display.screen)\n"
      ],
      "execution_count": 0,
      "outputs": [
        {
          "output_type": "stream",
          "text": [
            "Reading package lists... Done\n",
            "Building dependency tree       \n",
            "Reading state information... Done\n",
            "xvfb is already the newest version (2:1.19.6-1ubuntu4.4).\n",
            "0 upgraded, 0 newly installed, 0 to remove and 25 not upgraded.\n",
            "Requirement already satisfied: pyvirtualdisplay==0.2.5 in /usr/local/lib/python2.7/dist-packages (0.2.5)\n",
            "Requirement already satisfied: EasyProcess in /usr/local/lib/python2.7/dist-packages (from pyvirtualdisplay==0.2.5) (0.2.10)\n"
          ],
          "name": "stdout"
        },
        {
          "output_type": "stream",
          "text": [
            "No handlers could be found for logger \"pyvirtualdisplay.abstractdisplay\"\n"
          ],
          "name": "stderr"
        }
      ]
    },
    {
      "cell_type": "markdown",
      "metadata": {
        "id": "VoX1kh7t_zFn",
        "colab_type": "text"
      },
      "source": [
        "## モデルの作成"
      ]
    },
    {
      "cell_type": "markdown",
      "metadata": {
        "id": "tIvfNf2F5mXz",
        "colab_type": "text"
      },
      "source": [
        "準備が整ったのでライブラリをインポートします。"
      ]
    },
    {
      "cell_type": "code",
      "metadata": {
        "id": "es5ZAE995S5L",
        "colab_type": "code",
        "colab": {}
      },
      "source": [
        "import getfem as gf\n",
        "import numpy as np\n"
      ],
      "execution_count": 0,
      "outputs": []
    },
    {
      "cell_type": "markdown",
      "metadata": {
        "id": "cWjPHP7y7NdL",
        "colab_type": "text"
      },
      "source": [
        "検討ケースは次の通りです。GetFEM++では下記の有限要素法と積分法をそれぞれFEM_PRODUCTとIM_PRODUCTを使用して2次元化します。2次要素についてはGauss積分点が3であるとします。IM_GAUSS1D(K)はK/2+1点の積分点を表します。要素は平面ひずみ要素を使用します。\n",
        "\n",
        "ケース名 | メッシュ   | 有限要素法                     | 積分法        |\n",
        "-------- | ---------- | ----------                     | ----------    |\n",
        "case11   | 1 x 4      | FEM_PK(1, 2)                   | IM_GAUSS1D(4) |\n",
        "case12   | 2 x 4      | FEM_PK(1, 2)                   | IM_GAUSS1D(4) |\n",
        "case13   | 4 x 4      | FEM_PK(1, 2)                   | IM_GAUSS1D(4) |\n",
        "case14   | 8 x 16     | FEM_PK(1, 2)                   | IM_GAUSS1D(4) |\n",
        "case21   | 1 x 4      | FEM_PK(1, 1)                   | IM_GAUSS1D(2) |\n",
        "case22   | 2 x 4      | FEM_PK(1, 1)                   | IM_GAUSS1D(2) |\n",
        "case23   | 4 x 4      | FEM_PK(1, 1)                   | IM_GAUSS1D(2) |\n",
        "case24   | 8 x 16     | FEM_PK(1, 1)                   | IM_GAUSS1D(2) |\n",
        "case31   | 1 x 4      | FEM_PK(1, 1)                   | IM_GAUSS1D(0) |\n",
        "case32   | 2 x 4      | FEM_PK(1, 1)                   | IM_GAUSS1D(0) |\n",
        "case33   | 4 x 4      | FEM_PK(1, 1)                   | IM_GAUSS1D(0) |\n",
        "case34   | 8 x 16     | FEM_PK(1, 1)                   | IM_GAUSS1D(0) |\n",
        "case41   | 1 x 4      | FEM_PK_WITH_CUBIC_BUBBLE(1, 1) | IM_GAUSS1D(2) |\n",
        "case42   | 2 x 4      | FEM_PK_WITH_CUBIC_BUBBLE(1, 1) | IM_GAUSS1D(2) |\n",
        "case43   | 4 x 4      | FEM_PK_WITH_CUBIC_BUBBLE(1, 1) | IM_GAUSS1D(2) |\n",
        "case44   | 8 x 16     | FEM_PK_WITH_CUBIC_BUBBLE(1, 1) | IM_GAUSS1D(2) |\n",
        "\n",
        "これらのメッシュ、有限要素法と積分法を設定します。"
      ]
    },
    {
      "cell_type": "code",
      "metadata": {
        "id": "niYaXPZ3jYCG",
        "colab_type": "code",
        "colab": {}
      },
      "source": [
        "cases = [\n",
        "    \"case11\",\n",
        "    \"case12\",\n",
        "    \"case13\",\n",
        "    \"case14\",\n",
        "    \"case21\",\n",
        "    \"case22\",\n",
        "    \"case23\",\n",
        "    \"case24\",\n",
        "    \"case31\",\n",
        "    \"case32\",\n",
        "    \"case33\",\n",
        "    \"case34\",\n",
        "    \"case41\",\n",
        "    \"case42\",\n",
        "    \"case43\",\n",
        "    \"case44\",\n",
        "]\n"
      ],
      "execution_count": 0,
      "outputs": []
    },
    {
      "cell_type": "code",
      "metadata": {
        "id": "Q1YaMRRGifB5",
        "colab_type": "code",
        "colab": {}
      },
      "source": [
        "fem_names = [\n",
        "    \"FEM_PK(1, 2)\",\n",
        "    \"FEM_PK(1, 2)\",\n",
        "    \"FEM_PK(1, 2)\",\n",
        "    \"FEM_PK(1, 2)\",\n",
        "    \"FEM_PK(1, 1)\",\n",
        "    \"FEM_PK(1, 1)\",\n",
        "    \"FEM_PK(1, 1)\",\n",
        "    \"FEM_PK(1, 1)\",\n",
        "    \"FEM_PK(1, 1)\",\n",
        "    \"FEM_PK(1, 1)\",\n",
        "    \"FEM_PK(1, 1)\",\n",
        "    \"FEM_PK(1, 1)\",\n",
        "    \"FEM_PK_WITH_CUBIC_BUBBLE(1, 1)\",\n",
        "    \"FEM_PK_WITH_CUBIC_BUBBLE(1, 1)\",\n",
        "    \"FEM_PK_WITH_CUBIC_BUBBLE(1, 1)\",\n",
        "    \"FEM_PK_WITH_CUBIC_BUBBLE(1, 1)\",\n",
        "]\n"
      ],
      "execution_count": 0,
      "outputs": []
    },
    {
      "cell_type": "code",
      "metadata": {
        "id": "DDwYsdjErcPw",
        "colab_type": "code",
        "colab": {}
      },
      "source": [
        "mehods = [\n",
        "    \"IM_GAUSS1D(4)\",\n",
        "    \"IM_GAUSS1D(4)\",\n",
        "    \"IM_GAUSS1D(4)\",\n",
        "    \"IM_GAUSS1D(4)\",\n",
        "    \"IM_GAUSS1D(2)\",\n",
        "    \"IM_GAUSS1D(2)\",\n",
        "    \"IM_GAUSS1D(2)\",\n",
        "    \"IM_GAUSS1D(2)\",\n",
        "    \"IM_GAUSS1D(0)\",\n",
        "    \"IM_GAUSS1D(0)\",\n",
        "    \"IM_GAUSS1D(0)\",\n",
        "    \"IM_GAUSS1D(0)\",\n",
        "    \"IM_GAUSS1D(4)\",\n",
        "    \"IM_GAUSS1D(4)\",\n",
        "    \"IM_GAUSS1D(4)\",\n",
        "    \"IM_GAUSS1D(4)\",\n",
        "]\n"
      ],
      "execution_count": 0,
      "outputs": []
    },
    {
      "cell_type": "markdown",
      "metadata": {
        "id": "JB2ke7MEowxr",
        "colab_type": "text"
      },
      "source": [
        "### メッシュ\n",
        "\n",
        "モデル全体のサイズは長さL=10mm、高さh=1mm、奥行きb=1mmとします。一般的にスレンダー比が1:10であれば、はり要素とみなせるといわれます。"
      ]
    },
    {
      "cell_type": "code",
      "metadata": {
        "id": "A6iUeElf8Wf2",
        "colab_type": "code",
        "colab": {}
      },
      "source": [
        "L = 10.0\n",
        "b = 1.0\n",
        "h = 1.0\n",
        "\n",
        "x04 = np.arange(4 + 1) * L / 4\n",
        "x16 = np.arange(16 + 1) * L / 16\n",
        "\n",
        "y01 = np.arange(1 + 1) * h / 1\n",
        "y02 = np.arange(2 + 1) * h / 2\n",
        "y04 = np.arange(4 + 1) * h / 4\n",
        "y08 = np.arange(8 + 1) * h / 8\n",
        "\n",
        "m1 = gf.Mesh(\"cartesian\", x04, y01)\n",
        "m2 = gf.Mesh(\"cartesian\", x04, y02)\n",
        "m3 = gf.Mesh(\"cartesian\", x04, y04)\n",
        "m4 = gf.Mesh(\"cartesian\", x16, y08)\n",
        "\n",
        "meshs = [m1, m2, m3, m4, m1, m2, m3, m4, m1, m2, m3, m4, m1, m2, m3, m4]\n",
        "\n",
        "m1.export_to_vtk(\"mesh1.vtk\")\n",
        "m2.export_to_vtk(\"mesh2.vtk\")\n",
        "m3.export_to_vtk(\"mesh3.vtk\")\n",
        "m4.export_to_vtk(\"mesh4.vtk\")\n"
      ],
      "execution_count": 0,
      "outputs": []
    },
    {
      "cell_type": "markdown",
      "metadata": {
        "id": "5tsdWFw3o7iZ",
        "colab_type": "text"
      },
      "source": [
        "各メッシュの画像を出力します。"
      ]
    },
    {
      "cell_type": "code",
      "metadata": {
        "id": "rtbpws1NpGlF",
        "colab_type": "code",
        "outputId": "f87b1a4b-e2fa-4047-d4ba-679b41e6d958",
        "colab": {
          "base_uri": "https://localhost:8080/",
          "height": 128
        }
      },
      "source": [
        "from mayavi import mlab\n",
        "\n",
        "vtks = [\"mesh1.vtk\", \"mesh2.vtk\", \"mesh3.vtk\", \"mesh4.vtk\"]\n",
        "pngs = [\"mesh1.png\", \"mesh2.png\", \"mesh3.png\", \"mesh4.png\"]\n",
        "\n",
        "for vtk, png in zip(vtks, pngs):\n",
        "    mlab.init_notebook()\n",
        "    vtk_file_reader = mlab.pipeline.open(vtk)\n",
        "    extract_edges = mlab.pipeline.extract_edges(vtk_file_reader)\n",
        "    surface = mlab.pipeline.surface(extract_edges)\n",
        "    mlab.show()\n",
        "    mlab.savefig(png)\n",
        "    mlab.clf()\n"
      ],
      "execution_count": 0,
      "outputs": [
        {
          "output_type": "stream",
          "text": [
            "/usr/lib/python2.7/dist-packages/traits/etsconfig/etsconfig.py:429: UserWarning: Environment variable \"HOME\" not set, setting home directory to /tmp\n",
            "  (environment_variable, parent_directory))\n"
          ],
          "name": "stderr"
        },
        {
          "output_type": "stream",
          "text": [
            "Notebook initialized with x3d backend.\n",
            "Notebook initialized with x3d backend.\n",
            "Notebook initialized with x3d backend.\n",
            "Notebook initialized with x3d backend.\n"
          ],
          "name": "stdout"
        }
      ]
    },
    {
      "cell_type": "code",
      "metadata": {
        "id": "HtMdJxpJqNaw",
        "colab_type": "code",
        "outputId": "60d6b040-5b71-4621-b65d-cc9d27605e98",
        "colab": {
          "base_uri": "https://localhost:8080/",
          "height": 367
        }
      },
      "source": [
        "from IPython.display import Image, display_png\n",
        "\n",
        "display_png(Image(\"mesh1.png\"))\n"
      ],
      "execution_count": 0,
      "outputs": [
        {
          "output_type": "display_data",
          "data": {
            "image/png": "[encoded data removed]"
          },
          "metadata": {
            "tags": []
          }
        }
      ]
    },
    {
      "cell_type": "code",
      "metadata": {
        "id": "hKK-Op-0qSWN",
        "colab_type": "code",
        "outputId": "346162f6-f69a-40ee-ac13-6d99b4f52fd3",
        "colab": {
          "base_uri": "https://localhost:8080/",
          "height": 367
        }
      },
      "source": [
        "from IPython.display import Image, display_png\n",
        "\n",
        "display_png(Image(\"mesh2.png\"))\n"
      ],
      "execution_count": 0,
      "outputs": [
        {
          "output_type": "display_data",
          "data": {
            "image/png": "[encoded data removed]"
          },
          "metadata": {
            "tags": []
          }
        }
      ]
    },
    {
      "cell_type": "code",
      "metadata": {
        "id": "waCG51rWqUd9",
        "colab_type": "code",
        "outputId": "acabf237-4712-4ad8-ab29-33eaef362a70",
        "colab": {
          "base_uri": "https://localhost:8080/",
          "height": 367
        }
      },
      "source": [
        "from IPython.display import Image, display_png\n",
        "\n",
        "display_png(Image(\"mesh3.png\"))\n"
      ],
      "execution_count": 0,
      "outputs": [
        {
          "output_type": "display_data",
          "data": {
            "image/png": "[encoded data removed]"
          },
          "metadata": {
            "tags": []
          }
        }
      ]
    },
    {
      "cell_type": "code",
      "metadata": {
        "id": "eebOMXDKqZ4e",
        "colab_type": "code",
        "outputId": "368bc01f-4542-4721-ab8a-2a9a9e8d187e",
        "colab": {
          "base_uri": "https://localhost:8080/",
          "height": 367
        }
      },
      "source": [
        "from IPython.display import Image, display_png\n",
        "\n",
        "display_png(Image(\"mesh4.png\"))\n"
      ],
      "execution_count": 0,
      "outputs": [
        {
          "output_type": "display_data",
          "data": {
            "image/png": "[encoded data removed]"
          },
          "metadata": {
            "tags": []
          }
        }
      ]
    },
    {
      "cell_type": "markdown",
      "metadata": {
        "id": "ft8YGlwgswMF",
        "colab_type": "text"
      },
      "source": [
        "### 領域\n",
        "\n",
        "メッシュの左側面にDirichlet条件を設定する領域を設定します。右側面にはNeumann条件を設定するための領域を設定します。"
      ]
    },
    {
      "cell_type": "code",
      "metadata": {
        "id": "KHZ87B4NuVkH",
        "colab_type": "code",
        "colab": {}
      },
      "source": [
        "TOP_BOUND = 1\n",
        "RIGHT_BOUND = 2\n",
        "LEFT_BOUND = 3\n",
        "BOTTOM_BOUND = 4\n",
        "\n",
        "for mesh in meshs:\n",
        "    fb1 = mesh.outer_faces_with_direction([0.0, 1.0], 0.01)\n",
        "    fb2 = mesh.outer_faces_with_direction([1.0, 0.0], 0.01)\n",
        "    fb3 = mesh.outer_faces_with_direction([-1.0, 0.0], 0.01)\n",
        "    fb4 = mesh.outer_faces_with_direction([0.0, -1.0], 0.01)\n",
        "    mesh.set_region(TOP_BOUND, fb1)\n",
        "    mesh.set_region(RIGHT_BOUND, fb2)\n",
        "    mesh.set_region(LEFT_BOUND, fb3)\n",
        "    mesh.set_region(BOTTOM_BOUND, fb4)\n"
      ],
      "execution_count": 0,
      "outputs": []
    },
    {
      "cell_type": "markdown",
      "metadata": {
        "id": "wmc1X8kxuI0U",
        "colab_type": "text"
      },
      "source": [
        "### 有限要素法\n",
        "MeshFemオブジェクトを作成しメッシュと有限要素法を関連付けます。"
      ]
    },
    {
      "cell_type": "code",
      "metadata": {
        "id": "BZMl4G9fuHNw",
        "colab_type": "code",
        "colab": {}
      },
      "source": [
        "fems = []\n",
        "for fem_name in fem_names:\n",
        "    fems.append(gf.Fem(\"FEM_PRODUCT(\" + fem_name + \",\" + fem_name + \")\"))\n"
      ],
      "execution_count": 0,
      "outputs": []
    },
    {
      "cell_type": "code",
      "metadata": {
        "id": "Cmfiow4MviZF",
        "colab_type": "code",
        "colab": {}
      },
      "source": [
        "mfus = []\n",
        "for mesh, fem in zip(meshs, fems):\n",
        "    mfu = gf.MeshFem(mesh, 2)\n",
        "    mfu.set_fem(fem)\n",
        "    mfus.append(mfu)\n"
      ],
      "execution_count": 0,
      "outputs": []
    },
    {
      "cell_type": "markdown",
      "metadata": {
        "id": "DsCLZKKfwrpx",
        "colab_type": "text"
      },
      "source": [
        "### 積分法\n",
        "積分法をメッシュと関連付けます。"
      ]
    },
    {
      "cell_type": "code",
      "metadata": {
        "id": "XyAaD48IwA0r",
        "colab_type": "code",
        "colab": {}
      },
      "source": [
        "ims = []\n",
        "# 2次完全積分 1方向の積分点数(4/2+1)=3\n",
        "ims.append(gf.Integ(\"IM_PRODUCT(IM_GAUSS1D(4), IM_GAUSS1D(4))\"))\n",
        "# 2次完全積分 1方向の積分点数(4/2+1)=3\n",
        "ims.append(gf.Integ(\"IM_PRODUCT(IM_GAUSS1D(4), IM_GAUSS1D(4))\"))\n",
        "# 2次完全積分 1方向の積分点数(4/2+1)=3\n",
        "ims.append(gf.Integ(\"IM_PRODUCT(IM_GAUSS1D(4), IM_GAUSS1D(4))\"))\n",
        "# 2次完全積分 1方向の積分点数(4/2+1)=3\n",
        "ims.append(gf.Integ(\"IM_PRODUCT(IM_GAUSS1D(4), IM_GAUSS1D(4))\"))\n",
        "# 1次完全積分 1方向の積分点数(2/2+1)=2\n",
        "ims.append(gf.Integ(\"IM_PRODUCT(IM_GAUSS1D(2), IM_GAUSS1D(2))\"))\n",
        "# 1次完全積分 1方向の積分点数(2/2+1)=2\n",
        "ims.append(gf.Integ(\"IM_PRODUCT(IM_GAUSS1D(2), IM_GAUSS1D(2))\"))\n",
        "# 1次完全積分 1方向の積分点数(2/2+1)=2\n",
        "ims.append(gf.Integ(\"IM_PRODUCT(IM_GAUSS1D(2), IM_GAUSS1D(2))\"))\n",
        "# 1次完全積分 1方向の積分点数(2/2+1)=2\n",
        "ims.append(gf.Integ(\"IM_PRODUCT(IM_GAUSS1D(2), IM_GAUSS1D(2))\"))\n",
        "# 1次低減積分 1方向の積分点数(0/2+1)=1\n",
        "ims.append(gf.Integ(\"IM_PRODUCT(IM_GAUSS1D(0), IM_GAUSS1D(0))\"))\n",
        "# 1次低減積分 1方向の積分点数(0/2+1)=1\n",
        "ims.append(gf.Integ(\"IM_PRODUCT(IM_GAUSS1D(0), IM_GAUSS1D(0))\"))\n",
        "# 1次低減積分 1方向の積分点数(0/2+1)=1\n",
        "ims.append(gf.Integ(\"IM_PRODUCT(IM_GAUSS1D(0), IM_GAUSS1D(0))\"))\n",
        "# 1次低減積分 1方向の積分点数(0/2+1)=1\n",
        "ims.append(gf.Integ(\"IM_PRODUCT(IM_GAUSS1D(0), IM_GAUSS1D(0))\"))\n",
        "# 非適合要素完全積分 1方向の積分点数(4/2+1)=3\n",
        "ims.append(gf.Integ(\"IM_PRODUCT(IM_GAUSS1D(4), IM_GAUSS1D(4))\"))\n",
        "# 非適合要素完全積分 1方向の積分点数(4/2+1)=3\n",
        "ims.append(gf.Integ(\"IM_PRODUCT(IM_GAUSS1D(4), IM_GAUSS1D(4))\"))\n",
        "# 非適合要素完全積分 1方向の積分点数(4/2+1)=3\n",
        "ims.append(gf.Integ(\"IM_PRODUCT(IM_GAUSS1D(4), IM_GAUSS1D(4))\"))\n",
        "# 非適合要素完全積分 1方向の積分点数(4/2+1)=3\n",
        "ims.append(gf.Integ(\"IM_PRODUCT(IM_GAUSS1D(4), IM_GAUSS1D(4))\"))\n"
      ],
      "execution_count": 0,
      "outputs": []
    },
    {
      "cell_type": "code",
      "metadata": {
        "id": "MzAy5F_XxyVU",
        "colab_type": "code",
        "colab": {}
      },
      "source": [
        "mims = []\n",
        "for mesh, im in zip(meshs, ims):\n",
        "    mim = gf.MeshIm(mesh, im)\n",
        "    mims.append(mim)\n"
      ],
      "execution_count": 0,
      "outputs": []
    },
    {
      "cell_type": "markdown",
      "metadata": {
        "id": "inmXMhiDzynb",
        "colab_type": "text"
      },
      "source": [
        "### 変数\n",
        "モデルオブジェクトを定義して変数'u'を設定します。"
      ]
    },
    {
      "cell_type": "code",
      "metadata": {
        "id": "GQU-6EO-zbe0",
        "colab_type": "code",
        "colab": {}
      },
      "source": [
        "mds = []\n",
        "for mfu in mfus:\n",
        "    md = gf.Model(\"real\")\n",
        "    md.add_fem_variable(\"u\", mfu)\n",
        "    mds.append(md)\n"
      ],
      "execution_count": 0,
      "outputs": []
    },
    {
      "cell_type": "markdown",
      "metadata": {
        "id": "iZZsWtD21d93",
        "colab_type": "text"
      },
      "source": [
        "### 物性値\n",
        "モデルオブジェクトに対し物性値を定数として定義しておきます。鋼材を仮定しヤング率 E = 205000e+6 N/m2 とします。また、ポアソン効果を無視するためポアソン比 Nu = 0.0 とします。"
      ]
    },
    {
      "cell_type": "code",
      "metadata": {
        "id": "9QjugTGu14Gj",
        "colab_type": "code",
        "colab": {}
      },
      "source": [
        "E = 10000  # [N/mm2]\n",
        "Nu = 0.0\n",
        "\n",
        "for md in mds:\n",
        "    md.add_initialized_data(\"E\", E)\n",
        "    md.add_initialized_data(\"Nu\", Nu)\n"
      ],
      "execution_count": 0,
      "outputs": []
    },
    {
      "cell_type": "markdown",
      "metadata": {
        "id": "gSF5W36n00E7",
        "colab_type": "text"
      },
      "source": [
        "### 平面ひずみ要素\n",
        "変数'u'に対し平面ひずみ要素を定義します。"
      ]
    },
    {
      "cell_type": "code",
      "metadata": {
        "id": "BYQ4PrIezwcM",
        "colab_type": "code",
        "colab": {}
      },
      "source": [
        "for md, mim in zip(mds, mims):\n",
        "    md.add_isotropic_linearized_elasticity_brick_pstrain(mim, \"u\", \"E\", \"Nu\")\n"
      ],
      "execution_count": 0,
      "outputs": []
    },
    {
      "cell_type": "markdown",
      "metadata": {
        "id": "hPQ4wVVM3iK8",
        "colab_type": "text"
      },
      "source": [
        "### 境界条件\n",
        "\n",
        "左側面の領域にDirichlet条件を設定します。"
      ]
    },
    {
      "cell_type": "code",
      "metadata": {
        "id": "P-rLV-Bp24II",
        "colab_type": "code",
        "colab": {}
      },
      "source": [
        "for (md, mim, mfu, fem) in zip(mds, mims, mfus, fems):\n",
        "    if fem.is_lagrange():\n",
        "        md.add_Dirichlet_condition_with_simplification(\"u\", LEFT_BOUND)\n",
        "    else:\n",
        "        md.add_Dirichlet_condition_with_multipliers(mim, \"u\", mfu, LEFT_BOUND)\n"
      ],
      "execution_count": 0,
      "outputs": []
    },
    {
      "cell_type": "markdown",
      "metadata": {
        "id": "7WMVp20z5Nhh",
        "colab_type": "text"
      },
      "source": [
        "右側面にNeumann境界条件を設定します。"
      ]
    },
    {
      "cell_type": "code",
      "metadata": {
        "id": "58PYqaOb45Tk",
        "colab_type": "code",
        "colab": {}
      },
      "source": [
        "F = 1.0  # N/mm2\n",
        "for (md, mfu, mim) in zip(mds, mfus, mims):\n",
        "    md.add_initialized_data(\"F\", [0, F / (b * h)])\n",
        "    md.add_source_term_brick(mim, \"u\", \"F\", RIGHT_BOUND)\n"
      ],
      "execution_count": 0,
      "outputs": []
    },
    {
      "cell_type": "markdown",
      "metadata": {
        "id": "wzRniIhB-sEI",
        "colab_type": "text"
      },
      "source": [
        "## 求解\n",
        "\n",
        "作成したモデルオブジェクトの連立方程式を解き変数'u'の値を求めます。"
      ]
    },
    {
      "cell_type": "code",
      "metadata": {
        "id": "Ga_ybGEB_COm",
        "colab_type": "code",
        "colab": {}
      },
      "source": [
        "for md in mds:\n",
        "    md.solve()\n"
      ],
      "execution_count": 0,
      "outputs": []
    },
    {
      "cell_type": "markdown",
      "metadata": {
        "id": "n948RG_OBhMB",
        "colab_type": "text"
      },
      "source": [
        "連立方程式を解いた後は右辺rhsを出力可能です。"
      ]
    },
    {
      "cell_type": "code",
      "metadata": {
        "id": "KyyvtZc6Bzor",
        "colab_type": "code",
        "outputId": "3f92d4d5-5eb2-4df0-a89d-808a043d15be",
        "colab": {
          "base_uri": "https://localhost:8080/",
          "height": 312
        }
      },
      "source": [
        "for md in mds:\n",
        "    print(sum(md.rhs()))\n"
      ],
      "execution_count": 0,
      "outputs": [
        {
          "output_type": "stream",
          "text": [
            "1.000000000000002\n",
            "1.000000000000002\n",
            "1.000000000000002\n",
            "1.000000000000002\n",
            "0.9999999999999996\n",
            "0.9999999999999996\n",
            "0.9999999999999996\n",
            "0.9999999999999998\n",
            "1.0\n",
            "1.0\n",
            "1.0\n",
            "1.0\n",
            "1.166666666666669\n",
            "1.166666666666669\n",
            "1.166666666666669\n",
            "1.1666666666666687\n"
          ],
          "name": "stdout"
        }
      ]
    },
    {
      "cell_type": "markdown",
      "metadata": {
        "id": "H0p8QbwA_Ss6",
        "colab_type": "text"
      },
      "source": [
        "## 結果の確認\n",
        "\n",
        "各ケースの結果をvtkファイルに出力し可視化します。"
      ]
    },
    {
      "cell_type": "code",
      "metadata": {
        "id": "Yfz9hDGJAZKc",
        "colab_type": "code",
        "colab": {}
      },
      "source": [
        "vtks = [\n",
        "    \"u11.vtk\",\n",
        "    \"u12.vtk\",\n",
        "    \"u13.vtk\",\n",
        "    \"u14.vtk\",\n",
        "    \"u21.vtk\",\n",
        "    \"u22.vtk\",\n",
        "    \"u23.vtk\",\n",
        "    \"u24.vtk\",\n",
        "    \"u31.vtk\",\n",
        "    \"u32.vtk\",\n",
        "    \"u33.vtk\",\n",
        "    \"u34.vtk\",\n",
        "    \"u41.vtk\",\n",
        "    \"u42.vtk\",\n",
        "    \"u43.vtk\",\n",
        "    \"u44.vtk\",\n",
        "]\n",
        "for md, mfu, vtk in zip(mds, mfus, vtks):\n",
        "    u = md.variable(\"u\")\n",
        "    mfu.export_to_vtk(vtk, \"ascii\", mfu, u, \"u\")\n"
      ],
      "execution_count": 0,
      "outputs": []
    },
    {
      "cell_type": "code",
      "metadata": {
        "id": "xff7bVY_Ar-0",
        "colab_type": "code",
        "outputId": "348e2a29-6b7b-42db-b2c5-af74d274bd59",
        "colab": {
          "base_uri": "https://localhost:8080/",
          "height": 312
        }
      },
      "source": [
        "from mayavi import mlab\n",
        "\n",
        "vtks = [\n",
        "    \"u11.vtk\",\n",
        "    \"u12.vtk\",\n",
        "    \"u13.vtk\",\n",
        "    \"u14.vtk\",\n",
        "    \"u21.vtk\",\n",
        "    \"u22.vtk\",\n",
        "    \"u23.vtk\",\n",
        "    \"u24.vtk\",\n",
        "    \"u31.vtk\",\n",
        "    \"u32.vtk\",\n",
        "    \"u33.vtk\",\n",
        "    \"u34.vtk\",\n",
        "    \"u41.vtk\",\n",
        "    \"u42.vtk\",\n",
        "    \"u43.vtk\",\n",
        "    \"u44.vtk\",\n",
        "]\n",
        "pngs = [\n",
        "    \"u11.png\",\n",
        "    \"u12.png\",\n",
        "    \"u13.png\",\n",
        "    \"u14.png\",\n",
        "    \"u21.png\",\n",
        "    \"u22.png\",\n",
        "    \"u23.png\",\n",
        "    \"u24.png\",\n",
        "    \"u31.png\",\n",
        "    \"u32.png\",\n",
        "    \"u33.png\",\n",
        "    \"u34.png\",\n",
        "    \"u41.png\",\n",
        "    \"u42.png\",\n",
        "    \"u43.png\",\n",
        "    \"u44.png\",\n",
        "]\n",
        "\n",
        "for vtk, png in zip(vtks, pngs):\n",
        "    mlab.init_notebook()\n",
        "    vtk_file_reader = mlab.pipeline.open(vtk)\n",
        "    extract_edges = mlab.pipeline.extract_edges(vtk_file_reader)\n",
        "    warp_vector = mlab.pipeline.warp_vector(extract_edges)\n",
        "    surface = mlab.pipeline.surface(warp_vector)\n",
        "    mlab.show()\n",
        "    mlab.savefig(png)\n",
        "    mlab.clf()\n"
      ],
      "execution_count": 0,
      "outputs": [
        {
          "output_type": "stream",
          "text": [
            "Notebook initialized with x3d backend.\n",
            "Notebook initialized with x3d backend.\n",
            "Notebook initialized with x3d backend.\n",
            "Notebook initialized with x3d backend.\n",
            "Notebook initialized with x3d backend.\n",
            "Notebook initialized with x3d backend.\n",
            "Notebook initialized with x3d backend.\n",
            "Notebook initialized with x3d backend.\n",
            "Notebook initialized with x3d backend.\n",
            "Notebook initialized with x3d backend.\n",
            "Notebook initialized with x3d backend.\n",
            "Notebook initialized with x3d backend.\n",
            "Notebook initialized with x3d backend.\n",
            "Notebook initialized with x3d backend.\n",
            "Notebook initialized with x3d backend.\n",
            "Notebook initialized with x3d backend.\n"
          ],
          "name": "stdout"
        }
      ]
    },
    {
      "cell_type": "markdown",
      "metadata": {
        "id": "qnJP7kAfe9R5",
        "colab_type": "text"
      },
      "source": [
        "### 理論解の計算\n",
        "理論解との比較のために各座標におけるたわみを計算します。片持はりに集中荷重が与えられた際の理論解は次式です。\n",
        "\n",
        "$w\\left(x\\right)=\\dfrac{FL^3}{3EI}$"
      ]
    },
    {
      "cell_type": "code",
      "metadata": {
        "id": "UMmE4D_If7bl",
        "colab_type": "code",
        "outputId": "0b6afacb-35c7-45e5-be20-c294bf9fccc1",
        "colab": {
          "base_uri": "https://localhost:8080/",
          "height": 36
        }
      },
      "source": [
        "I = b * h ** 3 / 12\n",
        "w = F * L ** 3 / (3 * E * I)\n",
        "print(w)\n"
      ],
      "execution_count": 0,
      "outputs": [
        {
          "output_type": "stream",
          "text": [
            "0.4\n"
          ],
          "name": "stdout"
        }
      ]
    },
    {
      "cell_type": "markdown",
      "metadata": {
        "id": "69vtNG2wNwsH",
        "colab_type": "text"
      },
      "source": [
        "### ケース11の変形図"
      ]
    },
    {
      "cell_type": "code",
      "metadata": {
        "id": "mtC4Fh8uEJ6d",
        "colab_type": "code",
        "outputId": "b697119a-45fc-4b79-c523-74f1e3c04bfe",
        "colab": {
          "base_uri": "https://localhost:8080/",
          "height": 367
        }
      },
      "source": [
        "from IPython.display import Image, display_png\n",
        "\n",
        "display_png(Image(\"u11.png\"))\n"
      ],
      "execution_count": 0,
      "outputs": [
        {
          "output_type": "display_data",
          "data": {
            "image/png": "[encoded data removed]"
          },
          "metadata": {
            "tags": []
          }
        }
      ]
    },
    {
      "cell_type": "markdown",
      "metadata": {
        "id": "ptYbOWxXOuYZ",
        "colab_type": "text"
      },
      "source": [
        "### ケース12の変形図"
      ]
    },
    {
      "cell_type": "code",
      "metadata": {
        "id": "eP3m4aNDHo0o",
        "colab_type": "code",
        "outputId": "1a3fc2ea-0668-4eed-91bc-88ae6c5a0309",
        "colab": {
          "base_uri": "https://localhost:8080/",
          "height": 367
        }
      },
      "source": [
        "from IPython.display import Image, display_png\n",
        "\n",
        "display_png(Image(\"u12.png\"))\n"
      ],
      "execution_count": 0,
      "outputs": [
        {
          "output_type": "display_data",
          "data": {
            "image/png": "[encoded data removed]"
          },
          "metadata": {
            "tags": []
          }
        }
      ]
    },
    {
      "cell_type": "markdown",
      "metadata": {
        "id": "17AGRkZ2PFa7",
        "colab_type": "text"
      },
      "source": [
        "### ケース13の変形図"
      ]
    },
    {
      "cell_type": "code",
      "metadata": {
        "id": "1WSB1NhJJ6Gk",
        "colab_type": "code",
        "outputId": "df9ce75d-2b8e-4da4-fb12-772b8182d06f",
        "colab": {
          "base_uri": "https://localhost:8080/",
          "height": 367
        }
      },
      "source": [
        "from IPython.display import Image, display_png\n",
        "\n",
        "display_png(Image(\"u13.png\"))\n"
      ],
      "execution_count": 0,
      "outputs": [
        {
          "output_type": "display_data",
          "data": {
            "image/png": "[encoded data removed]"
          },
          "metadata": {
            "tags": []
          }
        }
      ]
    },
    {
      "cell_type": "markdown",
      "metadata": {
        "id": "jc2cZkG5PIVw",
        "colab_type": "text"
      },
      "source": [
        "### ケース14の変形図"
      ]
    },
    {
      "cell_type": "code",
      "metadata": {
        "id": "YLdfHTXrJ778",
        "colab_type": "code",
        "outputId": "c424c57b-88c9-4ae5-f5d9-40c85fec55ea",
        "colab": {
          "base_uri": "https://localhost:8080/",
          "height": 367
        }
      },
      "source": [
        "from IPython.display import Image, display_png\n",
        "\n",
        "display_png(Image(\"u14.png\"))\n"
      ],
      "execution_count": 0,
      "outputs": [
        {
          "output_type": "display_data",
          "data": {
            "image/png": "[encoded data removed]"
          },
          "metadata": {
            "tags": []
          }
        }
      ]
    },
    {
      "cell_type": "markdown",
      "metadata": {
        "id": "HwiVdED1PKzD",
        "colab_type": "text"
      },
      "source": [
        "### ケース21の変形図"
      ]
    },
    {
      "cell_type": "code",
      "metadata": {
        "id": "kON4lrbaJ9xk",
        "colab_type": "code",
        "outputId": "ef211281-5643-403c-ca0a-9f0d6e527597",
        "colab": {
          "base_uri": "https://localhost:8080/",
          "height": 367
        }
      },
      "source": [
        "from IPython.display import Image, display_png\n",
        "\n",
        "display_png(Image(\"u21.png\"))\n"
      ],
      "execution_count": 0,
      "outputs": [
        {
          "output_type": "display_data",
          "data": {
            "image/png": "[encoded data removed]"
          },
          "metadata": {
            "tags": []
          }
        }
      ]
    },
    {
      "cell_type": "markdown",
      "metadata": {
        "id": "jCV589NKPTpf",
        "colab_type": "text"
      },
      "source": [
        "### ケース22の変形図"
      ]
    },
    {
      "cell_type": "code",
      "metadata": {
        "id": "as9IYstcKATw",
        "colab_type": "code",
        "outputId": "ec5d83d7-ea0c-4373-b04b-26e1438dcf71",
        "colab": {
          "base_uri": "https://localhost:8080/",
          "height": 367
        }
      },
      "source": [
        "from IPython.display import Image, display_png\n",
        "\n",
        "display_png(Image(\"u22.png\"))\n"
      ],
      "execution_count": 0,
      "outputs": [
        {
          "output_type": "display_data",
          "data": {
            "image/png": "[encoded data removed]"
          },
          "metadata": {
            "tags": []
          }
        }
      ]
    },
    {
      "cell_type": "markdown",
      "metadata": {
        "id": "PY_KrYPAPQ_K",
        "colab_type": "text"
      },
      "source": [
        "### ケース23の変形図"
      ]
    },
    {
      "cell_type": "code",
      "metadata": {
        "id": "XTqMfwfdKBl2",
        "colab_type": "code",
        "outputId": "5ea23a5b-2ba9-46be-bcda-9c82515c4f91",
        "colab": {
          "base_uri": "https://localhost:8080/",
          "height": 367
        }
      },
      "source": [
        "from IPython.display import Image, display_png\n",
        "\n",
        "display_png(Image(\"u23.png\"))\n"
      ],
      "execution_count": 0,
      "outputs": [
        {
          "output_type": "display_data",
          "data": {
            "image/png": "[encoded data removed]"
          },
          "metadata": {
            "tags": []
          }
        }
      ]
    },
    {
      "cell_type": "markdown",
      "metadata": {
        "id": "Osw87MFZPXHn",
        "colab_type": "text"
      },
      "source": [
        "### ケース24の変形図"
      ]
    },
    {
      "cell_type": "code",
      "metadata": {
        "id": "u0iE0RcYKC5i",
        "colab_type": "code",
        "outputId": "8a28fb64-db13-4c62-c8aa-f9f4b1c3a27b",
        "colab": {
          "base_uri": "https://localhost:8080/",
          "height": 367
        }
      },
      "source": [
        "from IPython.display import Image, display_png\n",
        "\n",
        "display_png(Image(\"u24.png\"))\n"
      ],
      "execution_count": 0,
      "outputs": [
        {
          "output_type": "display_data",
          "data": {
            "image/png": "[encoded data removed]"
          },
          "metadata": {
            "tags": []
          }
        }
      ]
    },
    {
      "cell_type": "markdown",
      "metadata": {
        "id": "rQyj1kJzPaU_",
        "colab_type": "text"
      },
      "source": [
        "### ケース31の変形図"
      ]
    },
    {
      "cell_type": "code",
      "metadata": {
        "id": "bWNLQzmNKEA4",
        "colab_type": "code",
        "outputId": "5e7682a0-fa55-443d-e018-c574c209f9b3",
        "colab": {
          "base_uri": "https://localhost:8080/",
          "height": 367
        }
      },
      "source": [
        "from IPython.display import Image, display_png\n",
        "\n",
        "display_png(Image(\"u31.png\"))\n"
      ],
      "execution_count": 0,
      "outputs": [
        {
          "output_type": "display_data",
          "data": {
            "image/png": "[encoded data removed]"
          },
          "metadata": {
            "tags": []
          }
        }
      ]
    },
    {
      "cell_type": "markdown",
      "metadata": {
        "id": "dEOU6jZLPdgE",
        "colab_type": "text"
      },
      "source": [
        "### ケース32の変形図"
      ]
    },
    {
      "cell_type": "code",
      "metadata": {
        "id": "3yFyuP9NKFud",
        "colab_type": "code",
        "outputId": "2ad62737-af12-4e5a-ebdb-cbe0590a01d6",
        "colab": {
          "base_uri": "https://localhost:8080/",
          "height": 367
        }
      },
      "source": [
        "from IPython.display import Image, display_png\n",
        "\n",
        "display_png(Image(\"u32.png\"))\n"
      ],
      "execution_count": 0,
      "outputs": [
        {
          "output_type": "display_data",
          "data": {
            "image/png": "[encoded data removed]"
          },
          "metadata": {
            "tags": []
          }
        }
      ]
    },
    {
      "cell_type": "markdown",
      "metadata": {
        "id": "Cn7FuHVNPfUt",
        "colab_type": "text"
      },
      "source": [
        "### ケース33の変形図"
      ]
    },
    {
      "cell_type": "code",
      "metadata": {
        "id": "zEaysK3GKG5H",
        "colab_type": "code",
        "outputId": "033e778b-f955-40ea-c72b-d590725ec8b9",
        "colab": {
          "base_uri": "https://localhost:8080/",
          "height": 367
        }
      },
      "source": [
        "from IPython.display import Image, display_png\n",
        "\n",
        "display_png(Image(\"u33.png\"))\n"
      ],
      "execution_count": 0,
      "outputs": [
        {
          "output_type": "display_data",
          "data": {
            "image/png": "[encoded data removed]"
          },
          "metadata": {
            "tags": []
          }
        }
      ]
    },
    {
      "cell_type": "markdown",
      "metadata": {
        "id": "9fnw5pfXPhNq",
        "colab_type": "text"
      },
      "source": [
        "### ケース34の変形図"
      ]
    },
    {
      "cell_type": "code",
      "metadata": {
        "id": "qDBpneknKIJj",
        "colab_type": "code",
        "outputId": "9a518fbe-f264-47bc-bc63-b2294e59faf0",
        "colab": {
          "base_uri": "https://localhost:8080/",
          "height": 367
        }
      },
      "source": [
        "from IPython.display import Image, display_png\n",
        "\n",
        "display_png(Image(\"u34.png\"))\n"
      ],
      "execution_count": 0,
      "outputs": [
        {
          "output_type": "display_data",
          "data": {
            "image/png": "[encoded data removed]"
          },
          "metadata": {
            "tags": []
          }
        }
      ]
    },
    {
      "cell_type": "markdown",
      "metadata": {
        "id": "MCKqxPBIPjCX",
        "colab_type": "text"
      },
      "source": [
        "### ケース41の変形図"
      ]
    },
    {
      "cell_type": "code",
      "metadata": {
        "id": "qhwFR0bnKJYR",
        "colab_type": "code",
        "outputId": "1efadf8e-a4c7-4c42-9997-8161d9bf083c",
        "colab": {
          "base_uri": "https://localhost:8080/",
          "height": 367
        }
      },
      "source": [
        "from IPython.display import Image, display_png\n",
        "\n",
        "display_png(Image(\"u41.png\"))\n"
      ],
      "execution_count": 0,
      "outputs": [
        {
          "output_type": "display_data",
          "data": {
            "image/png": "[encoded data removed]"
          },
          "metadata": {
            "tags": []
          }
        }
      ]
    },
    {
      "cell_type": "markdown",
      "metadata": {
        "id": "UJM9mumLPlsK",
        "colab_type": "text"
      },
      "source": [
        "### ケース42の変形図"
      ]
    },
    {
      "cell_type": "code",
      "metadata": {
        "id": "gJ11AuTIKKnr",
        "colab_type": "code",
        "outputId": "fa1c7e90-e24d-415c-b02e-e9cfd13f9e74",
        "colab": {
          "base_uri": "https://localhost:8080/",
          "height": 367
        }
      },
      "source": [
        "from IPython.display import Image, display_png\n",
        "\n",
        "display_png(Image(\"u42.png\"))\n"
      ],
      "execution_count": 0,
      "outputs": [
        {
          "output_type": "display_data",
          "data": {
            "image/png": "[encoded data removed]"
          },
          "metadata": {
            "tags": []
          }
        }
      ]
    },
    {
      "cell_type": "markdown",
      "metadata": {
        "id": "EVLdO58BPnsP",
        "colab_type": "text"
      },
      "source": [
        "### ケース43の変形図"
      ]
    },
    {
      "cell_type": "code",
      "metadata": {
        "id": "FEqhs7RbKNAr",
        "colab_type": "code",
        "outputId": "d178ead4-875f-4937-9543-5c3c2bc4f53a",
        "colab": {
          "base_uri": "https://localhost:8080/",
          "height": 367
        }
      },
      "source": [
        "from IPython.display import Image, display_png\n",
        "\n",
        "display_png(Image(\"u43.png\"))\n"
      ],
      "execution_count": 0,
      "outputs": [
        {
          "output_type": "display_data",
          "data": {
            "image/png": "[encoded data removed]"
          },
          "metadata": {
            "tags": []
          }
        }
      ]
    },
    {
      "cell_type": "markdown",
      "metadata": {
        "id": "2QVCW0t6PpcY",
        "colab_type": "text"
      },
      "source": [
        "### ケース44の変形図"
      ]
    },
    {
      "cell_type": "code",
      "metadata": {
        "id": "ajFVdPM8KOIy",
        "colab_type": "code",
        "outputId": "86cbae05-5cdf-4d19-b0ed-71047cdcad26",
        "colab": {
          "base_uri": "https://localhost:8080/",
          "height": 367
        }
      },
      "source": [
        "from IPython.display import Image, display_png\n",
        "\n",
        "display_png(Image(\"u44.png\"))\n"
      ],
      "execution_count": 0,
      "outputs": [
        {
          "output_type": "display_data",
          "data": {
            "image/png": "[encoded data removed]"
          },
          "metadata": {
            "tags": []
          }
        }
      ]
    },
    {
      "cell_type": "markdown",
      "metadata": {
        "id": "HngL2tNXPrem",
        "colab_type": "text"
      },
      "source": [
        "### 理論解との比較"
      ]
    },
    {
      "cell_type": "code",
      "metadata": {
        "id": "WKnwa4FSKP37",
        "colab_type": "code",
        "outputId": "7e6a4801-8fd5-47bd-b9a9-d9a5df3e8d4d",
        "colab": {
          "base_uri": "https://localhost:8080/",
          "height": 36
        }
      },
      "source": [
        "b = 1.0\n",
        "I = b*h**3.0/12.0\n",
        "dmax = 1.0/3.0*(F*L**3)/(E*I)\n",
        "dmax"
      ],
      "execution_count": 0,
      "outputs": [
        {
          "output_type": "execute_result",
          "data": {
            "text/plain": [
              "0.4"
            ]
          },
          "metadata": {
            "tags": []
          },
          "execution_count": 44
        }
      ]
    },
    {
      "cell_type": "markdown",
      "metadata": {
        "id": "4b_vSpwXVuaK",
        "colab_type": "text"
      },
      "source": [
        "各ケースの変形と理論解の比を計算します。右側面の変位の最大値を確認します。"
      ]
    },
    {
      "cell_type": "code",
      "metadata": {
        "id": "m2dq1_ypbPrp",
        "colab_type": "code",
        "outputId": "4a018a58-31eb-473d-b2bf-ec8f3f6db498",
        "colab": {
          "base_uri": "https://localhost:8080/",
          "height": 109
        }
      },
      "source": [
        "!pip install pandas==0.24.2"
      ],
      "execution_count": 0,
      "outputs": [
        {
          "output_type": "stream",
          "text": [
            "Requirement already satisfied: pandas==0.24.2 in /usr/local/lib/python2.7/dist-packages (0.24.2)\n",
            "Requirement already satisfied: numpy>=1.12.0 in /usr/local/lib/python2.7/dist-packages (from pandas==0.24.2) (1.16.4)\n",
            "Requirement already satisfied: pytz>=2011k in /usr/local/lib/python2.7/dist-packages (from pandas==0.24.2) (2018.9)\n",
            "Requirement already satisfied: python-dateutil>=2.5.0 in /usr/local/lib/python2.7/dist-packages (from pandas==0.24.2) (2.5.3)\n",
            "Requirement already satisfied: six>=1.5 in /usr/local/lib/python2.7/dist-packages (from python-dateutil>=2.5.0->pandas==0.24.2) (1.12.0)\n"
          ],
          "name": "stdout"
        }
      ]
    },
    {
      "cell_type": "code",
      "metadata": {
        "id": "Bgo8KTz2bXZV",
        "colab_type": "code",
        "outputId": "26bbc15a-3455-4976-d9a4-ba9d6669d56d",
        "colab": {
          "base_uri": "https://localhost:8080/",
          "height": 541
        }
      },
      "source": [
        "import pandas as pd\n",
        "\n",
        "pd.options.display.float_format = \"{:.2f}\".format\n",
        "\n",
        "\n",
        "data = []\n",
        "\n",
        "columns = [\"ケース名\", \"理論解との比率\"]\n",
        "\n",
        "for md, mfu, case in zip(mds, mfus, cases):\n",
        "    u = md.variable(\"u\")\n",
        "    dof = mfu.basic_dof_on_region(RIGHT_BOUND)\n",
        "    data.append([case, round(max(u[dof] / dmax), 3)])\n",
        "\n",
        "df = pd.DataFrame(data=data, columns=columns)\n",
        "df\n"
      ],
      "execution_count": 0,
      "outputs": [
        {
          "output_type": "execute_result",
          "data": {
            "text/html": [
              "<div>\n",
              "<style scoped>\n",
              "    .dataframe tbody tr th:only-of-type {\n",
              "        vertical-align: middle;\n",
              "    }\n",
              "\n",
              "    .dataframe tbody tr th {\n",
              "        vertical-align: top;\n",
              "    }\n",
              "\n",
              "    .dataframe thead th {\n",
              "        text-align: right;\n",
              "    }\n",
              "</style>\n",
              "<table border=\"1\" class=\"dataframe\">\n",
              "  <thead>\n",
              "    <tr style=\"text-align: right;\">\n",
              "      <th></th>\n",
              "      <th>ケース名</th>\n",
              "      <th>理論解との比率</th>\n",
              "    </tr>\n",
              "  </thead>\n",
              "  <tbody>\n",
              "    <tr>\n",
              "      <th>0</th>\n",
              "      <td>case11</td>\n",
              "      <td>1.00</td>\n",
              "    </tr>\n",
              "    <tr>\n",
              "      <th>1</th>\n",
              "      <td>case12</td>\n",
              "      <td>1.00</td>\n",
              "    </tr>\n",
              "    <tr>\n",
              "      <th>2</th>\n",
              "      <td>case13</td>\n",
              "      <td>1.00</td>\n",
              "    </tr>\n",
              "    <tr>\n",
              "      <th>3</th>\n",
              "      <td>case14</td>\n",
              "      <td>1.01</td>\n",
              "    </tr>\n",
              "    <tr>\n",
              "      <th>4</th>\n",
              "      <td>case21</td>\n",
              "      <td>0.24</td>\n",
              "    </tr>\n",
              "    <tr>\n",
              "      <th>5</th>\n",
              "      <td>case22</td>\n",
              "      <td>0.24</td>\n",
              "    </tr>\n",
              "    <tr>\n",
              "      <th>6</th>\n",
              "      <td>case23</td>\n",
              "      <td>0.24</td>\n",
              "    </tr>\n",
              "    <tr>\n",
              "      <th>7</th>\n",
              "      <td>case24</td>\n",
              "      <td>0.84</td>\n",
              "    </tr>\n",
              "    <tr>\n",
              "      <th>8</th>\n",
              "      <td>case31</td>\n",
              "      <td>65235544550.74</td>\n",
              "    </tr>\n",
              "    <tr>\n",
              "      <th>9</th>\n",
              "      <td>case32</td>\n",
              "      <td>1.32</td>\n",
              "    </tr>\n",
              "    <tr>\n",
              "      <th>10</th>\n",
              "      <td>case33</td>\n",
              "      <td>1.06</td>\n",
              "    </tr>\n",
              "    <tr>\n",
              "      <th>11</th>\n",
              "      <td>case34</td>\n",
              "      <td>1.02</td>\n",
              "    </tr>\n",
              "    <tr>\n",
              "      <th>12</th>\n",
              "      <td>case41</td>\n",
              "      <td>1.00</td>\n",
              "    </tr>\n",
              "    <tr>\n",
              "      <th>13</th>\n",
              "      <td>case42</td>\n",
              "      <td>1.00</td>\n",
              "    </tr>\n",
              "    <tr>\n",
              "      <th>14</th>\n",
              "      <td>case43</td>\n",
              "      <td>1.00</td>\n",
              "    </tr>\n",
              "    <tr>\n",
              "      <th>15</th>\n",
              "      <td>case44</td>\n",
              "      <td>1.01</td>\n",
              "    </tr>\n",
              "  </tbody>\n",
              "</table>\n",
              "</div>"
            ],
            "text/plain": [
              "      ケース名        理論解との比率\n",
              "0   case11           1.00\n",
              "1   case12           1.00\n",
              "2   case13           1.00\n",
              "3   case14           1.01\n",
              "4   case21           0.24\n",
              "5   case22           0.24\n",
              "6   case23           0.24\n",
              "7   case24           0.84\n",
              "8   case31 65235544550.74\n",
              "9   case32           1.32\n",
              "10  case33           1.06\n",
              "11  case34           1.02\n",
              "12  case41           1.00\n",
              "13  case42           1.00\n",
              "14  case43           1.00\n",
              "15  case44           1.01"
            ]
          },
          "metadata": {
            "tags": []
          },
          "execution_count": 46
        }
      ]
    },
    {
      "cell_type": "code",
      "metadata": {
        "id": "0drc4XH2fDCr",
        "colab_type": "code",
        "colab": {}
      },
      "source": [
        ""
      ],
      "execution_count": 0,
      "outputs": []
    }
  ]
}