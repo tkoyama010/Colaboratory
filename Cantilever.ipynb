{
  "nbformat": 4,
  "nbformat_minor": 0,
  "metadata": {
    "colab": {
      "name": "Cantilever.ipynb",
      "provenance": [],
      "collapsed_sections": [],
      "include_colab_link": true
    },
    "kernelspec": {
      "name": "python2",
      "display_name": "Python 2"
    }
  },
  "cells": [
    {
      "cell_type": "markdown",
      "metadata": {
        "id": "view-in-github",
        "colab_type": "text"
      },
      "source": [
        "<a href=\"https://colab.research.google.com/github/tkoyama010/Colaboratory/blob/master/Cantilever.ipynb\" target=\"_parent\"><img src=\"https://colab.research.google.com/assets/colab-badge.svg\" alt=\"Open In Colab\"/></a>"
      ]
    },
    {
      "cell_type": "markdown",
      "metadata": {
        "id": "L_IS3iGB1kNR",
        "colab_type": "text"
      },
      "source": [
        "# 片持ちはりの検討\n",
        "\n",
        "有限要素法ライブラリGetFEM++を使用して片持ちはりの検討を行います。まずは、GetFEM++をインストールします。"
      ]
    },
    {
      "cell_type": "markdown",
      "metadata": {
        "id": "A3Y7EudS_mVB",
        "colab_type": "text"
      },
      "source": [
        "## ライブラリのインストール"
      ]
    },
    {
      "cell_type": "code",
      "metadata": {
        "id": "78voqqWq1ma_",
        "colab_type": "code",
        "outputId": "63fb78da-e536-4e31-a42e-58a86c415613",
        "colab": {
          "base_uri": "https://localhost:8080/",
          "height": 1000
        }
      },
      "source": [
        "!apt install python-getfem++=5.2+dfsg1-6"
      ],
      "execution_count": 0,
      "outputs": [
        {
          "output_type": "stream",
          "text": [
            "Reading package lists... Done\n",
            "Building dependency tree       \n",
            "Reading state information... Done\n",
            "The following additional packages will be installed:\n",
            "  libgetfem5++ libmumps-seq-5.1.2 libscotch-6.0 python-decorator\n",
            "  python-olefile python-pil python-scipy\n",
            "Suggested packages:\n",
            "  python-pil-doc python-pil-dbg python-scipy-doc\n",
            "The following NEW packages will be installed:\n",
            "  libgetfem5++ libmumps-seq-5.1.2 libscotch-6.0 python-decorator\n",
            "  python-getfem++ python-olefile python-pil python-scipy\n",
            "0 upgraded, 8 newly installed, 0 to remove and 25 not upgraded.\n",
            "Need to get 15.2 MB of archives.\n",
            "After this operation, 66.2 MB of additional disk space will be used.\n",
            "Get:1 http://archive.ubuntu.com/ubuntu bionic/universe amd64 libscotch-6.0 amd64 6.0.4.dfsg1-8 [403 kB]\n",
            "Get:2 http://archive.ubuntu.com/ubuntu bionic/universe amd64 libmumps-seq-5.1.2 amd64 5.1.2-4 [1,119 kB]\n",
            "Get:3 http://archive.ubuntu.com/ubuntu bionic/main amd64 python-decorator all 4.1.2-1 [9,300 B]\n",
            "Get:4 http://archive.ubuntu.com/ubuntu bionic/main amd64 python-olefile all 0.45.1-1 [33.2 kB]\n",
            "Get:5 http://archive.ubuntu.com/ubuntu bionic-updates/main amd64 python-pil amd64 5.1.0-1ubuntu0.2 [329 kB]\n",
            "Get:6 http://archive.ubuntu.com/ubuntu bionic/universe amd64 libgetfem5++ amd64 5.2+dfsg1-6 [2,488 kB]\n",
            "Get:7 http://archive.ubuntu.com/ubuntu bionic/universe amd64 python-scipy amd64 0.19.1-2ubuntu1 [9,689 kB]\n",
            "Get:8 http://archive.ubuntu.com/ubuntu bionic/universe amd64 python-getfem++ amd64 5.2+dfsg1-6 [1,121 kB]\n",
            "Fetched 15.2 MB in 1s (11.1 MB/s)\n",
            "Selecting previously unselected package libscotch-6.0.\n",
            "(Reading database ... 134448 files and directories currently installed.)\n",
            "Preparing to unpack .../0-libscotch-6.0_6.0.4.dfsg1-8_amd64.deb ...\n",
            "Unpacking libscotch-6.0 (6.0.4.dfsg1-8) ...\n",
            "Selecting previously unselected package libmumps-seq-5.1.2:amd64.\n",
            "Preparing to unpack .../1-libmumps-seq-5.1.2_5.1.2-4_amd64.deb ...\n",
            "Unpacking libmumps-seq-5.1.2:amd64 (5.1.2-4) ...\n",
            "Selecting previously unselected package python-decorator.\n",
            "Preparing to unpack .../2-python-decorator_4.1.2-1_all.deb ...\n",
            "Unpacking python-decorator (4.1.2-1) ...\n",
            "Selecting previously unselected package python-olefile.\n",
            "Preparing to unpack .../3-python-olefile_0.45.1-1_all.deb ...\n",
            "Unpacking python-olefile (0.45.1-1) ...\n",
            "Selecting previously unselected package python-pil:amd64.\n",
            "Preparing to unpack .../4-python-pil_5.1.0-1ubuntu0.2_amd64.deb ...\n",
            "Unpacking python-pil:amd64 (5.1.0-1ubuntu0.2) ...\n",
            "Selecting previously unselected package libgetfem5++:amd64.\n",
            "Preparing to unpack .../5-libgetfem5++_5.2+dfsg1-6_amd64.deb ...\n",
            "Unpacking libgetfem5++:amd64 (5.2+dfsg1-6) ...\n",
            "Selecting previously unselected package python-scipy.\n",
            "Preparing to unpack .../6-python-scipy_0.19.1-2ubuntu1_amd64.deb ...\n",
            "Unpacking python-scipy (0.19.1-2ubuntu1) ...\n",
            "Selecting previously unselected package python-getfem++.\n",
            "Preparing to unpack .../7-python-getfem++_5.2+dfsg1-6_amd64.deb ...\n",
            "Unpacking python-getfem++ (5.2+dfsg1-6) ...\n",
            "Setting up libscotch-6.0 (6.0.4.dfsg1-8) ...\n",
            "Setting up libmumps-seq-5.1.2:amd64 (5.1.2-4) ...\n",
            "Setting up libgetfem5++:amd64 (5.2+dfsg1-6) ...\n",
            "Setting up python-olefile (0.45.1-1) ...\n",
            "Setting up python-decorator (4.1.2-1) ...\n",
            "Setting up python-pil:amd64 (5.1.0-1ubuntu0.2) ...\n",
            "Setting up python-scipy (0.19.1-2ubuntu1) ...\n",
            "Setting up python-getfem++ (5.2+dfsg1-6) ...\n",
            "Processing triggers for libc-bin (2.27-3ubuntu1) ...\n",
            "/sbin/ldconfig.real: /usr/local/lib/python3.6/dist-packages/ideep4py/lib/libmkldnn.so.0 is not a symbolic link\n",
            "\n"
          ],
          "name": "stdout"
        }
      ]
    },
    {
      "cell_type": "markdown",
      "metadata": {
        "id": "kSL_se6E29FQ",
        "colab_type": "text"
      },
      "source": [
        "次に可視化ソフトMayavi2をインストールします。"
      ]
    },
    {
      "cell_type": "code",
      "metadata": {
        "id": "o-APQqlN2_HY",
        "colab_type": "code",
        "outputId": "ca88b3dc-5299-4f58-ec88-3b8f93f8a891",
        "colab": {
          "base_uri": "https://localhost:8080/",
          "height": 1000
        }
      },
      "source": [
        "!apt install mayavi2=4.5.0-1"
      ],
      "execution_count": 0,
      "outputs": [
        {
          "output_type": "stream",
          "text": [
            "Reading package lists... Done\n",
            "Building dependency tree       \n",
            "Reading state information... Done\n",
            "The following additional packages will be installed:\n",
            "  avahi-daemon bind9-host cython geoclue-2.0 geoip-database\n",
            "  gstreamer1.0-plugins-base iio-sensor-proxy javascript-common libaudio2\n",
            "  libavahi-core7 libavahi-glib1 libbind9-160 libbrotli1 libcap2-bin\n",
            "  libcdparanoia0 libdaemon0 libdns1100 libgeoclue-2-0 libgeoip1\n",
            "  libgl1-mesa-glx libgstreamer-plugins-base1.0-0 libgstreamer1.0-0 libhyphen0\n",
            "  libisc169 libisccc160 libisccfg160 libjs-sphinxdoc libjs-underscore\n",
            "  liblwres160 libmbim-glib4 libmbim-proxy libmm-glib0 libmng2 libnl-genl-3-200\n",
            "  libnotify4 libnss-mdns liborc-0.4-0 libpam-cap libqmi-glib5 libqmi-proxy\n",
            "  libqt4-dbus libqt4-declarative libqt4-designer libqt4-help libqt4-network\n",
            "  libqt4-script libqt4-scripttools libqt4-sql libqt4-sql-mysql libqt4-svg\n",
            "  libqt4-test libqt4-xml libqt4-xmlpatterns libqt5opengl5 libqt5positioning5\n",
            "  libqt5qml5 libqt5quick5 libqt5sensors5 libqt5webchannel5 libqt5webkit5\n",
            "  libqtassistantclient4 libqtcore4 libqtdbus4 libqtgui4 libvisual-0.4-0\n",
            "  libvtk6.3-qt libwoff1 libwxbase3.0-0v5 libwxgtk3.0-gtk3-0v5 modemmanager\n",
            "  notification-daemon python-apptools python-asn1crypto python-attr\n",
            "  python-autobahn python-automat python-cbor python-cffi-backend\n",
            "  python-chardet python-click python-colorama python-concurrent.futures\n",
            "  python-configobj python-constantly python-cryptography python-enum34\n",
            "  python-envisage python-hyperlink python-idna python-incremental\n",
            "  python-ipaddress python-lz4 python-mpi4py python-nacl python-openssl\n",
            "  python-pam python-pkg-resources python-pyasn1 python-pyasn1-modules\n",
            "  python-pyface python-pygments python-qrcode python-qt4 python-serial\n",
            "  python-service-identity python-sip python-six python-snappy python-traits\n",
            "  python-traitsui python-trie python-trollius python-twisted\n",
            "  python-twisted-bin python-twisted-core python-txaio python-u-msgpack\n",
            "  python-ubjson python-vtk6 python-wsaccel python-wxgtk3.0 python-wxversion\n",
            "  python-zope.interface qdbus qt-at-spi qtcore4-l10n usb-modeswitch\n",
            "  usb-modeswitch-data wpasupplicant\n",
            "Suggested packages:\n",
            "  avahi-autoipd cython-doc gvfs apache2 | lighttpd | httpd nas geoip-bin\n",
            "  libvisual-0.4-plugins gstreamer1.0-tools avahi-autoipd | zeroconf\n",
            "  libqt4-declarative-folderlistmodel libqt4-declarative-gestures\n",
            "  libqt4-declarative-particles libqt4-declarative-shaders qt4-qmlviewer\n",
            "  libqt4-dev qt5-qmltooling-plugins libicu55 qt4-qtconfig ipython\n",
            "  python-attr-doc python-configobj-doc python-cryptography-doc\n",
            "  python-cryptography-vectors python-enum34-doc python-chaco python-nacl-doc\n",
            "  python-openssl-doc python-openssl-dbg python-pam-dbg python-setuptools\n",
            "  ttf-bitstream-vera python-qt4-dbg python-trie-doc python-twisted-bin-dbg\n",
            "  python-gtk2 python-glade2 python-qt3 python-txaio-doc vtk6-doc vtk6-examples\n",
            "  wx3.0-doc comgt wvdial wpagui libengine-pkcs11-openssl\n",
            "The following NEW packages will be installed:\n",
            "  avahi-daemon bind9-host cython geoclue-2.0 geoip-database\n",
            "  gstreamer1.0-plugins-base iio-sensor-proxy javascript-common libaudio2\n",
            "  libavahi-core7 libavahi-glib1 libbind9-160 libbrotli1 libcap2-bin\n",
            "  libcdparanoia0 libdaemon0 libdns1100 libgeoclue-2-0 libgeoip1\n",
            "  libgl1-mesa-glx libgstreamer-plugins-base1.0-0 libgstreamer1.0-0 libhyphen0\n",
            "  libisc169 libisccc160 libisccfg160 libjs-sphinxdoc libjs-underscore\n",
            "  liblwres160 libmbim-glib4 libmbim-proxy libmm-glib0 libmng2 libnl-genl-3-200\n",
            "  libnotify4 libnss-mdns liborc-0.4-0 libpam-cap libqmi-glib5 libqmi-proxy\n",
            "  libqt4-dbus libqt4-declarative libqt4-designer libqt4-help libqt4-network\n",
            "  libqt4-script libqt4-scripttools libqt4-sql libqt4-sql-mysql libqt4-svg\n",
            "  libqt4-test libqt4-xml libqt4-xmlpatterns libqt5opengl5 libqt5positioning5\n",
            "  libqt5qml5 libqt5quick5 libqt5sensors5 libqt5webchannel5 libqt5webkit5\n",
            "  libqtassistantclient4 libqtcore4 libqtdbus4 libqtgui4 libvisual-0.4-0\n",
            "  libvtk6.3-qt libwoff1 libwxbase3.0-0v5 libwxgtk3.0-gtk3-0v5 mayavi2\n",
            "  modemmanager notification-daemon python-apptools python-asn1crypto\n",
            "  python-attr python-autobahn python-automat python-cbor python-cffi-backend\n",
            "  python-chardet python-click python-colorama python-concurrent.futures\n",
            "  python-configobj python-constantly python-cryptography python-enum34\n",
            "  python-envisage python-hyperlink python-idna python-incremental\n",
            "  python-ipaddress python-lz4 python-mpi4py python-nacl python-openssl\n",
            "  python-pam python-pkg-resources python-pyasn1 python-pyasn1-modules\n",
            "  python-pyface python-pygments python-qrcode python-qt4 python-serial\n",
            "  python-service-identity python-sip python-six python-snappy python-traits\n",
            "  python-traitsui python-trie python-trollius python-twisted\n",
            "  python-twisted-bin python-twisted-core python-txaio python-u-msgpack\n",
            "  python-ubjson python-vtk6 python-wsaccel python-wxgtk3.0 python-wxversion\n",
            "  python-zope.interface qdbus qt-at-spi qtcore4-l10n usb-modeswitch\n",
            "  usb-modeswitch-data wpasupplicant\n",
            "0 upgraded, 130 newly installed, 0 to remove and 25 not upgraded.\n",
            "Need to get 87.9 MB of archives.\n",
            "After this operation, 310 MB of additional disk space will be used.\n",
            "Get:1 http://archive.ubuntu.com/ubuntu bionic/main amd64 libdaemon0 amd64 0.14-6 [16.6 kB]\n",
            "Get:2 http://archive.ubuntu.com/ubuntu bionic/universe amd64 libmng2 amd64 2.0.2-0ubuntu3 [169 kB]\n",
            "Get:3 http://archive.ubuntu.com/ubuntu bionic/main amd64 libcap2-bin amd64 1:2.25-1.2 [20.6 kB]\n",
            "Get:4 http://archive.ubuntu.com/ubuntu bionic-updates/main amd64 libgstreamer1.0-0 amd64 1.14.5-0ubuntu1~18.04.1 [865 kB]\n",
            "Get:5 http://archive.ubuntu.com/ubuntu bionic/main amd64 liborc-0.4-0 amd64 1:0.4.28-1 [137 kB]\n",
            "Get:6 http://archive.ubuntu.com/ubuntu bionic-updates/main amd64 libgstreamer-plugins-base1.0-0 amd64 1.14.5-0ubuntu1~18.04.1 [688 kB]\n",
            "Get:7 http://archive.ubuntu.com/ubuntu bionic/main amd64 libhyphen0 amd64 2.8.8-5 [26.5 kB]\n",
            "Get:8 http://archive.ubuntu.com/ubuntu bionic/universe amd64 libqt5positioning5 amd64 5.9.5+dfsg-0ubuntu2 [131 kB]\n",
            "Get:9 http://archive.ubuntu.com/ubuntu bionic-updates/universe amd64 libqt5qml5 amd64 5.9.5-0ubuntu1.1 [1,242 kB]\n",
            "Get:10 http://archive.ubuntu.com/ubuntu bionic-updates/universe amd64 libqt5quick5 amd64 5.9.5-0ubuntu1.1 [1,201 kB]\n",
            "Get:11 http://archive.ubuntu.com/ubuntu bionic/universe amd64 libqt5sensors5 amd64 5.9.5-0ubuntu1 [113 kB]\n",
            "Get:12 http://archive.ubuntu.com/ubuntu bionic/universe amd64 libqt5webchannel5 amd64 5.9.5-0ubuntu1 [47.7 kB]\n",
            "Get:13 http://archive.ubuntu.com/ubuntu bionic-updates/main amd64 libbrotli1 amd64 1.0.3-1ubuntu1.2 [262 kB]\n",
            "Get:14 http://archive.ubuntu.com/ubuntu bionic-updates/main amd64 libwoff1 amd64 1.0.2-1build0.1 [43.0 kB]\n",
            "Get:15 http://archive.ubuntu.com/ubuntu bionic/universe amd64 libqt5webkit5 amd64 5.212.0~alpha2-7ubuntu1 [11.8 MB]\n",
            "Get:16 http://archive.ubuntu.com/ubuntu bionic/main amd64 libpam-cap amd64 1:2.25-1.2 [7,268 B]\n",
            "Get:17 http://archive.ubuntu.com/ubuntu bionic-updates/main amd64 libisc169 amd64 1:9.11.3+dfsg-1ubuntu1.11 [237 kB]\n",
            "Get:18 http://archive.ubuntu.com/ubuntu bionic/main amd64 libgeoip1 amd64 1.6.12-1 [71.8 kB]\n",
            "Get:19 http://archive.ubuntu.com/ubuntu bionic-updates/main amd64 libdns1100 amd64 1:9.11.3+dfsg-1ubuntu1.11 [966 kB]\n",
            "Get:20 http://archive.ubuntu.com/ubuntu bionic-updates/main amd64 libisccc160 amd64 1:9.11.3+dfsg-1ubuntu1.11 [17.9 kB]\n",
            "Get:21 http://archive.ubuntu.com/ubuntu bionic-updates/main amd64 libisccfg160 amd64 1:9.11.3+dfsg-1ubuntu1.11 [48.5 kB]\n",
            "Get:22 http://archive.ubuntu.com/ubuntu bionic-updates/main amd64 libbind9-160 amd64 1:9.11.3+dfsg-1ubuntu1.11 [27.6 kB]\n",
            "Get:23 http://archive.ubuntu.com/ubuntu bionic-updates/main amd64 liblwres160 amd64 1:9.11.3+dfsg-1ubuntu1.11 [34.5 kB]\n",
            "Get:24 http://archive.ubuntu.com/ubuntu bionic-updates/main amd64 bind9-host amd64 1:9.11.3+dfsg-1ubuntu1.11 [53.6 kB]\n",
            "Get:25 http://archive.ubuntu.com/ubuntu bionic/main amd64 geoip-database all 20180315-1 [2,090 kB]\n",
            "Get:26 http://archive.ubuntu.com/ubuntu bionic-updates/main amd64 libavahi-core7 amd64 0.7-3.1ubuntu1.2 [81.1 kB]\n",
            "Get:27 http://archive.ubuntu.com/ubuntu bionic-updates/main amd64 avahi-daemon amd64 0.7-3.1ubuntu1.2 [62.3 kB]\n",
            "Get:28 http://archive.ubuntu.com/ubuntu bionic/universe amd64 cython amd64 0.26.1-0.4 [1,874 kB]\n",
            "Get:29 http://archive.ubuntu.com/ubuntu bionic-updates/main amd64 libavahi-glib1 amd64 0.7-3.1ubuntu1.2 [7,720 B]\n",
            "Get:30 http://archive.ubuntu.com/ubuntu bionic/main amd64 libgeoclue-2-0 amd64 2.4.7-1ubuntu1 [25.6 kB]\n",
            "Get:31 http://archive.ubuntu.com/ubuntu bionic-updates/main amd64 libmm-glib0 amd64 1.10.0-1~ubuntu18.04.2 [179 kB]\n",
            "Get:32 http://archive.ubuntu.com/ubuntu bionic/main amd64 geoclue-2.0 amd64 2.4.7-1ubuntu1 [80.6 kB]\n",
            "Get:33 http://archive.ubuntu.com/ubuntu bionic/main amd64 libcdparanoia0 amd64 3.10.2+debian-13 [46.7 kB]\n",
            "Get:34 http://archive.ubuntu.com/ubuntu bionic/main amd64 libvisual-0.4-0 amd64 0.4.0-11 [99.2 kB]\n",
            "Get:35 http://archive.ubuntu.com/ubuntu bionic-updates/main amd64 gstreamer1.0-plugins-base amd64 1.14.5-0ubuntu1~18.04.1 [587 kB]\n",
            "Get:36 http://archive.ubuntu.com/ubuntu bionic/main amd64 iio-sensor-proxy amd64 2.4-2 [45.0 kB]\n",
            "Get:37 http://archive.ubuntu.com/ubuntu bionic/main amd64 javascript-common all 11 [6,066 B]\n",
            "Get:38 http://archive.ubuntu.com/ubuntu bionic/main amd64 libaudio2 amd64 1.9.4-6 [50.3 kB]\n",
            "Get:39 http://archive.ubuntu.com/ubuntu bionic-updates/main amd64 libgl1-mesa-glx amd64 19.2.8-0ubuntu0~18.04.3 [5,528 B]\n",
            "Get:40 http://archive.ubuntu.com/ubuntu bionic/main amd64 libjs-underscore all 1.8.3~dfsg-1 [59.9 kB]\n",
            "Get:41 http://archive.ubuntu.com/ubuntu bionic/main amd64 libjs-sphinxdoc all 1.6.7-1ubuntu1 [85.6 kB]\n",
            "Get:42 http://archive.ubuntu.com/ubuntu bionic-updates/main amd64 libmbim-glib4 amd64 1.18.0-1~ubuntu18.04.1 [91.4 kB]\n",
            "Get:43 http://archive.ubuntu.com/ubuntu bionic-updates/main amd64 libmbim-proxy amd64 1.18.0-1~ubuntu18.04.1 [5,572 B]\n",
            "Get:44 http://archive.ubuntu.com/ubuntu bionic/main amd64 libnl-genl-3-200 amd64 3.2.29-0ubuntu3 [11.2 kB]\n",
            "Get:45 http://archive.ubuntu.com/ubuntu bionic/main amd64 libnotify4 amd64 0.7.7-3 [17.3 kB]\n",
            "Get:46 http://archive.ubuntu.com/ubuntu bionic/main amd64 libnss-mdns amd64 0.10-8ubuntu1 [21.2 kB]\n",
            "Get:47 http://archive.ubuntu.com/ubuntu bionic-updates/main amd64 libqmi-glib5 amd64 1.22.0-1.2~ubuntu18.04.1 [494 kB]\n",
            "Get:48 http://archive.ubuntu.com/ubuntu bionic-updates/main amd64 libqmi-proxy amd64 1.22.0-1.2~ubuntu18.04.1 [5,632 B]\n",
            "Get:49 http://archive.ubuntu.com/ubuntu bionic/universe amd64 qtcore4-l10n all 4:4.8.7+dfsg-7ubuntu1 [617 kB]\n",
            "Get:50 http://archive.ubuntu.com/ubuntu bionic/universe amd64 libqtcore4 amd64 4:4.8.7+dfsg-7ubuntu1 [1,552 kB]\n",
            "Get:51 http://archive.ubuntu.com/ubuntu bionic/universe amd64 libqt4-xml amd64 4:4.8.7+dfsg-7ubuntu1 [96.1 kB]\n",
            "Get:52 http://archive.ubuntu.com/ubuntu bionic/universe amd64 libqtdbus4 amd64 4:4.8.7+dfsg-7ubuntu1 [186 kB]\n",
            "Get:53 http://archive.ubuntu.com/ubuntu bionic/universe amd64 qdbus amd64 4:4.8.7+dfsg-7ubuntu1 [30.0 kB]\n",
            "Get:54 http://archive.ubuntu.com/ubuntu bionic/universe amd64 libqt4-dbus amd64 4:4.8.7+dfsg-7ubuntu1 [6,440 B]\n",
            "Get:55 http://archive.ubuntu.com/ubuntu bionic/universe amd64 libqt4-network amd64 4:4.8.7+dfsg-7ubuntu1 [562 kB]\n",
            "Get:56 http://archive.ubuntu.com/ubuntu bionic/universe amd64 libqt4-script amd64 4:4.8.7+dfsg-7ubuntu1 [815 kB]\n",
            "Get:57 http://archive.ubuntu.com/ubuntu bionic/universe amd64 libqt4-sql amd64 4:4.8.7+dfsg-7ubuntu1 [98.5 kB]\n",
            "Get:58 http://archive.ubuntu.com/ubuntu bionic/universe amd64 libqt4-xmlpatterns amd64 4:4.8.7+dfsg-7ubuntu1 [1,091 kB]\n",
            "Get:59 http://archive.ubuntu.com/ubuntu bionic/universe amd64 libqtgui4 amd64 4:4.8.7+dfsg-7ubuntu1 [4,115 kB]\n",
            "Get:60 http://archive.ubuntu.com/ubuntu bionic/universe amd64 libqt4-declarative amd64 4:4.8.7+dfsg-7ubuntu1 [1,089 kB]\n",
            "Get:61 http://archive.ubuntu.com/ubuntu bionic/universe amd64 libqt4-designer amd64 4:4.8.7+dfsg-7ubuntu1 [3,629 kB]\n",
            "Get:62 http://archive.ubuntu.com/ubuntu bionic/universe amd64 libqt4-help amd64 4:4.8.7+dfsg-7ubuntu1 [207 kB]\n",
            "Get:63 http://archive.ubuntu.com/ubuntu bionic/universe amd64 libqt4-scripttools amd64 4:4.8.7+dfsg-7ubuntu1 [225 kB]\n",
            "Get:64 http://archive.ubuntu.com/ubuntu bionic/universe amd64 libqt4-sql-mysql amd64 4:4.8.7+dfsg-7ubuntu1 [30.5 kB]\n",
            "Get:65 http://archive.ubuntu.com/ubuntu bionic/universe amd64 libqt4-svg amd64 4:4.8.7+dfsg-7ubuntu1 [138 kB]\n",
            "Get:66 http://archive.ubuntu.com/ubuntu bionic/universe amd64 libqt4-test amd64 4:4.8.7+dfsg-7ubuntu1 [61.2 kB]\n",
            "Get:67 http://archive.ubuntu.com/ubuntu bionic-updates/main amd64 libqt5opengl5 amd64 5.9.5+dfsg-0ubuntu2.5 [132 kB]\n",
            "Get:68 http://archive.ubuntu.com/ubuntu bionic/universe amd64 libqtassistantclient4 amd64 4.6.3-7build1 [12.7 kB]\n",
            "Get:69 http://archive.ubuntu.com/ubuntu bionic/universe amd64 libvtk6.3-qt amd64 6.3.0+dfsg1-11build1 [244 kB]\n",
            "Get:70 http://archive.ubuntu.com/ubuntu bionic/universe amd64 libwxbase3.0-0v5 amd64 3.0.4+dfsg-3 [954 kB]\n",
            "Get:71 http://archive.ubuntu.com/ubuntu bionic/universe amd64 libwxgtk3.0-gtk3-0v5 amd64 3.0.4+dfsg-3 [4,154 kB]\n",
            "Get:72 http://archive.ubuntu.com/ubuntu bionic/universe amd64 python-traits amd64 4.6.0-1ubuntu2 [233 kB]\n",
            "Get:73 http://archive.ubuntu.com/ubuntu bionic/main amd64 python-pygments all 2.2.0+dfsg-1 [577 kB]\n",
            "Get:74 http://archive.ubuntu.com/ubuntu bionic/universe amd64 python-wxversion all 3.0.2.0+dfsg-7 [12.4 kB]\n",
            "Get:75 http://archive.ubuntu.com/ubuntu bionic/universe amd64 python-wxgtk3.0 amd64 3.0.2.0+dfsg-7 [5,072 kB]\n",
            "Get:76 http://archive.ubuntu.com/ubuntu bionic/universe amd64 python-sip amd64 4.19.7+dfsg-1 [75.4 kB]\n",
            "Get:77 http://archive.ubuntu.com/ubuntu bionic/universe amd64 python-qt4 amd64 4.12.1+dfsg-2 [2,194 kB]\n",
            "Get:78 http://archive.ubuntu.com/ubuntu bionic/universe amd64 python-pyface all 4.5.2-1 [386 kB]\n",
            "Get:79 http://archive.ubuntu.com/ubuntu bionic/universe amd64 python-traitsui all 4.5.1-1 [6,079 kB]\n",
            "Get:80 http://archive.ubuntu.com/ubuntu bionic/main amd64 python-six all 1.11.0-2 [11.3 kB]\n",
            "Get:81 http://archive.ubuntu.com/ubuntu bionic/main amd64 python-configobj all 5.0.6-2 [34.2 kB]\n",
            "Get:82 http://archive.ubuntu.com/ubuntu bionic/universe amd64 python-apptools all 4.3.0-1 [195 kB]\n",
            "Get:83 http://archive.ubuntu.com/ubuntu bionic/universe amd64 python-cbor amd64 1.0.0-1 [20.7 kB]\n",
            "Get:84 http://archive.ubuntu.com/ubuntu bionic/main amd64 python-concurrent.futures all 3.2.0-1 [34.2 kB]\n",
            "Get:85 http://archive.ubuntu.com/ubuntu bionic/universe amd64 python-lz4 amd64 0.10.1+dfsg1-0.2 [16.6 kB]\n",
            "Get:86 http://archive.ubuntu.com/ubuntu bionic/main amd64 python-cffi-backend amd64 1.11.5-1 [63.4 kB]\n",
            "Get:87 http://archive.ubuntu.com/ubuntu bionic/universe amd64 python-nacl amd64 1.1.2-1build1 [27.8 kB]\n",
            "Get:88 http://archive.ubuntu.com/ubuntu bionic/main amd64 python-asn1crypto all 0.24.0-1 [72.7 kB]\n",
            "Get:89 http://archive.ubuntu.com/ubuntu bionic/main amd64 python-enum34 all 1.1.6-2 [34.8 kB]\n",
            "Get:90 http://archive.ubuntu.com/ubuntu bionic/main amd64 python-idna all 2.6-1 [32.4 kB]\n",
            "Get:91 http://archive.ubuntu.com/ubuntu bionic/main amd64 python-ipaddress all 1.0.17-1 [18.2 kB]\n",
            "Get:92 http://archive.ubuntu.com/ubuntu bionic-updates/main amd64 python-cryptography amd64 2.1.4-1ubuntu1.3 [221 kB]\n",
            "Get:93 http://archive.ubuntu.com/ubuntu bionic/main amd64 python-openssl all 17.5.0-1ubuntu1 [41.3 kB]\n",
            "Get:94 http://archive.ubuntu.com/ubuntu bionic/universe amd64 python-qrcode all 5.3-1 [25.3 kB]\n",
            "Get:95 http://archive.ubuntu.com/ubuntu bionic/main amd64 python-attr all 17.4.0-2 [23.7 kB]\n",
            "Get:96 http://archive.ubuntu.com/ubuntu bionic/main amd64 python-pyasn1 all 0.4.2-3 [46.7 kB]\n",
            "Get:97 http://archive.ubuntu.com/ubuntu bionic/main amd64 python-pyasn1-modules all 0.2.1-0.2 [32.8 kB]\n",
            "Get:98 http://archive.ubuntu.com/ubuntu bionic/main amd64 python-service-identity all 16.0.0-2 [9,318 B]\n",
            "Get:99 http://archive.ubuntu.com/ubuntu bionic/universe amd64 python-snappy amd64 0.5-1.1build2 [10.8 kB]\n",
            "Get:100 http://archive.ubuntu.com/ubuntu bionic/universe amd64 python-trie all 0.2+ds-1 [7,076 B]\n",
            "Get:101 http://archive.ubuntu.com/ubuntu bionic/universe amd64 python-trollius all 2.1~b1-5 [83.9 kB]\n",
            "Get:102 http://archive.ubuntu.com/ubuntu bionic/main amd64 python-twisted-bin amd64 17.9.0-2 [14.4 kB]\n",
            "Get:103 http://archive.ubuntu.com/ubuntu bionic/main amd64 python-pkg-resources all 39.0.1-2 [128 kB]\n",
            "Get:104 http://archive.ubuntu.com/ubuntu bionic/main amd64 python-zope.interface amd64 4.3.2-1build2 [82.2 kB]\n",
            "Get:105 http://archive.ubuntu.com/ubuntu bionic/main amd64 python-automat all 0.6.0-1 [25.1 kB]\n",
            "Get:106 http://archive.ubuntu.com/ubuntu bionic/main amd64 python-constantly all 15.1.0-1 [7,960 B]\n",
            "Get:107 http://archive.ubuntu.com/ubuntu bionic/main amd64 python-hyperlink all 17.3.1-2 [27.5 kB]\n",
            "Get:108 http://archive.ubuntu.com/ubuntu bionic/main amd64 python-incremental all 16.10.1-3 [14.4 kB]\n",
            "Get:109 http://archive.ubuntu.com/ubuntu bionic/main amd64 python-twisted-core all 17.9.0-2 [2,003 kB]\n",
            "Get:110 http://archive.ubuntu.com/ubuntu bionic/main amd64 python-twisted all 17.9.0-2 [3,720 B]\n",
            "Get:111 http://archive.ubuntu.com/ubuntu bionic/universe amd64 python-txaio all 2.8.1-1 [18.2 kB]\n",
            "Get:112 http://archive.ubuntu.com/ubuntu bionic/universe amd64 python-u-msgpack all 2.1-1 [7,268 B]\n",
            "Get:113 http://archive.ubuntu.com/ubuntu bionic/universe amd64 python-ubjson amd64 0.8.5-2build1 [95.0 kB]\n",
            "Get:114 http://archive.ubuntu.com/ubuntu bionic/universe amd64 python-wsaccel amd64 0.6.2-1 [37.5 kB]\n",
            "Get:115 http://archive.ubuntu.com/ubuntu bionic/universe amd64 python-autobahn all 17.10.1+dfsg1-2 [158 kB]\n",
            "Get:116 http://archive.ubuntu.com/ubuntu bionic/universe amd64 python-mpi4py amd64 2.0.0-3 [421 kB]\n",
            "Get:117 http://archive.ubuntu.com/ubuntu bionic/universe amd64 python-vtk6 amd64 6.3.0+dfsg1-11build1 [283 kB]\n",
            "Get:118 http://archive.ubuntu.com/ubuntu bionic/universe amd64 python-envisage all 4.4.0-1 [161 kB]\n",
            "Get:119 http://archive.ubuntu.com/ubuntu bionic/universe amd64 mayavi2 amd64 4.5.0-1 [22.4 MB]\n",
            "Get:120 http://archive.ubuntu.com/ubuntu bionic-updates/main amd64 modemmanager amd64 1.10.0-1~ubuntu18.04.2 [728 kB]\n",
            "Get:121 http://archive.ubuntu.com/ubuntu bionic/main amd64 notification-daemon amd64 3.20.0-3 [36.9 kB]\n",
            "Get:122 http://archive.ubuntu.com/ubuntu bionic/main amd64 python-chardet all 3.0.4-1 [80.3 kB]\n",
            "Get:123 http://archive.ubuntu.com/ubuntu bionic/main amd64 python-colorama all 0.3.7-1 [22.6 kB]\n",
            "Get:124 http://archive.ubuntu.com/ubuntu bionic/main amd64 python-click all 6.7-3 [56.4 kB]\n",
            "Get:125 http://archive.ubuntu.com/ubuntu bionic/main amd64 python-pam amd64 0.4.2-13.2ubuntu4 [9,856 B]\n",
            "Get:126 http://archive.ubuntu.com/ubuntu bionic/main amd64 python-serial all 3.4-2 [71.9 kB]\n",
            "Get:127 http://archive.ubuntu.com/ubuntu bionic/universe amd64 qt-at-spi amd64 0.4.0-8 [58.6 kB]\n",
            "Get:128 http://archive.ubuntu.com/ubuntu bionic-updates/main amd64 wpasupplicant amd64 2:2.6-15ubuntu2.5 [954 kB]\n",
            "Get:129 http://archive.ubuntu.com/ubuntu bionic/main amd64 usb-modeswitch-data all 20170806-2 [30.7 kB]\n",
            "Get:130 http://archive.ubuntu.com/ubuntu bionic/main amd64 usb-modeswitch amd64 2.5.2+repack0-2ubuntu1 [53.6 kB]\n",
            "Fetched 87.9 MB in 9s (10.2 MB/s)\n",
            "Extracting templates from packages: 100%\n",
            "Selecting previously unselected package libdaemon0:amd64.\n",
            "(Reading database ... 135524 files and directories currently installed.)\n",
            "Preparing to unpack .../000-libdaemon0_0.14-6_amd64.deb ...\n",
            "Unpacking libdaemon0:amd64 (0.14-6) ...\n",
            "Selecting previously unselected package libmng2:amd64.\n",
            "Preparing to unpack .../001-libmng2_2.0.2-0ubuntu3_amd64.deb ...\n",
            "Unpacking libmng2:amd64 (2.0.2-0ubuntu3) ...\n",
            "Selecting previously unselected package libcap2-bin.\n",
            "Preparing to unpack .../002-libcap2-bin_1%3a2.25-1.2_amd64.deb ...\n",
            "Unpacking libcap2-bin (1:2.25-1.2) ...\n",
            "Selecting previously unselected package libgstreamer1.0-0:amd64.\n",
            "Preparing to unpack .../003-libgstreamer1.0-0_1.14.5-0ubuntu1~18.04.1_amd64.deb ...\n",
            "Unpacking libgstreamer1.0-0:amd64 (1.14.5-0ubuntu1~18.04.1) ...\n",
            "Selecting previously unselected package liborc-0.4-0:amd64.\n",
            "Preparing to unpack .../004-liborc-0.4-0_1%3a0.4.28-1_amd64.deb ...\n",
            "Unpacking liborc-0.4-0:amd64 (1:0.4.28-1) ...\n",
            "Selecting previously unselected package libgstreamer-plugins-base1.0-0:amd64.\n",
            "Preparing to unpack .../005-libgstreamer-plugins-base1.0-0_1.14.5-0ubuntu1~18.04.1_amd64.deb ...\n",
            "Unpacking libgstreamer-plugins-base1.0-0:amd64 (1.14.5-0ubuntu1~18.04.1) ...\n",
            "Selecting previously unselected package libhyphen0:amd64.\n",
            "Preparing to unpack .../006-libhyphen0_2.8.8-5_amd64.deb ...\n",
            "Unpacking libhyphen0:amd64 (2.8.8-5) ...\n",
            "Selecting previously unselected package libqt5positioning5:amd64.\n",
            "Preparing to unpack .../007-libqt5positioning5_5.9.5+dfsg-0ubuntu2_amd64.deb ...\n",
            "Unpacking libqt5positioning5:amd64 (5.9.5+dfsg-0ubuntu2) ...\n",
            "Selecting previously unselected package libqt5qml5:amd64.\n",
            "Preparing to unpack .../008-libqt5qml5_5.9.5-0ubuntu1.1_amd64.deb ...\n",
            "Unpacking libqt5qml5:amd64 (5.9.5-0ubuntu1.1) ...\n",
            "Selecting previously unselected package libqt5quick5:amd64.\n",
            "Preparing to unpack .../009-libqt5quick5_5.9.5-0ubuntu1.1_amd64.deb ...\n",
            "Unpacking libqt5quick5:amd64 (5.9.5-0ubuntu1.1) ...\n",
            "Selecting previously unselected package libqt5sensors5:amd64.\n",
            "Preparing to unpack .../010-libqt5sensors5_5.9.5-0ubuntu1_amd64.deb ...\n",
            "Unpacking libqt5sensors5:amd64 (5.9.5-0ubuntu1) ...\n",
            "Selecting previously unselected package libqt5webchannel5:amd64.\n",
            "Preparing to unpack .../011-libqt5webchannel5_5.9.5-0ubuntu1_amd64.deb ...\n",
            "Unpacking libqt5webchannel5:amd64 (5.9.5-0ubuntu1) ...\n",
            "Selecting previously unselected package libbrotli1:amd64.\n",
            "Preparing to unpack .../012-libbrotli1_1.0.3-1ubuntu1.2_amd64.deb ...\n",
            "Unpacking libbrotli1:amd64 (1.0.3-1ubuntu1.2) ...\n",
            "Selecting previously unselected package libwoff1:amd64.\n",
            "Preparing to unpack .../013-libwoff1_1.0.2-1build0.1_amd64.deb ...\n",
            "Unpacking libwoff1:amd64 (1.0.2-1build0.1) ...\n",
            "Selecting previously unselected package libqt5webkit5:amd64.\n",
            "Preparing to unpack .../014-libqt5webkit5_5.212.0~alpha2-7ubuntu1_amd64.deb ...\n",
            "Unpacking libqt5webkit5:amd64 (5.212.0~alpha2-7ubuntu1) ...\n",
            "Selecting previously unselected package libpam-cap:amd64.\n",
            "Preparing to unpack .../015-libpam-cap_1%3a2.25-1.2_amd64.deb ...\n",
            "Unpacking libpam-cap:amd64 (1:2.25-1.2) ...\n",
            "Selecting previously unselected package libisc169:amd64.\n",
            "Preparing to unpack .../016-libisc169_1%3a9.11.3+dfsg-1ubuntu1.11_amd64.deb ...\n",
            "Unpacking libisc169:amd64 (1:9.11.3+dfsg-1ubuntu1.11) ...\n",
            "Selecting previously unselected package libgeoip1:amd64.\n",
            "Preparing to unpack .../017-libgeoip1_1.6.12-1_amd64.deb ...\n",
            "Unpacking libgeoip1:amd64 (1.6.12-1) ...\n",
            "Selecting previously unselected package libdns1100:amd64.\n",
            "Preparing to unpack .../018-libdns1100_1%3a9.11.3+dfsg-1ubuntu1.11_amd64.deb ...\n",
            "Unpacking libdns1100:amd64 (1:9.11.3+dfsg-1ubuntu1.11) ...\n",
            "Selecting previously unselected package libisccc160:amd64.\n",
            "Preparing to unpack .../019-libisccc160_1%3a9.11.3+dfsg-1ubuntu1.11_amd64.deb ...\n",
            "Unpacking libisccc160:amd64 (1:9.11.3+dfsg-1ubuntu1.11) ...\n",
            "Selecting previously unselected package libisccfg160:amd64.\n",
            "Preparing to unpack .../020-libisccfg160_1%3a9.11.3+dfsg-1ubuntu1.11_amd64.deb ...\n",
            "Unpacking libisccfg160:amd64 (1:9.11.3+dfsg-1ubuntu1.11) ...\n",
            "Selecting previously unselected package libbind9-160:amd64.\n",
            "Preparing to unpack .../021-libbind9-160_1%3a9.11.3+dfsg-1ubuntu1.11_amd64.deb ...\n",
            "Unpacking libbind9-160:amd64 (1:9.11.3+dfsg-1ubuntu1.11) ...\n",
            "Selecting previously unselected package liblwres160:amd64.\n",
            "Preparing to unpack .../022-liblwres160_1%3a9.11.3+dfsg-1ubuntu1.11_amd64.deb ...\n",
            "Unpacking liblwres160:amd64 (1:9.11.3+dfsg-1ubuntu1.11) ...\n",
            "Selecting previously unselected package bind9-host.\n",
            "Preparing to unpack .../023-bind9-host_1%3a9.11.3+dfsg-1ubuntu1.11_amd64.deb ...\n",
            "Unpacking bind9-host (1:9.11.3+dfsg-1ubuntu1.11) ...\n",
            "Selecting previously unselected package geoip-database.\n",
            "Preparing to unpack .../024-geoip-database_20180315-1_all.deb ...\n",
            "Unpacking geoip-database (20180315-1) ...\n",
            "Selecting previously unselected package libavahi-core7:amd64.\n",
            "Preparing to unpack .../025-libavahi-core7_0.7-3.1ubuntu1.2_amd64.deb ...\n",
            "Unpacking libavahi-core7:amd64 (0.7-3.1ubuntu1.2) ...\n",
            "Selecting previously unselected package avahi-daemon.\n",
            "Preparing to unpack .../026-avahi-daemon_0.7-3.1ubuntu1.2_amd64.deb ...\n",
            "Unpacking avahi-daemon (0.7-3.1ubuntu1.2) ...\n",
            "Selecting previously unselected package cython.\n",
            "Preparing to unpack .../027-cython_0.26.1-0.4_amd64.deb ...\n",
            "Unpacking cython (0.26.1-0.4) ...\n",
            "Selecting previously unselected package libavahi-glib1:amd64.\n",
            "Preparing to unpack .../028-libavahi-glib1_0.7-3.1ubuntu1.2_amd64.deb ...\n",
            "Unpacking libavahi-glib1:amd64 (0.7-3.1ubuntu1.2) ...\n",
            "Selecting previously unselected package libgeoclue-2-0:amd64.\n",
            "Preparing to unpack .../029-libgeoclue-2-0_2.4.7-1ubuntu1_amd64.deb ...\n",
            "Unpacking libgeoclue-2-0:amd64 (2.4.7-1ubuntu1) ...\n",
            "Selecting previously unselected package libmm-glib0:amd64.\n",
            "Preparing to unpack .../030-libmm-glib0_1.10.0-1~ubuntu18.04.2_amd64.deb ...\n",
            "Unpacking libmm-glib0:amd64 (1.10.0-1~ubuntu18.04.2) ...\n",
            "Selecting previously unselected package geoclue-2.0.\n",
            "Preparing to unpack .../031-geoclue-2.0_2.4.7-1ubuntu1_amd64.deb ...\n",
            "Unpacking geoclue-2.0 (2.4.7-1ubuntu1) ...\n",
            "Selecting previously unselected package libcdparanoia0:amd64.\n",
            "Preparing to unpack .../032-libcdparanoia0_3.10.2+debian-13_amd64.deb ...\n",
            "Unpacking libcdparanoia0:amd64 (3.10.2+debian-13) ...\n",
            "Selecting previously unselected package libvisual-0.4-0:amd64.\n",
            "Preparing to unpack .../033-libvisual-0.4-0_0.4.0-11_amd64.deb ...\n",
            "Unpacking libvisual-0.4-0:amd64 (0.4.0-11) ...\n",
            "Selecting previously unselected package gstreamer1.0-plugins-base:amd64.\n",
            "Preparing to unpack .../034-gstreamer1.0-plugins-base_1.14.5-0ubuntu1~18.04.1_amd64.deb ...\n",
            "Unpacking gstreamer1.0-plugins-base:amd64 (1.14.5-0ubuntu1~18.04.1) ...\n",
            "Selecting previously unselected package iio-sensor-proxy.\n",
            "Preparing to unpack .../035-iio-sensor-proxy_2.4-2_amd64.deb ...\n",
            "Unpacking iio-sensor-proxy (2.4-2) ...\n",
            "Selecting previously unselected package javascript-common.\n",
            "Preparing to unpack .../036-javascript-common_11_all.deb ...\n",
            "Unpacking javascript-common (11) ...\n",
            "Selecting previously unselected package libaudio2:amd64.\n",
            "Preparing to unpack .../037-libaudio2_1.9.4-6_amd64.deb ...\n",
            "Unpacking libaudio2:amd64 (1.9.4-6) ...\n",
            "Selecting previously unselected package libgl1-mesa-glx:amd64.\n",
            "Preparing to unpack .../038-libgl1-mesa-glx_19.2.8-0ubuntu0~18.04.3_amd64.deb ...\n",
            "Unpacking libgl1-mesa-glx:amd64 (19.2.8-0ubuntu0~18.04.3) ...\n",
            "Selecting previously unselected package libjs-underscore.\n",
            "Preparing to unpack .../039-libjs-underscore_1.8.3~dfsg-1_all.deb ...\n",
            "Unpacking libjs-underscore (1.8.3~dfsg-1) ...\n",
            "Selecting previously unselected package libjs-sphinxdoc.\n",
            "Preparing to unpack .../040-libjs-sphinxdoc_1.6.7-1ubuntu1_all.deb ...\n",
            "Unpacking libjs-sphinxdoc (1.6.7-1ubuntu1) ...\n",
            "Selecting previously unselected package libmbim-glib4:amd64.\n",
            "Preparing to unpack .../041-libmbim-glib4_1.18.0-1~ubuntu18.04.1_amd64.deb ...\n",
            "Unpacking libmbim-glib4:amd64 (1.18.0-1~ubuntu18.04.1) ...\n",
            "Selecting previously unselected package libmbim-proxy.\n",
            "Preparing to unpack .../042-libmbim-proxy_1.18.0-1~ubuntu18.04.1_amd64.deb ...\n",
            "Unpacking libmbim-proxy (1.18.0-1~ubuntu18.04.1) ...\n",
            "Selecting previously unselected package libnl-genl-3-200:amd64.\n",
            "Preparing to unpack .../043-libnl-genl-3-200_3.2.29-0ubuntu3_amd64.deb ...\n",
            "Unpacking libnl-genl-3-200:amd64 (3.2.29-0ubuntu3) ...\n",
            "Selecting previously unselected package libnotify4:amd64.\n",
            "Preparing to unpack .../044-libnotify4_0.7.7-3_amd64.deb ...\n",
            "Unpacking libnotify4:amd64 (0.7.7-3) ...\n",
            "Selecting previously unselected package libnss-mdns:amd64.\n",
            "Preparing to unpack .../045-libnss-mdns_0.10-8ubuntu1_amd64.deb ...\n",
            "Unpacking libnss-mdns:amd64 (0.10-8ubuntu1) ...\n",
            "Selecting previously unselected package libqmi-glib5:amd64.\n",
            "Preparing to unpack .../046-libqmi-glib5_1.22.0-1.2~ubuntu18.04.1_amd64.deb ...\n",
            "Unpacking libqmi-glib5:amd64 (1.22.0-1.2~ubuntu18.04.1) ...\n",
            "Selecting previously unselected package libqmi-proxy.\n",
            "Preparing to unpack .../047-libqmi-proxy_1.22.0-1.2~ubuntu18.04.1_amd64.deb ...\n",
            "Unpacking libqmi-proxy (1.22.0-1.2~ubuntu18.04.1) ...\n",
            "Selecting previously unselected package qtcore4-l10n.\n",
            "Preparing to unpack .../048-qtcore4-l10n_4%3a4.8.7+dfsg-7ubuntu1_all.deb ...\n",
            "Unpacking qtcore4-l10n (4:4.8.7+dfsg-7ubuntu1) ...\n",
            "Selecting previously unselected package libqtcore4:amd64.\n",
            "Preparing to unpack .../049-libqtcore4_4%3a4.8.7+dfsg-7ubuntu1_amd64.deb ...\n",
            "Unpacking libqtcore4:amd64 (4:4.8.7+dfsg-7ubuntu1) ...\n",
            "Selecting previously unselected package libqt4-xml:amd64.\n",
            "Preparing to unpack .../050-libqt4-xml_4%3a4.8.7+dfsg-7ubuntu1_amd64.deb ...\n",
            "Unpacking libqt4-xml:amd64 (4:4.8.7+dfsg-7ubuntu1) ...\n",
            "Selecting previously unselected package libqtdbus4:amd64.\n",
            "Preparing to unpack .../051-libqtdbus4_4%3a4.8.7+dfsg-7ubuntu1_amd64.deb ...\n",
            "Unpacking libqtdbus4:amd64 (4:4.8.7+dfsg-7ubuntu1) ...\n",
            "Selecting previously unselected package qdbus.\n",
            "Preparing to unpack .../052-qdbus_4%3a4.8.7+dfsg-7ubuntu1_amd64.deb ...\n",
            "Unpacking qdbus (4:4.8.7+dfsg-7ubuntu1) ...\n",
            "Selecting previously unselected package libqt4-dbus:amd64.\n",
            "Preparing to unpack .../053-libqt4-dbus_4%3a4.8.7+dfsg-7ubuntu1_amd64.deb ...\n",
            "Unpacking libqt4-dbus:amd64 (4:4.8.7+dfsg-7ubuntu1) ...\n",
            "Selecting previously unselected package libqt4-network:amd64.\n",
            "Preparing to unpack .../054-libqt4-network_4%3a4.8.7+dfsg-7ubuntu1_amd64.deb ...\n",
            "Unpacking libqt4-network:amd64 (4:4.8.7+dfsg-7ubuntu1) ...\n",
            "Selecting previously unselected package libqt4-script:amd64.\n",
            "Preparing to unpack .../055-libqt4-script_4%3a4.8.7+dfsg-7ubuntu1_amd64.deb ...\n",
            "Unpacking libqt4-script:amd64 (4:4.8.7+dfsg-7ubuntu1) ...\n",
            "Selecting previously unselected package libqt4-sql:amd64.\n",
            "Preparing to unpack .../056-libqt4-sql_4%3a4.8.7+dfsg-7ubuntu1_amd64.deb ...\n",
            "Unpacking libqt4-sql:amd64 (4:4.8.7+dfsg-7ubuntu1) ...\n",
            "Selecting previously unselected package libqt4-xmlpatterns:amd64.\n",
            "Preparing to unpack .../057-libqt4-xmlpatterns_4%3a4.8.7+dfsg-7ubuntu1_amd64.deb ...\n",
            "Unpacking libqt4-xmlpatterns:amd64 (4:4.8.7+dfsg-7ubuntu1) ...\n",
            "Selecting previously unselected package libqtgui4:amd64.\n",
            "Preparing to unpack .../058-libqtgui4_4%3a4.8.7+dfsg-7ubuntu1_amd64.deb ...\n",
            "Unpacking libqtgui4:amd64 (4:4.8.7+dfsg-7ubuntu1) ...\n",
            "Selecting previously unselected package libqt4-declarative:amd64.\n",
            "Preparing to unpack .../059-libqt4-declarative_4%3a4.8.7+dfsg-7ubuntu1_amd64.deb ...\n",
            "Unpacking libqt4-declarative:amd64 (4:4.8.7+dfsg-7ubuntu1) ...\n",
            "Selecting previously unselected package libqt4-designer:amd64.\n",
            "Preparing to unpack .../060-libqt4-designer_4%3a4.8.7+dfsg-7ubuntu1_amd64.deb ...\n",
            "Unpacking libqt4-designer:amd64 (4:4.8.7+dfsg-7ubuntu1) ...\n",
            "Selecting previously unselected package libqt4-help:amd64.\n",
            "Preparing to unpack .../061-libqt4-help_4%3a4.8.7+dfsg-7ubuntu1_amd64.deb ...\n",
            "Unpacking libqt4-help:amd64 (4:4.8.7+dfsg-7ubuntu1) ...\n",
            "Selecting previously unselected package libqt4-scripttools:amd64.\n",
            "Preparing to unpack .../062-libqt4-scripttools_4%3a4.8.7+dfsg-7ubuntu1_amd64.deb ...\n",
            "Unpacking libqt4-scripttools:amd64 (4:4.8.7+dfsg-7ubuntu1) ...\n",
            "Selecting previously unselected package libqt4-sql-mysql:amd64.\n",
            "Preparing to unpack .../063-libqt4-sql-mysql_4%3a4.8.7+dfsg-7ubuntu1_amd64.deb ...\n",
            "Unpacking libqt4-sql-mysql:amd64 (4:4.8.7+dfsg-7ubuntu1) ...\n",
            "Selecting previously unselected package libqt4-svg:amd64.\n",
            "Preparing to unpack .../064-libqt4-svg_4%3a4.8.7+dfsg-7ubuntu1_amd64.deb ...\n",
            "Unpacking libqt4-svg:amd64 (4:4.8.7+dfsg-7ubuntu1) ...\n",
            "Selecting previously unselected package libqt4-test:amd64.\n",
            "Preparing to unpack .../065-libqt4-test_4%3a4.8.7+dfsg-7ubuntu1_amd64.deb ...\n",
            "Unpacking libqt4-test:amd64 (4:4.8.7+dfsg-7ubuntu1) ...\n",
            "Selecting previously unselected package libqt5opengl5:amd64.\n",
            "Preparing to unpack .../066-libqt5opengl5_5.9.5+dfsg-0ubuntu2.5_amd64.deb ...\n",
            "Unpacking libqt5opengl5:amd64 (5.9.5+dfsg-0ubuntu2.5) ...\n",
            "Selecting previously unselected package libqtassistantclient4:amd64.\n",
            "Preparing to unpack .../067-libqtassistantclient4_4.6.3-7build1_amd64.deb ...\n",
            "Unpacking libqtassistantclient4:amd64 (4.6.3-7build1) ...\n",
            "Selecting previously unselected package libvtk6.3-qt.\n",
            "Preparing to unpack .../068-libvtk6.3-qt_6.3.0+dfsg1-11build1_amd64.deb ...\n",
            "Unpacking libvtk6.3-qt (6.3.0+dfsg1-11build1) ...\n",
            "Selecting previously unselected package libwxbase3.0-0v5:amd64.\n",
            "Preparing to unpack .../069-libwxbase3.0-0v5_3.0.4+dfsg-3_amd64.deb ...\n",
            "Unpacking libwxbase3.0-0v5:amd64 (3.0.4+dfsg-3) ...\n",
            "Selecting previously unselected package libwxgtk3.0-gtk3-0v5:amd64.\n",
            "Preparing to unpack .../070-libwxgtk3.0-gtk3-0v5_3.0.4+dfsg-3_amd64.deb ...\n",
            "Unpacking libwxgtk3.0-gtk3-0v5:amd64 (3.0.4+dfsg-3) ...\n",
            "Selecting previously unselected package python-traits.\n",
            "Preparing to unpack .../071-python-traits_4.6.0-1ubuntu2_amd64.deb ...\n",
            "Unpacking python-traits (4.6.0-1ubuntu2) ...\n",
            "Selecting previously unselected package python-pygments.\n",
            "Preparing to unpack .../072-python-pygments_2.2.0+dfsg-1_all.deb ...\n",
            "Unpacking python-pygments (2.2.0+dfsg-1) ...\n",
            "Selecting previously unselected package python-wxversion.\n",
            "Preparing to unpack .../073-python-wxversion_3.0.2.0+dfsg-7_all.deb ...\n",
            "Unpacking python-wxversion (3.0.2.0+dfsg-7) ...\n",
            "Selecting previously unselected package python-wxgtk3.0.\n",
            "Preparing to unpack .../074-python-wxgtk3.0_3.0.2.0+dfsg-7_amd64.deb ...\n",
            "Unpacking python-wxgtk3.0 (3.0.2.0+dfsg-7) ...\n",
            "Selecting previously unselected package python-sip.\n",
            "Preparing to unpack .../075-python-sip_4.19.7+dfsg-1_amd64.deb ...\n",
            "Unpacking python-sip (4.19.7+dfsg-1) ...\n",
            "Selecting previously unselected package python-qt4.\n",
            "Preparing to unpack .../076-python-qt4_4.12.1+dfsg-2_amd64.deb ...\n",
            "Unpacking python-qt4 (4.12.1+dfsg-2) ...\n",
            "Selecting previously unselected package python-pyface.\n",
            "Preparing to unpack .../077-python-pyface_4.5.2-1_all.deb ...\n",
            "Unpacking python-pyface (4.5.2-1) ...\n",
            "Selecting previously unselected package python-traitsui.\n",
            "Preparing to unpack .../078-python-traitsui_4.5.1-1_all.deb ...\n",
            "Unpacking python-traitsui (4.5.1-1) ...\n",
            "Selecting previously unselected package python-six.\n",
            "Preparing to unpack .../079-python-six_1.11.0-2_all.deb ...\n",
            "Unpacking python-six (1.11.0-2) ...\n",
            "Selecting previously unselected package python-configobj.\n",
            "Preparing to unpack .../080-python-configobj_5.0.6-2_all.deb ...\n",
            "Unpacking python-configobj (5.0.6-2) ...\n",
            "Selecting previously unselected package python-apptools.\n",
            "Preparing to unpack .../081-python-apptools_4.3.0-1_all.deb ...\n",
            "Unpacking python-apptools (4.3.0-1) ...\n",
            "Selecting previously unselected package python-cbor.\n",
            "Preparing to unpack .../082-python-cbor_1.0.0-1_amd64.deb ...\n",
            "Unpacking python-cbor (1.0.0-1) ...\n",
            "Selecting previously unselected package python-concurrent.futures.\n",
            "Preparing to unpack .../083-python-concurrent.futures_3.2.0-1_all.deb ...\n",
            "Unpacking python-concurrent.futures (3.2.0-1) ...\n",
            "Selecting previously unselected package python-lz4.\n",
            "Preparing to unpack .../084-python-lz4_0.10.1+dfsg1-0.2_amd64.deb ...\n",
            "Unpacking python-lz4 (0.10.1+dfsg1-0.2) ...\n",
            "Selecting previously unselected package python-cffi-backend.\n",
            "Preparing to unpack .../085-python-cffi-backend_1.11.5-1_amd64.deb ...\n",
            "Unpacking python-cffi-backend (1.11.5-1) ...\n",
            "Selecting previously unselected package python-nacl.\n",
            "Preparing to unpack .../086-python-nacl_1.1.2-1build1_amd64.deb ...\n",
            "Unpacking python-nacl (1.1.2-1build1) ...\n",
            "Selecting previously unselected package python-asn1crypto.\n",
            "Preparing to unpack .../087-python-asn1crypto_0.24.0-1_all.deb ...\n",
            "Unpacking python-asn1crypto (0.24.0-1) ...\n",
            "Selecting previously unselected package python-enum34.\n",
            "Preparing to unpack .../088-python-enum34_1.1.6-2_all.deb ...\n",
            "Unpacking python-enum34 (1.1.6-2) ...\n",
            "Selecting previously unselected package python-idna.\n",
            "Preparing to unpack .../089-python-idna_2.6-1_all.deb ...\n",
            "Unpacking python-idna (2.6-1) ...\n",
            "Selecting previously unselected package python-ipaddress.\n",
            "Preparing to unpack .../090-python-ipaddress_1.0.17-1_all.deb ...\n",
            "Unpacking python-ipaddress (1.0.17-1) ...\n",
            "Selecting previously unselected package python-cryptography.\n",
            "Preparing to unpack .../091-python-cryptography_2.1.4-1ubuntu1.3_amd64.deb ...\n",
            "Unpacking python-cryptography (2.1.4-1ubuntu1.3) ...\n",
            "Selecting previously unselected package python-openssl.\n",
            "Preparing to unpack .../092-python-openssl_17.5.0-1ubuntu1_all.deb ...\n",
            "Unpacking python-openssl (17.5.0-1ubuntu1) ...\n",
            "Selecting previously unselected package python-qrcode.\n",
            "Preparing to unpack .../093-python-qrcode_5.3-1_all.deb ...\n",
            "Unpacking python-qrcode (5.3-1) ...\n",
            "Selecting previously unselected package python-attr.\n",
            "Preparing to unpack .../094-python-attr_17.4.0-2_all.deb ...\n",
            "Unpacking python-attr (17.4.0-2) ...\n",
            "Selecting previously unselected package python-pyasn1.\n",
            "Preparing to unpack .../095-python-pyasn1_0.4.2-3_all.deb ...\n",
            "Unpacking python-pyasn1 (0.4.2-3) ...\n",
            "Selecting previously unselected package python-pyasn1-modules.\n",
            "Preparing to unpack .../096-python-pyasn1-modules_0.2.1-0.2_all.deb ...\n",
            "Unpacking python-pyasn1-modules (0.2.1-0.2) ...\n",
            "Selecting previously unselected package python-service-identity.\n",
            "Preparing to unpack .../097-python-service-identity_16.0.0-2_all.deb ...\n",
            "Unpacking python-service-identity (16.0.0-2) ...\n",
            "Selecting previously unselected package python-snappy.\n",
            "Preparing to unpack .../098-python-snappy_0.5-1.1build2_amd64.deb ...\n",
            "Unpacking python-snappy (0.5-1.1build2) ...\n",
            "Selecting previously unselected package python-trie.\n",
            "Preparing to unpack .../099-python-trie_0.2+ds-1_all.deb ...\n",
            "Unpacking python-trie (0.2+ds-1) ...\n",
            "Selecting previously unselected package python-trollius.\n",
            "Preparing to unpack .../100-python-trollius_2.1~b1-5_all.deb ...\n",
            "Unpacking python-trollius (2.1~b1-5) ...\n",
            "Selecting previously unselected package python-twisted-bin:amd64.\n",
            "Preparing to unpack .../101-python-twisted-bin_17.9.0-2_amd64.deb ...\n",
            "Unpacking python-twisted-bin:amd64 (17.9.0-2) ...\n",
            "Selecting previously unselected package python-pkg-resources.\n",
            "Preparing to unpack .../102-python-pkg-resources_39.0.1-2_all.deb ...\n",
            "Unpacking python-pkg-resources (39.0.1-2) ...\n",
            "Selecting previously unselected package python-zope.interface.\n",
            "Preparing to unpack .../103-python-zope.interface_4.3.2-1build2_amd64.deb ...\n",
            "Unpacking python-zope.interface (4.3.2-1build2) ...\n",
            "Selecting previously unselected package python-automat.\n",
            "Preparing to unpack .../104-python-automat_0.6.0-1_all.deb ...\n",
            "Unpacking python-automat (0.6.0-1) ...\n",
            "Selecting previously unselected package python-constantly.\n",
            "Preparing to unpack .../105-python-constantly_15.1.0-1_all.deb ...\n",
            "Unpacking python-constantly (15.1.0-1) ...\n",
            "Selecting previously unselected package python-hyperlink.\n",
            "Preparing to unpack .../106-python-hyperlink_17.3.1-2_all.deb ...\n",
            "Unpacking python-hyperlink (17.3.1-2) ...\n",
            "Selecting previously unselected package python-incremental.\n",
            "Preparing to unpack .../107-python-incremental_16.10.1-3_all.deb ...\n",
            "Unpacking python-incremental (16.10.1-3) ...\n",
            "Selecting previously unselected package python-twisted-core.\n",
            "Preparing to unpack .../108-python-twisted-core_17.9.0-2_all.deb ...\n",
            "Unpacking python-twisted-core (17.9.0-2) ...\n",
            "Selecting previously unselected package python-twisted.\n",
            "Preparing to unpack .../109-python-twisted_17.9.0-2_all.deb ...\n",
            "Unpacking python-twisted (17.9.0-2) ...\n",
            "Selecting previously unselected package python-txaio.\n",
            "Preparing to unpack .../110-python-txaio_2.8.1-1_all.deb ...\n",
            "Unpacking python-txaio (2.8.1-1) ...\n",
            "Selecting previously unselected package python-u-msgpack.\n",
            "Preparing to unpack .../111-python-u-msgpack_2.1-1_all.deb ...\n",
            "Unpacking python-u-msgpack (2.1-1) ...\n",
            "Selecting previously unselected package python-ubjson.\n",
            "Preparing to unpack .../112-python-ubjson_0.8.5-2build1_amd64.deb ...\n",
            "Unpacking python-ubjson (0.8.5-2build1) ...\n",
            "Selecting previously unselected package python-wsaccel.\n",
            "Preparing to unpack .../113-python-wsaccel_0.6.2-1_amd64.deb ...\n",
            "Unpacking python-wsaccel (0.6.2-1) ...\n",
            "Selecting previously unselected package python-autobahn.\n",
            "Preparing to unpack .../114-python-autobahn_17.10.1+dfsg1-2_all.deb ...\n",
            "Unpacking python-autobahn (17.10.1+dfsg1-2) ...\n",
            "Selecting previously unselected package python-mpi4py.\n",
            "Preparing to unpack .../115-python-mpi4py_2.0.0-3_amd64.deb ...\n",
            "Unpacking python-mpi4py (2.0.0-3) ...\n",
            "Selecting previously unselected package python-vtk6.\n",
            "Preparing to unpack .../116-python-vtk6_6.3.0+dfsg1-11build1_amd64.deb ...\n",
            "Unpacking python-vtk6 (6.3.0+dfsg1-11build1) ...\n",
            "Selecting previously unselected package python-envisage.\n",
            "Preparing to unpack .../117-python-envisage_4.4.0-1_all.deb ...\n",
            "Unpacking python-envisage (4.4.0-1) ...\n",
            "Selecting previously unselected package mayavi2.\n",
            "Preparing to unpack .../118-mayavi2_4.5.0-1_amd64.deb ...\n",
            "Unpacking mayavi2 (4.5.0-1) ...\n",
            "Selecting previously unselected package modemmanager.\n",
            "Preparing to unpack .../119-modemmanager_1.10.0-1~ubuntu18.04.2_amd64.deb ...\n",
            "Unpacking modemmanager (1.10.0-1~ubuntu18.04.2) ...\n",
            "Selecting previously unselected package notification-daemon.\n",
            "Preparing to unpack .../120-notification-daemon_3.20.0-3_amd64.deb ...\n",
            "Unpacking notification-daemon (3.20.0-3) ...\n",
            "Selecting previously unselected package python-chardet.\n",
            "Preparing to unpack .../121-python-chardet_3.0.4-1_all.deb ...\n",
            "Unpacking python-chardet (3.0.4-1) ...\n",
            "Selecting previously unselected package python-colorama.\n",
            "Preparing to unpack .../122-python-colorama_0.3.7-1_all.deb ...\n",
            "Unpacking python-colorama (0.3.7-1) ...\n",
            "Selecting previously unselected package python-click.\n",
            "Preparing to unpack .../123-python-click_6.7-3_all.deb ...\n",
            "Unpacking python-click (6.7-3) ...\n",
            "Selecting previously unselected package python-pam.\n",
            "Preparing to unpack .../124-python-pam_0.4.2-13.2ubuntu4_amd64.deb ...\n",
            "Unpacking python-pam (0.4.2-13.2ubuntu4) ...\n",
            "Selecting previously unselected package python-serial.\n",
            "Preparing to unpack .../125-python-serial_3.4-2_all.deb ...\n",
            "Unpacking python-serial (3.4-2) ...\n",
            "Selecting previously unselected package qt-at-spi:amd64.\n",
            "Preparing to unpack .../126-qt-at-spi_0.4.0-8_amd64.deb ...\n",
            "Unpacking qt-at-spi:amd64 (0.4.0-8) ...\n",
            "Selecting previously unselected package wpasupplicant.\n",
            "Preparing to unpack .../127-wpasupplicant_2%3a2.6-15ubuntu2.5_amd64.deb ...\n",
            "Unpacking wpasupplicant (2:2.6-15ubuntu2.5) ...\n",
            "Selecting previously unselected package usb-modeswitch-data.\n",
            "Preparing to unpack .../128-usb-modeswitch-data_20170806-2_all.deb ...\n",
            "Unpacking usb-modeswitch-data (20170806-2) ...\n",
            "Selecting previously unselected package usb-modeswitch.\n",
            "Preparing to unpack .../129-usb-modeswitch_2.5.2+repack0-2ubuntu1_amd64.deb ...\n",
            "Unpacking usb-modeswitch (2.5.2+repack0-2ubuntu1) ...\n",
            "Setting up python-mpi4py (2.0.0-3) ...\n",
            "Setting up python-u-msgpack (2.1-1) ...\n",
            "Setting up libqt5qml5:amd64 (5.9.5-0ubuntu1.1) ...\n",
            "Setting up python-idna (2.6-1) ...\n",
            "Setting up libbrotli1:amd64 (1.0.3-1ubuntu1.2) ...\n",
            "Setting up libqt5quick5:amd64 (5.9.5-0ubuntu1.1) ...\n",
            "Setting up libisc169:amd64 (1:9.11.3+dfsg-1ubuntu1.11) ...\n",
            "Setting up libnotify4:amd64 (0.7.7-3) ...\n",
            "Setting up python-hyperlink (17.3.1-2) ...\n",
            "Setting up libqt5sensors5:amd64 (5.9.5-0ubuntu1) ...\n",
            "Setting up libdaemon0:amd64 (0.14-6) ...\n",
            "Setting up libisccc160:amd64 (1:9.11.3+dfsg-1ubuntu1.11) ...\n",
            "Setting up python-asn1crypto (0.24.0-1) ...\n",
            "Setting up libmbim-glib4:amd64 (1.18.0-1~ubuntu18.04.1) ...\n",
            "Setting up python-lz4 (0.10.1+dfsg1-0.2) ...\n",
            "Setting up libpam-cap:amd64 (1:2.25-1.2) ...\n",
            "Setting up python-attr (17.4.0-2) ...\n",
            "Setting up python-snappy (0.5-1.1build2) ...\n",
            "Setting up libjs-underscore (1.8.3~dfsg-1) ...\n",
            "Setting up iio-sensor-proxy (2.4-2) ...\n",
            "Setting up python-traits (4.6.0-1ubuntu2) ...\n",
            "Setting up libwoff1:amd64 (1.0.2-1build0.1) ...\n",
            "Setting up geoip-database (20180315-1) ...\n",
            "Setting up libcap2-bin (1:2.25-1.2) ...\n",
            "Setting up python-pyasn1 (0.4.2-3) ...\n",
            "Setting up python-wxversion (3.0.2.0+dfsg-7) ...\n",
            "Setting up qtcore4-l10n (4:4.8.7+dfsg-7ubuntu1) ...\n",
            "Setting up python-twisted-bin:amd64 (17.9.0-2) ...\n",
            "Setting up libjs-sphinxdoc (1.6.7-1ubuntu1) ...\n",
            "Setting up libnl-genl-3-200:amd64 (3.2.29-0ubuntu3) ...\n",
            "Setting up python-colorama (0.3.7-1) ...\n",
            "Setting up libgeoip1:amd64 (1.6.12-1) ...\n",
            "Setting up python-pkg-resources (39.0.1-2) ...\n",
            "Setting up libcdparanoia0:amd64 (3.10.2+debian-13) ...\n",
            "Setting up libmng2:amd64 (2.0.2-0ubuntu3) ...\n",
            "Setting up python-pyasn1-modules (0.2.1-0.2) ...\n",
            "Setting up libqt5opengl5:amd64 (5.9.5+dfsg-0ubuntu2.5) ...\n",
            "Setting up libmbim-proxy (1.18.0-1~ubuntu18.04.1) ...\n",
            "Setting up cython (0.26.1-0.4) ...\n",
            "Setting up python-wsaccel (0.6.2-1) ...\n",
            "Setting up libwxbase3.0-0v5:amd64 (3.0.4+dfsg-3) ...\n",
            "Setting up usb-modeswitch-data (20170806-2) ...\n",
            "Setting up python-cffi-backend (1.11.5-1) ...\n",
            "Setting up libhyphen0:amd64 (2.8.8-5) ...\n",
            "Setting up python-incremental (16.10.1-3) ...\n",
            "Setting up python-six (1.11.0-2) ...\n",
            "Setting up python-constantly (15.1.0-1) ...\n",
            "Setting up usb-modeswitch (2.5.2+repack0-2ubuntu1) ...\n",
            "Setting up python-cbor (1.0.0-1) ...\n",
            "Setting up python-pygments (2.2.0+dfsg-1) ...\n",
            "Setting up libqtcore4:amd64 (4:4.8.7+dfsg-7ubuntu1) ...\n",
            "Setting up libmm-glib0:amd64 (1.10.0-1~ubuntu18.04.2) ...\n",
            "Setting up python-zope.interface (4.3.2-1build2) ...\n",
            "Setting up libgl1-mesa-glx:amd64 (19.2.8-0ubuntu0~18.04.3) ...\n",
            "Setting up libqt5positioning5:amd64 (5.9.5+dfsg-0ubuntu2) ...\n",
            "Setting up python-enum34 (1.1.6-2) ...\n",
            "Setting up python-serial (3.4-2) ...\n",
            "Setting up libvisual-0.4-0:amd64 (0.4.0-11) ...\n",
            "Setting up libwxgtk3.0-gtk3-0v5:amd64 (3.0.4+dfsg-3) ...\n",
            "Setting up python-concurrent.futures (3.2.0-1) ...\n",
            "Setting up liborc-0.4-0:amd64 (1:0.4.28-1) ...\n",
            "Setting up libavahi-glib1:amd64 (0.7-3.1ubuntu1.2) ...\n",
            "Setting up javascript-common (11) ...\n",
            "Setting up libqt5webchannel5:amd64 (5.9.5-0ubuntu1) ...\n",
            "Setting up python-pam (0.4.2-13.2ubuntu4) ...\n",
            "Setting up python-ubjson (0.8.5-2build1) ...\n",
            "Setting up libdns1100:amd64 (1:9.11.3+dfsg-1ubuntu1.11) ...\n",
            "Setting up python-ipaddress (1.0.17-1) ...\n",
            "Setting up libqt4-test:amd64 (4:4.8.7+dfsg-7ubuntu1) ...\n",
            "Setting up python-trie (0.2+ds-1) ...\n",
            "Setting up python-automat (0.6.0-1) ...\n",
            "Setting up liblwres160:amd64 (1:9.11.3+dfsg-1ubuntu1.11) ...\n",
            "Setting up libqt4-xml:amd64 (4:4.8.7+dfsg-7ubuntu1) ...\n",
            "Setting up libaudio2:amd64 (1.9.4-6) ...\n",
            "Setting up notification-daemon (3.20.0-3) ...\n",
            "Setting up python-sip (4.19.7+dfsg-1) ...\n",
            "Setting up libavahi-core7:amd64 (0.7-3.1ubuntu1.2) ...\n",
            "Setting up python-configobj (5.0.6-2) ...\n",
            "Setting up python-chardet (3.0.4-1) ...\n",
            "Setting up libgstreamer1.0-0:amd64 (1.14.5-0ubuntu1~18.04.1) ...\n",
            "Setcap worked! gst-ptp-helper is not suid!\n",
            "Setting up python-nacl (1.1.2-1build1) ...\n",
            "Setting up python-trollius (2.1~b1-5) ...\n",
            "Setting up python-click (6.7-3) ...\n",
            "Setting up python-wxgtk3.0 (3.0.2.0+dfsg-7) ...\n",
            "update-alternatives: using /usr/lib/wx/python/wx3.0.pth to provide /usr/lib/wx/python/wx.pth (wx.pth) in auto mode\n",
            "Setting up wpasupplicant (2:2.6-15ubuntu2.5) ...\n",
            "Created symlink /etc/systemd/system/dbus-fi.w1.wpa_supplicant1.service → /lib/systemd/system/wpa_supplicant.service.\n",
            "Created symlink /etc/systemd/system/multi-user.target.wants/wpa_supplicant.service → /lib/systemd/system/wpa_supplicant.service.\n",
            "Setting up python-qrcode (5.3-1) ...\n",
            "update-alternatives: using /usr/bin/python2-qr to provide /usr/bin/qr (qr) in auto mode\n",
            "Setting up libqmi-glib5:amd64 (1.22.0-1.2~ubuntu18.04.1) ...\n",
            "Setting up libqt4-sql:amd64 (4:4.8.7+dfsg-7ubuntu1) ...\n",
            "Setting up libqmi-proxy (1.22.0-1.2~ubuntu18.04.1) ...\n",
            "Setting up libisccfg160:amd64 (1:9.11.3+dfsg-1ubuntu1.11) ...\n",
            "Setting up python-cryptography (2.1.4-1ubuntu1.3) ...\n",
            "Setting up libqtdbus4:amd64 (4:4.8.7+dfsg-7ubuntu1) ...\n",
            "Setting up libgstreamer-plugins-base1.0-0:amd64 (1.14.5-0ubuntu1~18.04.1) ...\n",
            "Setting up gstreamer1.0-plugins-base:amd64 (1.14.5-0ubuntu1~18.04.1) ...\n",
            "Setting up libqt4-script:amd64 (4:4.8.7+dfsg-7ubuntu1) ...\n",
            "Setting up python-openssl (17.5.0-1ubuntu1) ...\n",
            "Setting up libqt4-sql-mysql:amd64 (4:4.8.7+dfsg-7ubuntu1) ...\n",
            "Setting up libqt5webkit5:amd64 (5.212.0~alpha2-7ubuntu1) ...\n",
            "Setting up modemmanager (1.10.0-1~ubuntu18.04.2) ...\n",
            "Created symlink /etc/systemd/system/dbus-org.freedesktop.ModemManager1.service → /lib/systemd/system/ModemManager.service.\n",
            "Created symlink /etc/systemd/system/multi-user.target.wants/ModemManager.service → /lib/systemd/system/ModemManager.service.\n",
            "Setting up libbind9-160:amd64 (1:9.11.3+dfsg-1ubuntu1.11) ...\n",
            "Setting up qdbus (4:4.8.7+dfsg-7ubuntu1) ...\n",
            "Setting up libvtk6.3-qt (6.3.0+dfsg1-11build1) ...\n",
            "Setting up libqt4-dbus:amd64 (4:4.8.7+dfsg-7ubuntu1) ...\n",
            "Setting up libqt4-network:amd64 (4:4.8.7+dfsg-7ubuntu1) ...\n",
            "Setting up python-service-identity (16.0.0-2) ...\n",
            "Setting up bind9-host (1:9.11.3+dfsg-1ubuntu1.11) ...\n",
            "Setting up libqt4-xmlpatterns:amd64 (4:4.8.7+dfsg-7ubuntu1) ...\n",
            "Setting up libqtassistantclient4:amd64 (4.6.3-7build1) ...\n",
            "Setting up avahi-daemon (0.7-3.1ubuntu1.2) ...\n",
            "invoke-rc.d: could not determine current runlevel\n",
            "invoke-rc.d: policy-rc.d denied execution of force-reload.\n",
            "Created symlink /etc/systemd/system/dbus-org.freedesktop.Avahi.service → /lib/systemd/system/avahi-daemon.service.\n",
            "Created symlink /etc/systemd/system/multi-user.target.wants/avahi-daemon.service → /lib/systemd/system/avahi-daemon.service.\n",
            "Created symlink /etc/systemd/system/sockets.target.wants/avahi-daemon.socket → /lib/systemd/system/avahi-daemon.socket.\n",
            "invoke-rc.d: could not determine current runlevel\n",
            "invoke-rc.d: policy-rc.d denied execution of start.\n",
            "Setting up python-twisted-core (17.9.0-2) ...\n",
            "Setting up python-twisted (17.9.0-2) ...\n",
            "Setting up libnss-mdns:amd64 (0.10-8ubuntu1) ...\n",
            "First installation detected...\n",
            "Checking NSS setup...\n",
            "Setting up python-txaio (2.8.1-1) ...\n",
            "Setting up python-autobahn (17.10.1+dfsg1-2) ...\n",
            "Setting up python-vtk6 (6.3.0+dfsg1-11build1) ...\n",
            "Setting up libgeoclue-2-0:amd64 (2.4.7-1ubuntu1) ...\n",
            "Setting up geoclue-2.0 (2.4.7-1ubuntu1) ...\n",
            "Setting up libqt4-declarative:amd64 (4:4.8.7+dfsg-7ubuntu1) ...\n",
            "Setting up libqtgui4:amd64 (4:4.8.7+dfsg-7ubuntu1) ...\n",
            "Setting up qt-at-spi:amd64 (0.4.0-8) ...\n",
            "Setting up libqt4-designer:amd64 (4:4.8.7+dfsg-7ubuntu1) ...\n",
            "Setting up libqt4-help:amd64 (4:4.8.7+dfsg-7ubuntu1) ...\n",
            "Setting up libqt4-svg:amd64 (4:4.8.7+dfsg-7ubuntu1) ...\n",
            "Setting up libqt4-scripttools:amd64 (4:4.8.7+dfsg-7ubuntu1) ...\n",
            "Setting up python-qt4 (4.12.1+dfsg-2) ...\n",
            "Setting up python-pyface (4.5.2-1) ...\n",
            "Setting up python-traitsui (4.5.1-1) ...\n",
            "Setting up python-apptools (4.3.0-1) ...\n",
            "Setting up python-envisage (4.4.0-1) ...\n",
            "Setting up mayavi2 (4.5.0-1) ...\n",
            "Processing triggers for mime-support (3.60ubuntu1) ...\n",
            "Processing triggers for libc-bin (2.27-3ubuntu1) ...\n",
            "/sbin/ldconfig.real: /usr/local/lib/python3.6/dist-packages/ideep4py/lib/libmkldnn.so.0 is not a symbolic link\n",
            "\n",
            "Processing triggers for systemd (237-3ubuntu10.39) ...\n",
            "Processing triggers for man-db (2.8.3-2ubuntu0.1) ...\n",
            "Processing triggers for dbus (1.12.2-1ubuntu1.1) ...\n",
            "Processing triggers for hicolor-icon-theme (0.17-2) ...\n"
          ],
          "name": "stdout"
        }
      ]
    },
    {
      "cell_type": "markdown",
      "metadata": {
        "id": "YlHZjpib5Cb2",
        "colab_type": "text"
      },
      "source": [
        "colab上にはディスプレイがないため、Mayavi2用に仮想ディスプレイを設定します。"
      ]
    },
    {
      "cell_type": "code",
      "metadata": {
        "id": "EqZ1Qe9k3E2T",
        "colab_type": "code",
        "outputId": "894da493-0244-41a4-a8e9-65cfa5cc1a59",
        "colab": {
          "base_uri": "https://localhost:8080/",
          "height": 408
        }
      },
      "source": [
        "!apt-get -y install xvfb=2:1.19.6-1ubuntu4.4\n",
        "!pip install pyvirtualdisplay==0.2.5\n",
        "\n",
        "from pyvirtualdisplay import Display\n",
        "import os\n",
        "\n",
        "display = Display(visible=0, size=(1280, 1024))\n",
        "display.start()\n",
        "os.environ[\"DISPLAY\"] = \":\" + str(display.display) + \".\" + str(display.screen)\n"
      ],
      "execution_count": 0,
      "outputs": [
        {
          "output_type": "stream",
          "text": [
            "Reading package lists... Done\n",
            "Building dependency tree       \n",
            "Reading state information... Done\n",
            "The following NEW packages will be installed:\n",
            "  xvfb\n",
            "0 upgraded, 1 newly installed, 0 to remove and 25 not upgraded.\n",
            "Need to get 784 kB of archives.\n",
            "After this operation, 2,266 kB of additional disk space will be used.\n",
            "Get:1 http://archive.ubuntu.com/ubuntu bionic-updates/universe amd64 xvfb amd64 2:1.19.6-1ubuntu4.4 [784 kB]\n",
            "Fetched 784 kB in 1s (1,089 kB/s)\n",
            "Selecting previously unselected package xvfb.\n",
            "(Reading database ... 144238 files and directories currently installed.)\n",
            "Preparing to unpack .../xvfb_2%3a1.19.6-1ubuntu4.4_amd64.deb ...\n",
            "Unpacking xvfb (2:1.19.6-1ubuntu4.4) ...\n",
            "Setting up xvfb (2:1.19.6-1ubuntu4.4) ...\n",
            "Processing triggers for man-db (2.8.3-2ubuntu0.1) ...\n",
            "Collecting pyvirtualdisplay==0.2.5\n",
            "  Downloading https://files.pythonhosted.org/packages/69/ec/8221a07850d69fa3c57c02e526edd23d18c7c05d58ed103e3b19172757c1/PyVirtualDisplay-0.2.5-py2.py3-none-any.whl\n",
            "Collecting EasyProcess\n",
            "  Downloading https://files.pythonhosted.org/packages/32/8f/88d636f1da22a3c573259e44cfefb46a117d3f9432e2c98b1ab4a21372ad/EasyProcess-0.2.10-py2.py3-none-any.whl\n",
            "Installing collected packages: EasyProcess, pyvirtualdisplay\n",
            "Successfully installed EasyProcess-0.2.10 pyvirtualdisplay-0.2.5\n"
          ],
          "name": "stdout"
        },
        {
          "output_type": "stream",
          "text": [
            "No handlers could be found for logger \"pyvirtualdisplay.abstractdisplay\"\n"
          ],
          "name": "stderr"
        }
      ]
    },
    {
      "cell_type": "markdown",
      "metadata": {
        "id": "VoX1kh7t_zFn",
        "colab_type": "text"
      },
      "source": [
        "## モデルの作成"
      ]
    },
    {
      "cell_type": "markdown",
      "metadata": {
        "id": "tIvfNf2F5mXz",
        "colab_type": "text"
      },
      "source": [
        "準備が整ったのでライブラリをインポートします。"
      ]
    },
    {
      "cell_type": "code",
      "metadata": {
        "id": "es5ZAE995S5L",
        "colab_type": "code",
        "colab": {}
      },
      "source": [
        "import getfem as gf\n",
        "import numpy as np\n"
      ],
      "execution_count": 0,
      "outputs": []
    },
    {
      "cell_type": "markdown",
      "metadata": {
        "id": "cWjPHP7y7NdL",
        "colab_type": "text"
      },
      "source": [
        "検討ケースは次の通りです。GetFEM++では下記の有限要素法と積分法をそれぞれFEM_PRODUCTとIM_PRODUCTを使用して2次元化します。2次要素についてはGauss積分点が3であるとします。IM_GAUSS1D(K)はK/2+1点の積分点を表します。要素は平面ひずみ要素を使用します。\n",
        "\n",
        "ケース名 | メッシュ   | 有限要素法                     | 積分法        |\n",
        "-------- | ---------- | ----------                     | ----------    |\n",
        "case11   | 1 x 4      | FEM_PK(1, 2)                   | IM_GAUSS1D(4) |\n",
        "case12   | 2 x 4      | FEM_PK(1, 2)                   | IM_GAUSS1D(4) |\n",
        "case13   | 4 x 4      | FEM_PK(1, 2)                   | IM_GAUSS1D(4) |\n",
        "case14   | 8 x 16     | FEM_PK(1, 2)                   | IM_GAUSS1D(4) |\n",
        "case21   | 1 x 4      | FEM_PK(1, 1)                   | IM_GAUSS1D(2) |\n",
        "case22   | 2 x 4      | FEM_PK(1, 1)                   | IM_GAUSS1D(2) |\n",
        "case23   | 4 x 4      | FEM_PK(1, 1)                   | IM_GAUSS1D(2) |\n",
        "case24   | 8 x 16     | FEM_PK(1, 1)                   | IM_GAUSS1D(2) |\n",
        "case31   | 1 x 4      | FEM_PK(1, 1)                   | IM_GAUSS1D(0) |\n",
        "case32   | 2 x 4      | FEM_PK(1, 1)                   | IM_GAUSS1D(0) |\n",
        "case33   | 4 x 4      | FEM_PK(1, 1)                   | IM_GAUSS1D(0) |\n",
        "case34   | 8 x 16     | FEM_PK(1, 1)                   | IM_GAUSS1D(0) |\n",
        "case41   | 1 x 4      | FEM_PK_WITH_CUBIC_BUBBLE(1, 1) | IM_GAUSS1D(2) |\n",
        "case42   | 2 x 4      | FEM_PK_WITH_CUBIC_BUBBLE(1, 1) | IM_GAUSS1D(2) |\n",
        "case43   | 4 x 4      | FEM_PK_WITH_CUBIC_BUBBLE(1, 1) | IM_GAUSS1D(2) |\n",
        "case44   | 8 x 16     | FEM_PK_WITH_CUBIC_BUBBLE(1, 1) | IM_GAUSS1D(2) |\n",
        "\n",
        "これらのメッシュ、有限要素法と積分法を設定します。"
      ]
    },
    {
      "cell_type": "code",
      "metadata": {
        "id": "niYaXPZ3jYCG",
        "colab_type": "code",
        "colab": {}
      },
      "source": [
        "cases = [\n",
        "    \"case11\",\n",
        "    \"case12\",\n",
        "    \"case13\",\n",
        "    \"case14\",\n",
        "    \"case21\",\n",
        "    \"case22\",\n",
        "    \"case23\",\n",
        "    \"case24\",\n",
        "    \"case31\",\n",
        "    \"case32\",\n",
        "    \"case33\",\n",
        "    \"case34\",\n",
        "    \"case41\",\n",
        "    \"case42\",\n",
        "    \"case43\",\n",
        "    \"case44\",\n",
        "]\n"
      ],
      "execution_count": 0,
      "outputs": []
    },
    {
      "cell_type": "markdown",
      "metadata": {
        "id": "JB2ke7MEowxr",
        "colab_type": "text"
      },
      "source": [
        "### メッシュ\n",
        "\n",
        "モデル全体のサイズは長さL=10mm、高さh=1mm、奥行きb=1mmとします。一般的にスレンダー比が1:10であれば、はり要素とみなせるといわれます。"
      ]
    },
    {
      "cell_type": "code",
      "metadata": {
        "id": "A6iUeElf8Wf2",
        "colab_type": "code",
        "colab": {}
      },
      "source": [
        "L = 10.0\n",
        "b = 1.0\n",
        "h = 1.0\n",
        "\n",
        "x04 = np.arange(4 + 1) * L / 4\n",
        "x16 = np.arange(16 + 1) * L / 16\n",
        "\n",
        "y01 = np.arange(1 + 1) * h / 1\n",
        "y02 = np.arange(2 + 1) * h / 2\n",
        "y04 = np.arange(4 + 1) * h / 4\n",
        "y08 = np.arange(8 + 1) * h / 8\n",
        "\n",
        "m1 = gf.Mesh(\"cartesian\", x04, y01)\n",
        "m2 = gf.Mesh(\"cartesian\", x04, y02)\n",
        "m3 = gf.Mesh(\"cartesian\", x04, y04)\n",
        "m4 = gf.Mesh(\"cartesian\", x16, y08)\n",
        "\n",
        "meshs = [m1, m2, m3, m4, m1, m2, m3, m4, m1, m2, m3, m4, m1, m2, m3, m4]\n",
        "\n",
        "m1.export_to_vtk(\"mesh1.vtk\")\n",
        "m2.export_to_vtk(\"mesh2.vtk\")\n",
        "m3.export_to_vtk(\"mesh3.vtk\")\n",
        "m4.export_to_vtk(\"mesh4.vtk\")\n"
      ],
      "execution_count": 0,
      "outputs": []
    },
    {
      "cell_type": "markdown",
      "metadata": {
        "id": "5tsdWFw3o7iZ",
        "colab_type": "text"
      },
      "source": [
        "各メッシュの画像を出力します。"
      ]
    },
    {
      "cell_type": "code",
      "metadata": {
        "id": "rtbpws1NpGlF",
        "colab_type": "code",
        "outputId": "6b333c60-82db-4337-e3b7-ccdcbbc8d81c",
        "colab": {
          "base_uri": "https://localhost:8080/",
          "height": 119
        }
      },
      "source": [
        "from mayavi import mlab\n",
        "\n",
        "vtks = [\"mesh1.vtk\", \"mesh2.vtk\", \"mesh3.vtk\", \"mesh4.vtk\"]\n",
        "pngs = [\"mesh1.png\", \"mesh2.png\", \"mesh3.png\", \"mesh4.png\"]\n",
        "\n",
        "for vtk, png in zip(vtks, pngs):\n",
        "    mlab.init_notebook()\n",
        "    vtk_file_reader = mlab.pipeline.open(vtk)\n",
        "    extract_edges = mlab.pipeline.extract_edges(vtk_file_reader)\n",
        "    surface = mlab.pipeline.surface(extract_edges)\n",
        "    mlab.show()\n",
        "    mlab.savefig(png)\n",
        "    mlab.clf()\n"
      ],
      "execution_count": 0,
      "outputs": [
        {
          "output_type": "stream",
          "text": [
            "/usr/lib/python2.7/dist-packages/traits/etsconfig/etsconfig.py:429: UserWarning: Environment variable \"HOME\" not set, setting home directory to /tmp\n",
            "  (environment_variable, parent_directory))\n"
          ],
          "name": "stderr"
        },
        {
          "output_type": "stream",
          "text": [
            "Notebook initialized with x3d backend.\n",
            "Notebook initialized with x3d backend.\n",
            "Notebook initialized with x3d backend.\n",
            "Notebook initialized with x3d backend.\n"
          ],
          "name": "stdout"
        }
      ]
    },
    {
      "cell_type": "code",
      "metadata": {
        "id": "HtMdJxpJqNaw",
        "colab_type": "code",
        "outputId": "932de461-a687-43e3-ea8a-ef7e0e7d2ed7",
        "colab": {
          "base_uri": "https://localhost:8080/",
          "height": 367
        }
      },
      "source": [
        "from IPython.display import Image, display_png\n",
        "\n",
        "display_png(Image(\"mesh1.png\"))\n"
      ],
      "execution_count": 0,
      "outputs": [
        {
          "output_type": "display_data",
          "data": {
            "image/png": "[encoded data removed]"
          },
          "metadata": {
            "tags": []
          }
        }
      ]
    },
    {
      "cell_type": "code",
      "metadata": {
        "id": "hKK-Op-0qSWN",
        "colab_type": "code",
        "outputId": "80f2ac58-3e71-4cfa-f490-e49f0ebf062b",
        "colab": {
          "base_uri": "https://localhost:8080/",
          "height": 367
        }
      },
      "source": [
        "from IPython.display import Image, display_png\n",
        "\n",
        "display_png(Image(\"mesh2.png\"))\n"
      ],
      "execution_count": 0,
      "outputs": [
        {
          "output_type": "display_data",
          "data": {
            "image/png": "[encoded data removed]"
          },
          "metadata": {
            "tags": []
          }
        }
      ]
    },
    {
      "cell_type": "code",
      "metadata": {
        "id": "waCG51rWqUd9",
        "colab_type": "code",
        "outputId": "1de6a877-285b-47ee-ef36-a45fb4ff631a",
        "colab": {
          "base_uri": "https://localhost:8080/",
          "height": 367
        }
      },
      "source": [
        "from IPython.display import Image, display_png\n",
        "\n",
        "display_png(Image(\"mesh3.png\"))\n"
      ],
      "execution_count": 0,
      "outputs": [
        {
          "output_type": "display_data",
          "data": {
            "image/png": "[encoded data removed]"
          },
          "metadata": {
            "tags": []
          }
        }
      ]
    },
    {
      "cell_type": "code",
      "metadata": {
        "id": "eebOMXDKqZ4e",
        "colab_type": "code",
        "outputId": "dcea632f-afee-4a31-a9a7-f742e0911ca2",
        "colab": {
          "base_uri": "https://localhost:8080/",
          "height": 367
        }
      },
      "source": [
        "from IPython.display import Image, display_png\n",
        "\n",
        "display_png(Image(\"mesh4.png\"))\n"
      ],
      "execution_count": 0,
      "outputs": [
        {
          "output_type": "display_data",
          "data": {
            "image/png": "[encoded data removed]"
          },
          "metadata": {
            "tags": []
          }
        }
      ]
    },
    {
      "cell_type": "markdown",
      "metadata": {
        "id": "ft8YGlwgswMF",
        "colab_type": "text"
      },
      "source": [
        "### 領域\n",
        "\n",
        "メッシュの左側面にDirichlet条件を設定する領域を設定します。右側面にはNeumann条件を設定するための領域を設定します。"
      ]
    },
    {
      "cell_type": "code",
      "metadata": {
        "id": "KHZ87B4NuVkH",
        "colab_type": "code",
        "colab": {}
      },
      "source": [
        "TOP_BOUND = 1\n",
        "RIGHT_BOUND = 2\n",
        "LEFT_BOUND = 3\n",
        "BOTTOM_BOUND = 4\n",
        "\n",
        "for mesh in meshs:\n",
        "    fb1 = mesh.outer_faces_with_direction([0.0, 1.0], 0.01)\n",
        "    fb2 = mesh.outer_faces_with_direction([1.0, 0.0], 0.01)\n",
        "    fb3 = mesh.outer_faces_with_direction([-1.0, 0.0], 0.01)\n",
        "    fb4 = mesh.outer_faces_with_direction([0.0, -1.0], 0.01)\n",
        "    mesh.set_region(TOP_BOUND, fb1)\n",
        "    mesh.set_region(RIGHT_BOUND, fb2)\n",
        "    mesh.set_region(LEFT_BOUND, fb3)\n",
        "    mesh.set_region(BOTTOM_BOUND, fb4)\n"
      ],
      "execution_count": 0,
      "outputs": []
    },
    {
      "cell_type": "markdown",
      "metadata": {
        "id": "wmc1X8kxuI0U",
        "colab_type": "text"
      },
      "source": [
        "### 有限要素法\n",
        "MeshFemオブジェクトを作成しメッシュと有限要素法を関連付けます。"
      ]
    },
    {
      "cell_type": "code",
      "metadata": {
        "id": "BZMl4G9fuHNw",
        "colab_type": "code",
        "colab": {}
      },
      "source": [
        "fems = []\n",
        "# 2次要素\n",
        "fems.append(gf.Fem(\"FEM_PRODUCT(FEM_PK(1, 2), FEM_PK(1, 2))\"))\n",
        "# 2次要素\n",
        "fems.append(gf.Fem(\"FEM_PRODUCT(FEM_PK(1, 2), FEM_PK(1, 2))\"))\n",
        "# 2次要素\n",
        "fems.append(gf.Fem(\"FEM_PRODUCT(FEM_PK(1, 2), FEM_PK(1, 2))\"))\n",
        "# 2次要素\n",
        "fems.append(gf.Fem(\"FEM_PRODUCT(FEM_PK(1, 2), FEM_PK(1, 2))\"))\n",
        "# 1次要素\n",
        "fems.append(gf.Fem(\"FEM_PRODUCT(FEM_PK(1, 1), FEM_PK(1, 1))\"))\n",
        "# 1次要素\n",
        "fems.append(gf.Fem(\"FEM_PRODUCT(FEM_PK(1, 1), FEM_PK(1, 1))\"))\n",
        "# 1次要素\n",
        "fems.append(gf.Fem(\"FEM_PRODUCT(FEM_PK(1, 1), FEM_PK(1, 1))\"))\n",
        "# 1次要素\n",
        "fems.append(gf.Fem(\"FEM_PRODUCT(FEM_PK(1, 1), FEM_PK(1, 1))\"))\n",
        "# 1次要素\n",
        "fems.append(gf.Fem(\"FEM_PRODUCT(FEM_PK(1, 1), FEM_PK(1, 1))\"))\n",
        "# 1次要素\n",
        "fems.append(gf.Fem(\"FEM_PRODUCT(FEM_PK(1, 1), FEM_PK(1, 1))\"))\n",
        "# 1次要素\n",
        "fems.append(gf.Fem(\"FEM_PRODUCT(FEM_PK(1, 1), FEM_PK(1, 1))\"))\n",
        "# 1次要素\n",
        "fems.append(gf.Fem(\"FEM_PRODUCT(FEM_PK(1, 1), FEM_PK(1, 1))\"))\n",
        "# 非適合要素\n",
        "fems.append(\n",
        "    gf.Fem(\n",
        "        \"FEM_PRODUCT(FEM_PK_WITH_CUBIC_BUBBLE(1, 1), FEM_PK_WITH_CUBIC_BUBBLE(1, 1))\"\n",
        "    )\n",
        ")\n",
        "# 非適合要素\n",
        "fems.append(\n",
        "    gf.Fem(\n",
        "        \"FEM_PRODUCT(FEM_PK_WITH_CUBIC_BUBBLE(1, 1), FEM_PK_WITH_CUBIC_BUBBLE(1, 1))\"\n",
        "    )\n",
        ")\n",
        "# 非適合要素\n",
        "fems.append(\n",
        "    gf.Fem(\n",
        "        \"FEM_PRODUCT(FEM_PK_WITH_CUBIC_BUBBLE(1, 1), FEM_PK_WITH_CUBIC_BUBBLE(1, 1))\"\n",
        "    )\n",
        ")\n",
        "# 非適合要素\n",
        "fems.append(\n",
        "    gf.Fem(\n",
        "        \"FEM_PRODUCT(FEM_PK_WITH_CUBIC_BUBBLE(1, 1), FEM_PK_WITH_CUBIC_BUBBLE(1, 1))\"\n",
        "    )\n",
        ")\n"
      ],
      "execution_count": 0,
      "outputs": []
    },
    {
      "cell_type": "code",
      "metadata": {
        "id": "Cmfiow4MviZF",
        "colab_type": "code",
        "colab": {}
      },
      "source": [
        "mfus = []\n",
        "for mesh, fem in zip(meshs, fems):\n",
        "    mfu = gf.MeshFem(mesh, 2)\n",
        "    mfu.set_fem(fem)\n",
        "    mfus.append(mfu)\n"
      ],
      "execution_count": 0,
      "outputs": []
    },
    {
      "cell_type": "markdown",
      "metadata": {
        "id": "DsCLZKKfwrpx",
        "colab_type": "text"
      },
      "source": [
        "### 積分法\n",
        "積分法をメッシュと関連付けます。"
      ]
    },
    {
      "cell_type": "code",
      "metadata": {
        "id": "XyAaD48IwA0r",
        "colab_type": "code",
        "colab": {}
      },
      "source": [
        "ims = []\n",
        "# 2次完全積分 1方向の積分点数(4/2+1)=3\n",
        "ims.append(gf.Integ(\"IM_PRODUCT(IM_GAUSS1D(4), IM_GAUSS1D(4))\"))\n",
        "# 2次完全積分 1方向の積分点数(4/2+1)=3\n",
        "ims.append(gf.Integ(\"IM_PRODUCT(IM_GAUSS1D(4), IM_GAUSS1D(4))\"))\n",
        "# 2次完全積分 1方向の積分点数(4/2+1)=3\n",
        "ims.append(gf.Integ(\"IM_PRODUCT(IM_GAUSS1D(4), IM_GAUSS1D(4))\"))\n",
        "# 2次完全積分 1方向の積分点数(4/2+1)=3\n",
        "ims.append(gf.Integ(\"IM_PRODUCT(IM_GAUSS1D(4), IM_GAUSS1D(4))\"))\n",
        "# 1次完全積分 1方向の積分点数(2/2+1)=2\n",
        "ims.append(gf.Integ(\"IM_PRODUCT(IM_GAUSS1D(2), IM_GAUSS1D(2))\"))\n",
        "# 1次完全積分 1方向の積分点数(2/2+1)=2\n",
        "ims.append(gf.Integ(\"IM_PRODUCT(IM_GAUSS1D(2), IM_GAUSS1D(2))\"))\n",
        "# 1次完全積分 1方向の積分点数(2/2+1)=2\n",
        "ims.append(gf.Integ(\"IM_PRODUCT(IM_GAUSS1D(2), IM_GAUSS1D(2))\"))\n",
        "# 1次完全積分 1方向の積分点数(2/2+1)=2\n",
        "ims.append(gf.Integ(\"IM_PRODUCT(IM_GAUSS1D(2), IM_GAUSS1D(2))\"))\n",
        "# 1次低減積分 1方向の積分点数(0/2+1)=1\n",
        "ims.append(gf.Integ(\"IM_PRODUCT(IM_GAUSS1D(0), IM_GAUSS1D(0))\"))\n",
        "# 1次低減積分 1方向の積分点数(0/2+1)=1\n",
        "ims.append(gf.Integ(\"IM_PRODUCT(IM_GAUSS1D(0), IM_GAUSS1D(0))\"))\n",
        "# 1次低減積分 1方向の積分点数(0/2+1)=1\n",
        "ims.append(gf.Integ(\"IM_PRODUCT(IM_GAUSS1D(0), IM_GAUSS1D(0))\"))\n",
        "# 1次低減積分 1方向の積分点数(0/2+1)=1\n",
        "ims.append(gf.Integ(\"IM_PRODUCT(IM_GAUSS1D(0), IM_GAUSS1D(0))\"))\n",
        "# 非適合要素完全積分 1方向の積分点数(4/2+1)=3\n",
        "ims.append(gf.Integ(\"IM_PRODUCT(IM_GAUSS1D(4), IM_GAUSS1D(4))\"))\n",
        "# 非適合要素完全積分 1方向の積分点数(4/2+1)=3\n",
        "ims.append(gf.Integ(\"IM_PRODUCT(IM_GAUSS1D(4), IM_GAUSS1D(4))\"))\n",
        "# 非適合要素完全積分 1方向の積分点数(4/2+1)=3\n",
        "ims.append(gf.Integ(\"IM_PRODUCT(IM_GAUSS1D(4), IM_GAUSS1D(4))\"))\n",
        "# 非適合要素完全積分 1方向の積分点数(4/2+1)=3\n",
        "ims.append(gf.Integ(\"IM_PRODUCT(IM_GAUSS1D(4), IM_GAUSS1D(4))\"))\n"
      ],
      "execution_count": 0,
      "outputs": []
    },
    {
      "cell_type": "code",
      "metadata": {
        "id": "MzAy5F_XxyVU",
        "colab_type": "code",
        "colab": {}
      },
      "source": [
        "mims = []\n",
        "for mesh, im in zip(meshs, ims):\n",
        "    mim = gf.MeshIm(mesh, im)\n",
        "    mims.append(mim)\n"
      ],
      "execution_count": 0,
      "outputs": []
    },
    {
      "cell_type": "markdown",
      "metadata": {
        "id": "inmXMhiDzynb",
        "colab_type": "text"
      },
      "source": [
        "### 変数\n",
        "モデルオブジェクトを定義して変数'u'を設定します。"
      ]
    },
    {
      "cell_type": "code",
      "metadata": {
        "id": "GQU-6EO-zbe0",
        "colab_type": "code",
        "colab": {}
      },
      "source": [
        "mds = []\n",
        "for mfu in mfus:\n",
        "    md = gf.Model(\"real\")\n",
        "    md.add_fem_variable(\"u\", mfu)\n",
        "    mds.append(md)\n"
      ],
      "execution_count": 0,
      "outputs": []
    },
    {
      "cell_type": "markdown",
      "metadata": {
        "id": "iZZsWtD21d93",
        "colab_type": "text"
      },
      "source": [
        "### 物性値\n",
        "モデルオブジェクトに対し物性値を定数として定義しておきます。鋼材を仮定しヤング率 E = 205000e+6 N/m2 とします。また、ポアソン効果を無視するためポアソン比 Nu = 0.0 とします。"
      ]
    },
    {
      "cell_type": "code",
      "metadata": {
        "id": "9QjugTGu14Gj",
        "colab_type": "code",
        "colab": {}
      },
      "source": [
        "E = 10000  # [N/mm2]\n",
        "Nu = 0.0\n",
        "\n",
        "for md in mds:\n",
        "    md.add_initialized_data(\"E\", E)\n",
        "    md.add_initialized_data(\"Nu\", Nu)\n"
      ],
      "execution_count": 0,
      "outputs": []
    },
    {
      "cell_type": "markdown",
      "metadata": {
        "id": "gSF5W36n00E7",
        "colab_type": "text"
      },
      "source": [
        "### 平面ひずみ要素\n",
        "変数'u'に対し平面ひずみ要素を定義します。"
      ]
    },
    {
      "cell_type": "code",
      "metadata": {
        "id": "BYQ4PrIezwcM",
        "colab_type": "code",
        "colab": {}
      },
      "source": [
        "for md, mim in zip(mds, mims):\n",
        "    md.add_isotropic_linearized_elasticity_brick_pstrain(mim, \"u\", \"E\", \"Nu\")\n"
      ],
      "execution_count": 0,
      "outputs": []
    },
    {
      "cell_type": "markdown",
      "metadata": {
        "id": "hPQ4wVVM3iK8",
        "colab_type": "text"
      },
      "source": [
        "### 境界条件\n",
        "\n",
        "左側面の領域にDirichlet条件を設定します。"
      ]
    },
    {
      "cell_type": "code",
      "metadata": {
        "id": "P-rLV-Bp24II",
        "colab_type": "code",
        "colab": {}
      },
      "source": [
        "for (md, mim, mfu, fem) in zip(mds, mims, mfus, fems):\n",
        "    if fem.is_lagrange():\n",
        "        md.add_Dirichlet_condition_with_simplification(\"u\", LEFT_BOUND)\n",
        "    else:\n",
        "        md.add_Dirichlet_condition_with_multipliers(mim, \"u\", mfu, LEFT_BOUND)\n"
      ],
      "execution_count": 0,
      "outputs": []
    },
    {
      "cell_type": "markdown",
      "metadata": {
        "id": "7WMVp20z5Nhh",
        "colab_type": "text"
      },
      "source": [
        "右側面にNeumann境界条件を設定します。"
      ]
    },
    {
      "cell_type": "code",
      "metadata": {
        "id": "58PYqaOb45Tk",
        "colab_type": "code",
        "colab": {}
      },
      "source": [
        "F = 1.0  # N/mm2\n",
        "for (md, mfu, mim) in zip(mds, mfus, mims):\n",
        "    md.add_initialized_data(\"F\", [0, F / (b * h)])\n",
        "    md.add_source_term_brick(mim, \"u\", \"F\", RIGHT_BOUND)\n"
      ],
      "execution_count": 0,
      "outputs": []
    },
    {
      "cell_type": "markdown",
      "metadata": {
        "id": "wzRniIhB-sEI",
        "colab_type": "text"
      },
      "source": [
        "## 求解\n",
        "\n",
        "作成したモデルオブジェクトの連立方程式を解き変数'u'の値を求めます。"
      ]
    },
    {
      "cell_type": "code",
      "metadata": {
        "id": "Ga_ybGEB_COm",
        "colab_type": "code",
        "colab": {}
      },
      "source": [
        "for md in mds:\n",
        "    md.solve()\n"
      ],
      "execution_count": 0,
      "outputs": []
    },
    {
      "cell_type": "markdown",
      "metadata": {
        "id": "n948RG_OBhMB",
        "colab_type": "text"
      },
      "source": [
        "連立方程式を解いた後は右辺rhsを出力可能です。"
      ]
    },
    {
      "cell_type": "code",
      "metadata": {
        "id": "KyyvtZc6Bzor",
        "colab_type": "code",
        "outputId": "ab4b679e-6dad-409a-ac3e-34f6b01c0ea6",
        "colab": {
          "base_uri": "https://localhost:8080/",
          "height": 289
        }
      },
      "source": [
        "for md in mds:\n",
        "    print(sum(md.rhs()))\n"
      ],
      "execution_count": 0,
      "outputs": [
        {
          "output_type": "stream",
          "text": [
            "1.000000000000002\n",
            "1.000000000000002\n",
            "1.000000000000002\n",
            "1.000000000000002\n",
            "0.9999999999999996\n",
            "0.9999999999999996\n",
            "0.9999999999999996\n",
            "0.9999999999999998\n",
            "1.0\n",
            "1.0\n",
            "1.0\n",
            "1.0\n",
            "1.166666666666669\n",
            "1.166666666666669\n",
            "1.166666666666669\n",
            "1.1666666666666687\n"
          ],
          "name": "stdout"
        }
      ]
    },
    {
      "cell_type": "markdown",
      "metadata": {
        "id": "H0p8QbwA_Ss6",
        "colab_type": "text"
      },
      "source": [
        "## 結果の確認\n",
        "\n",
        "各ケースの結果をvtkファイルに出力し可視化します。"
      ]
    },
    {
      "cell_type": "code",
      "metadata": {
        "id": "Yfz9hDGJAZKc",
        "colab_type": "code",
        "colab": {}
      },
      "source": [
        "vtks = [\n",
        "    \"u11.vtk\",\n",
        "    \"u12.vtk\",\n",
        "    \"u13.vtk\",\n",
        "    \"u14.vtk\",\n",
        "    \"u21.vtk\",\n",
        "    \"u22.vtk\",\n",
        "    \"u23.vtk\",\n",
        "    \"u24.vtk\",\n",
        "    \"u31.vtk\",\n",
        "    \"u32.vtk\",\n",
        "    \"u33.vtk\",\n",
        "    \"u34.vtk\",\n",
        "    \"u41.vtk\",\n",
        "    \"u42.vtk\",\n",
        "    \"u43.vtk\",\n",
        "    \"u44.vtk\",\n",
        "]\n",
        "for md, mfu, vtk in zip(mds, mfus, vtks):\n",
        "    u = md.variable(\"u\")\n",
        "    mfu.export_to_vtk(vtk, \"ascii\", mfu, u, \"u\")\n"
      ],
      "execution_count": 0,
      "outputs": []
    },
    {
      "cell_type": "code",
      "metadata": {
        "id": "xff7bVY_Ar-0",
        "colab_type": "code",
        "outputId": "eba0b0cb-0b27-42ef-e242-0f6c0df83964",
        "colab": {
          "base_uri": "https://localhost:8080/",
          "height": 289
        }
      },
      "source": [
        "from mayavi import mlab\n",
        "\n",
        "vtks = [\n",
        "    \"u11.vtk\",\n",
        "    \"u12.vtk\",\n",
        "    \"u13.vtk\",\n",
        "    \"u14.vtk\",\n",
        "    \"u21.vtk\",\n",
        "    \"u22.vtk\",\n",
        "    \"u23.vtk\",\n",
        "    \"u24.vtk\",\n",
        "    \"u31.vtk\",\n",
        "    \"u32.vtk\",\n",
        "    \"u33.vtk\",\n",
        "    \"u34.vtk\",\n",
        "    \"u41.vtk\",\n",
        "    \"u42.vtk\",\n",
        "    \"u43.vtk\",\n",
        "    \"u44.vtk\",\n",
        "]\n",
        "pngs = [\n",
        "    \"u11.png\",\n",
        "    \"u12.png\",\n",
        "    \"u13.png\",\n",
        "    \"u14.png\",\n",
        "    \"u21.png\",\n",
        "    \"u22.png\",\n",
        "    \"u23.png\",\n",
        "    \"u24.png\",\n",
        "    \"u31.png\",\n",
        "    \"u32.png\",\n",
        "    \"u33.png\",\n",
        "    \"u34.png\",\n",
        "    \"u41.png\",\n",
        "    \"u42.png\",\n",
        "    \"u43.png\",\n",
        "    \"u44.png\",\n",
        "]\n",
        "\n",
        "for vtk, png in zip(vtks, pngs):\n",
        "    mlab.init_notebook()\n",
        "    vtk_file_reader = mlab.pipeline.open(vtk)\n",
        "    extract_edges = mlab.pipeline.extract_edges(vtk_file_reader)\n",
        "    warp_vector = mlab.pipeline.warp_vector(extract_edges)\n",
        "    surface = mlab.pipeline.surface(warp_vector)\n",
        "    mlab.show()\n",
        "    mlab.savefig(png)\n",
        "    mlab.clf()\n"
      ],
      "execution_count": 0,
      "outputs": [
        {
          "output_type": "stream",
          "text": [
            "Notebook initialized with x3d backend.\n",
            "Notebook initialized with x3d backend.\n",
            "Notebook initialized with x3d backend.\n",
            "Notebook initialized with x3d backend.\n",
            "Notebook initialized with x3d backend.\n",
            "Notebook initialized with x3d backend.\n",
            "Notebook initialized with x3d backend.\n",
            "Notebook initialized with x3d backend.\n",
            "Notebook initialized with x3d backend.\n",
            "Notebook initialized with x3d backend.\n",
            "Notebook initialized with x3d backend.\n",
            "Notebook initialized with x3d backend.\n",
            "Notebook initialized with x3d backend.\n",
            "Notebook initialized with x3d backend.\n",
            "Notebook initialized with x3d backend.\n",
            "Notebook initialized with x3d backend.\n"
          ],
          "name": "stdout"
        }
      ]
    },
    {
      "cell_type": "markdown",
      "metadata": {
        "id": "qnJP7kAfe9R5",
        "colab_type": "text"
      },
      "source": [
        "### 理論解の計算\n",
        "理論解との比較のために各座標におけるたわみを計算します。片持はりに集中荷重が与えられた際の理論解は次式です。\n",
        "\n",
        "$w\\left(x\\right)=\\dfrac{FL^3}{3EI}$"
      ]
    },
    {
      "cell_type": "code",
      "metadata": {
        "id": "UMmE4D_If7bl",
        "colab_type": "code",
        "outputId": "1bc7bdfe-f5a1-49aa-e7ff-40a4ff04a36a",
        "colab": {
          "base_uri": "https://localhost:8080/",
          "height": 34
        }
      },
      "source": [
        "I = b * h ** 3 / 12\n",
        "w = F * L ** 3 / (3 * E * I)\n",
        "print(w)\n"
      ],
      "execution_count": 0,
      "outputs": [
        {
          "output_type": "stream",
          "text": [
            "0.4\n"
          ],
          "name": "stdout"
        }
      ]
    },
    {
      "cell_type": "markdown",
      "metadata": {
        "id": "69vtNG2wNwsH",
        "colab_type": "text"
      },
      "source": [
        "### ケース11の変形図"
      ]
    },
    {
      "cell_type": "code",
      "metadata": {
        "id": "mtC4Fh8uEJ6d",
        "colab_type": "code",
        "outputId": "aeb98214-ef9c-4b72-8fa9-be5ba43efd79",
        "colab": {
          "base_uri": "https://localhost:8080/",
          "height": 367
        }
      },
      "source": [
        "from IPython.display import Image, display_png\n",
        "\n",
        "display_png(Image(\"u11.png\"))\n"
      ],
      "execution_count": 0,
      "outputs": [
        {
          "output_type": "display_data",
          "data": {
            "image/png": "[encoded data removed]"
          },
          "metadata": {
            "tags": []
          }
        }
      ]
    },
    {
      "cell_type": "markdown",
      "metadata": {
        "id": "ptYbOWxXOuYZ",
        "colab_type": "text"
      },
      "source": [
        "### ケース12の変形図"
      ]
    },
    {
      "cell_type": "code",
      "metadata": {
        "id": "eP3m4aNDHo0o",
        "colab_type": "code",
        "outputId": "29d91250-daa6-4074-fe45-47a83c9ce3ae",
        "colab": {
          "base_uri": "https://localhost:8080/",
          "height": 367
        }
      },
      "source": [
        "from IPython.display import Image, display_png\n",
        "\n",
        "display_png(Image(\"u12.png\"))\n"
      ],
      "execution_count": 0,
      "outputs": [
        {
          "output_type": "display_data",
          "data": {
            "image/png": "[encoded data removed]"
          },
          "metadata": {
            "tags": []
          }
        }
      ]
    },
    {
      "cell_type": "markdown",
      "metadata": {
        "id": "17AGRkZ2PFa7",
        "colab_type": "text"
      },
      "source": [
        "### ケース13の変形図"
      ]
    },
    {
      "cell_type": "code",
      "metadata": {
        "id": "1WSB1NhJJ6Gk",
        "colab_type": "code",
        "outputId": "a185d3cb-5be8-4783-879b-564117778cc6",
        "colab": {
          "base_uri": "https://localhost:8080/",
          "height": 367
        }
      },
      "source": [
        "from IPython.display import Image, display_png\n",
        "\n",
        "display_png(Image(\"u13.png\"))\n"
      ],
      "execution_count": 0,
      "outputs": [
        {
          "output_type": "display_data",
          "data": {
            "image/png": "[encoded data removed]"
          },
          "metadata": {
            "tags": []
          }
        }
      ]
    },
    {
      "cell_type": "markdown",
      "metadata": {
        "id": "jc2cZkG5PIVw",
        "colab_type": "text"
      },
      "source": [
        "### ケース14の変形図"
      ]
    },
    {
      "cell_type": "code",
      "metadata": {
        "id": "YLdfHTXrJ778",
        "colab_type": "code",
        "outputId": "7d64f50a-77cb-417b-982d-8cec1d8b88b2",
        "colab": {
          "base_uri": "https://localhost:8080/",
          "height": 367
        }
      },
      "source": [
        "from IPython.display import Image, display_png\n",
        "\n",
        "display_png(Image(\"u14.png\"))\n"
      ],
      "execution_count": 0,
      "outputs": [
        {
          "output_type": "display_data",
          "data": {
            "image/png": "[encoded data removed]"
          },
          "metadata": {
            "tags": []
          }
        }
      ]
    },
    {
      "cell_type": "markdown",
      "metadata": {
        "id": "HwiVdED1PKzD",
        "colab_type": "text"
      },
      "source": [
        "### ケース21の変形図"
      ]
    },
    {
      "cell_type": "code",
      "metadata": {
        "id": "kON4lrbaJ9xk",
        "colab_type": "code",
        "outputId": "e1a7fa7d-fa89-496f-adf6-5a5062cd8437",
        "colab": {
          "base_uri": "https://localhost:8080/",
          "height": 367
        }
      },
      "source": [
        "from IPython.display import Image, display_png\n",
        "\n",
        "display_png(Image(\"u21.png\"))\n"
      ],
      "execution_count": 0,
      "outputs": [
        {
          "output_type": "display_data",
          "data": {
            "image/png": "[encoded data removed]"
          },
          "metadata": {
            "tags": []
          }
        }
      ]
    },
    {
      "cell_type": "markdown",
      "metadata": {
        "id": "jCV589NKPTpf",
        "colab_type": "text"
      },
      "source": [
        "### ケース22の変形図"
      ]
    },
    {
      "cell_type": "code",
      "metadata": {
        "id": "as9IYstcKATw",
        "colab_type": "code",
        "outputId": "c687bb05-90fb-4030-c81c-b14ef96f2440",
        "colab": {
          "base_uri": "https://localhost:8080/",
          "height": 367
        }
      },
      "source": [
        "from IPython.display import Image, display_png\n",
        "\n",
        "display_png(Image(\"u22.png\"))\n"
      ],
      "execution_count": 0,
      "outputs": [
        {
          "output_type": "display_data",
          "data": {
            "image/png": "[encoded data removed]"
          },
          "metadata": {
            "tags": []
          }
        }
      ]
    },
    {
      "cell_type": "markdown",
      "metadata": {
        "id": "PY_KrYPAPQ_K",
        "colab_type": "text"
      },
      "source": [
        "### ケース23の変形図"
      ]
    },
    {
      "cell_type": "code",
      "metadata": {
        "id": "XTqMfwfdKBl2",
        "colab_type": "code",
        "outputId": "aa1e8e99-ba13-469e-f3e9-182bb7dc3282",
        "colab": {
          "base_uri": "https://localhost:8080/",
          "height": 367
        }
      },
      "source": [
        "from IPython.display import Image, display_png\n",
        "\n",
        "display_png(Image(\"u23.png\"))\n"
      ],
      "execution_count": 0,
      "outputs": [
        {
          "output_type": "display_data",
          "data": {
            "image/png": "[encoded data removed]"
          },
          "metadata": {
            "tags": []
          }
        }
      ]
    },
    {
      "cell_type": "markdown",
      "metadata": {
        "id": "Osw87MFZPXHn",
        "colab_type": "text"
      },
      "source": [
        "### ケース24の変形図"
      ]
    },
    {
      "cell_type": "code",
      "metadata": {
        "id": "u0iE0RcYKC5i",
        "colab_type": "code",
        "outputId": "aa38a130-0f2e-415d-b6d9-6b9f153d0f84",
        "colab": {
          "base_uri": "https://localhost:8080/",
          "height": 367
        }
      },
      "source": [
        "from IPython.display import Image, display_png\n",
        "\n",
        "display_png(Image(\"u24.png\"))\n"
      ],
      "execution_count": 0,
      "outputs": [
        {
          "output_type": "display_data",
          "data": {
            "image/png": "[encoded data removed]"
          },
          "metadata": {
            "tags": []
          }
        }
      ]
    },
    {
      "cell_type": "markdown",
      "metadata": {
        "id": "rQyj1kJzPaU_",
        "colab_type": "text"
      },
      "source": [
        "### ケース31の変形図"
      ]
    },
    {
      "cell_type": "code",
      "metadata": {
        "id": "bWNLQzmNKEA4",
        "colab_type": "code",
        "outputId": "31558c3b-a634-4bba-9096-16a6edd4aa28",
        "colab": {
          "base_uri": "https://localhost:8080/",
          "height": 367
        }
      },
      "source": [
        "from IPython.display import Image, display_png\n",
        "\n",
        "display_png(Image(\"u31.png\"))\n"
      ],
      "execution_count": 0,
      "outputs": [
        {
          "output_type": "display_data",
          "data": {
            "image/png": "[encoded data removed]"
          },
          "metadata": {
            "tags": []
          }
        }
      ]
    },
    {
      "cell_type": "markdown",
      "metadata": {
        "id": "dEOU6jZLPdgE",
        "colab_type": "text"
      },
      "source": [
        "### ケース32の変形図"
      ]
    },
    {
      "cell_type": "code",
      "metadata": {
        "id": "3yFyuP9NKFud",
        "colab_type": "code",
        "outputId": "84af0e8f-36c9-4508-97d0-4cb18b5aff45",
        "colab": {
          "base_uri": "https://localhost:8080/",
          "height": 367
        }
      },
      "source": [
        "from IPython.display import Image, display_png\n",
        "\n",
        "display_png(Image(\"u32.png\"))\n"
      ],
      "execution_count": 0,
      "outputs": [
        {
          "output_type": "display_data",
          "data": {
            "image/png": "[encoded data removed]"
          },
          "metadata": {
            "tags": []
          }
        }
      ]
    },
    {
      "cell_type": "markdown",
      "metadata": {
        "id": "Cn7FuHVNPfUt",
        "colab_type": "text"
      },
      "source": [
        "### ケース33の変形図"
      ]
    },
    {
      "cell_type": "code",
      "metadata": {
        "id": "zEaysK3GKG5H",
        "colab_type": "code",
        "outputId": "0a1c3bb5-974f-4880-922c-c732522d90cd",
        "colab": {
          "base_uri": "https://localhost:8080/",
          "height": 367
        }
      },
      "source": [
        "from IPython.display import Image, display_png\n",
        "\n",
        "display_png(Image(\"u33.png\"))\n"
      ],
      "execution_count": 0,
      "outputs": [
        {
          "output_type": "display_data",
          "data": {
            "image/png": "[encoded data removed]"
          },
          "metadata": {
            "tags": []
          }
        }
      ]
    },
    {
      "cell_type": "markdown",
      "metadata": {
        "id": "9fnw5pfXPhNq",
        "colab_type": "text"
      },
      "source": [
        "### ケース34の変形図"
      ]
    },
    {
      "cell_type": "code",
      "metadata": {
        "id": "qDBpneknKIJj",
        "colab_type": "code",
        "outputId": "ae082425-2e4d-40b9-b160-165f6bccb568",
        "colab": {
          "base_uri": "https://localhost:8080/",
          "height": 367
        }
      },
      "source": [
        "from IPython.display import Image, display_png\n",
        "\n",
        "display_png(Image(\"u34.png\"))\n"
      ],
      "execution_count": 0,
      "outputs": [
        {
          "output_type": "display_data",
          "data": {
            "image/png": "[encoded data removed]"
          },
          "metadata": {
            "tags": []
          }
        }
      ]
    },
    {
      "cell_type": "markdown",
      "metadata": {
        "id": "MCKqxPBIPjCX",
        "colab_type": "text"
      },
      "source": [
        "### ケース41の変形図"
      ]
    },
    {
      "cell_type": "code",
      "metadata": {
        "id": "qhwFR0bnKJYR",
        "colab_type": "code",
        "outputId": "1a6e0171-fc42-4ac3-b673-3abf4be0c800",
        "colab": {
          "base_uri": "https://localhost:8080/",
          "height": 367
        }
      },
      "source": [
        "from IPython.display import Image, display_png\n",
        "\n",
        "display_png(Image(\"u41.png\"))\n"
      ],
      "execution_count": 0,
      "outputs": [
        {
          "output_type": "display_data",
          "data": {
            "image/png": "[encoded data removed]"
          },
          "metadata": {
            "tags": []
          }
        }
      ]
    },
    {
      "cell_type": "markdown",
      "metadata": {
        "id": "UJM9mumLPlsK",
        "colab_type": "text"
      },
      "source": [
        "### ケース42の変形図"
      ]
    },
    {
      "cell_type": "code",
      "metadata": {
        "id": "gJ11AuTIKKnr",
        "colab_type": "code",
        "outputId": "b425b410-323d-4525-a11c-4884ca4267b3",
        "colab": {
          "base_uri": "https://localhost:8080/",
          "height": 367
        }
      },
      "source": [
        "from IPython.display import Image, display_png\n",
        "\n",
        "display_png(Image(\"u42.png\"))\n"
      ],
      "execution_count": 0,
      "outputs": [
        {
          "output_type": "display_data",
          "data": {
            "image/png": "[encoded data removed]"
          },
          "metadata": {
            "tags": []
          }
        }
      ]
    },
    {
      "cell_type": "markdown",
      "metadata": {
        "id": "EVLdO58BPnsP",
        "colab_type": "text"
      },
      "source": [
        "### ケース43の変形図"
      ]
    },
    {
      "cell_type": "code",
      "metadata": {
        "id": "FEqhs7RbKNAr",
        "colab_type": "code",
        "outputId": "0cb15b4e-13c4-481e-f0bb-0d222b1d1380",
        "colab": {
          "base_uri": "https://localhost:8080/",
          "height": 367
        }
      },
      "source": [
        "from IPython.display import Image, display_png\n",
        "\n",
        "display_png(Image(\"u43.png\"))\n"
      ],
      "execution_count": 0,
      "outputs": [
        {
          "output_type": "display_data",
          "data": {
            "image/png": "[encoded data removed]"
          },
          "metadata": {
            "tags": []
          }
        }
      ]
    },
    {
      "cell_type": "markdown",
      "metadata": {
        "id": "2QVCW0t6PpcY",
        "colab_type": "text"
      },
      "source": [
        "### ケース44の変形図"
      ]
    },
    {
      "cell_type": "code",
      "metadata": {
        "id": "ajFVdPM8KOIy",
        "colab_type": "code",
        "outputId": "d2ae5db3-23b5-47ee-f456-e301bc7cc279",
        "colab": {
          "base_uri": "https://localhost:8080/",
          "height": 367
        }
      },
      "source": [
        "from IPython.display import Image, display_png\n",
        "\n",
        "display_png(Image(\"u44.png\"))\n"
      ],
      "execution_count": 0,
      "outputs": [
        {
          "output_type": "display_data",
          "data": {
            "image/png": "[encoded data removed]"
          },
          "metadata": {
            "tags": []
          }
        }
      ]
    },
    {
      "cell_type": "markdown",
      "metadata": {
        "id": "HngL2tNXPrem",
        "colab_type": "text"
      },
      "source": [
        "### 理論解との比較"
      ]
    },
    {
      "cell_type": "code",
      "metadata": {
        "id": "WKnwa4FSKP37",
        "colab_type": "code",
        "outputId": "452bed00-d856-4434-f5aa-ec4890251ae9",
        "colab": {
          "base_uri": "https://localhost:8080/",
          "height": 34
        }
      },
      "source": [
        "b = 1.0\n",
        "I = b*h**3.0/12.0\n",
        "dmax = 1.0/3.0*(F*L**3)/(E*I)\n",
        "dmax"
      ],
      "execution_count": 0,
      "outputs": [
        {
          "output_type": "execute_result",
          "data": {
            "text/plain": [
              "0.4"
            ]
          },
          "metadata": {
            "tags": []
          },
          "execution_count": 43
        }
      ]
    },
    {
      "cell_type": "markdown",
      "metadata": {
        "id": "4b_vSpwXVuaK",
        "colab_type": "text"
      },
      "source": [
        "各ケースの変形と理論解の比を計算します。まずは、右側面の最大値を確認します。"
      ]
    },
    {
      "cell_type": "code",
      "metadata": {
        "id": "LKHAtaHRLP_1",
        "colab_type": "code",
        "outputId": "d451a283-85fc-4a30-b886-ce20830b922a",
        "colab": {
          "base_uri": "https://localhost:8080/",
          "height": 289
        }
      },
      "source": [
        "for md, mfu, case in zip(mds, mfus, cases):\n",
        "    u = md.variable(\"u\")\n",
        "    dof = mfu.basic_dof_on_region(RIGHT_BOUND)\n",
        "    print(\n",
        "        case\n",
        "        + \" {0}\".format(round(max(u[dof]), 3))\n",
        "        + \"/ {0} = \".format(dmax)\n",
        "        + \" {0}\".format(round(max(u[dof] / dmax), 3))\n",
        "    )\n"
      ],
      "execution_count": 0,
      "outputs": [
        {
          "output_type": "stream",
          "text": [
            "case11 0.4/ 0.4 =  0.999\n",
            "case12 0.4/ 0.4 =  1.0\n",
            "case13 0.4/ 0.4 =  1.0\n",
            "case14 0.402/ 0.4 =  1.006\n",
            "case21 0.097/ 0.4 =  0.244\n",
            "case22 0.097/ 0.4 =  0.244\n",
            "case23 0.097/ 0.4 =  0.244\n",
            "case24 0.337/ 0.4 =  0.841\n",
            "case31 26094217820.3/ 0.4 =  65235544550.7\n",
            "case32 0.527/ 0.4 =  1.317\n",
            "case33 0.422/ 0.4 =  1.056\n",
            "case34 0.408/ 0.4 =  1.021\n",
            "case41 0.4/ 0.4 =  0.999\n",
            "case42 0.4/ 0.4 =  1.0\n",
            "case43 0.4/ 0.4 =  1.0\n",
            "case44 0.402/ 0.4 =  1.006\n"
          ],
          "name": "stdout"
        }
      ]
    },
    {
      "cell_type": "markdown",
      "metadata": {
        "id": "X5VxQ0YcXqSD",
        "colab_type": "text"
      },
      "source": [
        "確認のため各ケースの左側面の変位の水平・上下の最大値を出力します。"
      ]
    },
    {
      "cell_type": "code",
      "metadata": {
        "id": "4eJF6i6p1_i5",
        "colab_type": "code",
        "outputId": "583f628e-ca66-4195-e21f-49fe74f699e0",
        "colab": {
          "base_uri": "https://localhost:8080/",
          "height": 289
        }
      },
      "source": [
        "for md, mfu, case in zip(mds, mfus, cases):\n",
        "  u = md.variable('u')\n",
        "  dof = mfu.basic_dof_on_region(LEFT_BOUND)\n",
        "  print(case + \" {0}\".format(round(max(u[dof]), 3)))"
      ],
      "execution_count": 0,
      "outputs": [
        {
          "output_type": "stream",
          "text": [
            "case11 0.0\n",
            "case12 0.0\n",
            "case13 0.0\n",
            "case14 0.0\n",
            "case21 0.0\n",
            "case22 0.0\n",
            "case23 0.0\n",
            "case24 0.0\n",
            "case31 0.0\n",
            "case32 0.0\n",
            "case33 0.0\n",
            "case34 0.0\n",
            "case41 0.0\n",
            "case42 0.0\n",
            "case43 0.0\n",
            "case44 0.0\n"
          ],
          "name": "stdout"
        }
      ]
    },
    {
      "cell_type": "markdown",
      "metadata": {
        "id": "VfWY87OoYOlx",
        "colab_type": "text"
      },
      "source": [
        "左側面は固定端のため変位は全て0.0になっています。"
      ]
    }
  ]
}