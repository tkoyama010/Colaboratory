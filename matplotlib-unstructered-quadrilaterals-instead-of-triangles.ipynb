{
  "nbformat": 4,
  "nbformat_minor": 0,
  "metadata": {
    "colab": {
      "name": "Untitled77.ipynb",
      "provenance": [],
      "authorship_tag": "ABX9TyPFpS2oeK+x5ikPRZDLeWc3",
      "include_colab_link": true
    },
    "kernelspec": {
      "name": "python3",
      "display_name": "Python 3"
    }
  },
  "cells": [
    {
      "cell_type": "markdown",
      "metadata": {
        "id": "view-in-github",
        "colab_type": "text"
      },
      "source": [
        "<a href=\"https://colab.research.google.com/github/tkoyama010/Colaboratory/blob/master/matplotlib-unstructered-quadrilaterals-instead-of-triangles.ipynb\" target=\"_parent\"><img src=\"https://colab.research.google.com/assets/colab-badge.svg\" alt=\"Open In Colab\"/></a>"
      ]
    },
    {
      "cell_type": "markdown",
      "metadata": {
        "id": "eANIINyZgc9R",
        "colab_type": "text"
      },
      "source": [
        "https://stackoverflow.com/questions/49640311/matplotlib-unstructered-quadrilaterals-instead-of-triangles"
      ]
    },
    {
      "cell_type": "code",
      "metadata": {
        "id": "6FjBBkXigJLu",
        "colab_type": "code",
        "outputId": "f944b02b-be22-4e8d-f35f-c6c03282f998",
        "colab": {
          "base_uri": "https://localhost:8080/",
          "height": 295
        }
      },
      "source": [
        "import matplotlib.pyplot as plt\n",
        "import matplotlib.tri as tri\n",
        "import numpy as np\n",
        "\n",
        "xy = np.asarray(\n",
        "    [\n",
        "        [-0.101, 0.872],\n",
        "        [-0.080, 0.883],\n",
        "        [-0.069, 0.888],\n",
        "        [-0.054, 0.890],\n",
        "        [-0.045, 0.897],\n",
        "        [-0.057, 0.895],\n",
        "        [-0.073, 0.900],\n",
        "        [-0.087, 0.898],\n",
        "        [-0.090, 0.904],\n",
        "        [-0.069, 0.907],\n",
        "        [-0.069, 0.921],\n",
        "        [-0.080, 0.919],\n",
        "        [-0.073, 0.928],\n",
        "        [-0.052, 0.930],\n",
        "        [-0.048, 0.942],\n",
        "        [-0.062, 0.949],\n",
        "        [-0.054, 0.958],\n",
        "        [-0.069, 0.954],\n",
        "        [-0.087, 0.952],\n",
        "        [-0.087, 0.959],\n",
        "        [-0.080, 0.966],\n",
        "        [-0.085, 0.973],\n",
        "        [-0.087, 0.965],\n",
        "        [-0.097, 0.965],\n",
        "        [-0.097, 0.975],\n",
        "        [-0.092, 0.984],\n",
        "        [-0.101, 0.980],\n",
        "        [-0.108, 0.980],\n",
        "        [-0.104, 0.987],\n",
        "        [-0.102, 0.993],\n",
        "        [-0.115, 1.001],\n",
        "        [-0.099, 0.996],\n",
        "        [-0.101, 1.007],\n",
        "        [-0.090, 1.010],\n",
        "        [-0.087, 1.021],\n",
        "        [-0.069, 1.021],\n",
        "        [-0.052, 1.022],\n",
        "        [-0.052, 1.017],\n",
        "        [-0.069, 1.010],\n",
        "        [-0.064, 1.005],\n",
        "        [-0.048, 1.005],\n",
        "        [-0.031, 1.005],\n",
        "        [-0.031, 0.996],\n",
        "        [-0.040, 0.987],\n",
        "        [-0.045, 0.980],\n",
        "        [-0.052, 0.975],\n",
        "        [-0.040, 0.973],\n",
        "        [-0.026, 0.968],\n",
        "        [-0.020, 0.954],\n",
        "        [-0.006, 0.947],\n",
        "        [0.003, 0.935],\n",
        "        [0.006, 0.926],\n",
        "        [0.005, 0.921],\n",
        "        [0.022, 0.923],\n",
        "        [0.033, 0.912],\n",
        "        [0.029, 0.905],\n",
        "        [0.017, 0.900],\n",
        "        [0.012, 0.895],\n",
        "        [0.027, 0.893],\n",
        "        [0.019, 0.886],\n",
        "        [0.001, 0.883],\n",
        "        [-0.012, 0.884],\n",
        "        [-0.029, 0.883],\n",
        "        [-0.038, 0.879],\n",
        "        [-0.057, 0.881],\n",
        "        [-0.062, 0.876],\n",
        "        [-0.078, 0.876],\n",
        "        [-0.087, 0.872],\n",
        "        [-0.030, 0.907],\n",
        "        [-0.007, 0.905],\n",
        "        [-0.057, 0.916],\n",
        "        [-0.025, 0.933],\n",
        "        [-0.077, 0.990],\n",
        "        [-0.059, 0.993],\n",
        "    ]\n",
        ")\n",
        "x = np.degrees(xy[:, 0])\n",
        "y = np.degrees(xy[:, 1])\n",
        "\n",
        "triangles = np.asarray([[65, 44, 20], [65, 60, 44]])\n",
        "\n",
        "triang = tri.Triangulation(x, y, triangles)\n",
        "\n",
        "plt.figure()\n",
        "plt.gca().set_aspect(\"equal\")\n",
        "plt.triplot(triang, \"go-\", lw=1.0)\n",
        "plt.title(\"triplot of user-specified triangulation\")\n",
        "plt.xlabel(\"Longitude (degrees)\")\n",
        "plt.ylabel(\"Latitude (degrees)\")\n",
        "\n",
        "plt.show()\n"
      ],
      "execution_count": 1,
      "outputs": [
        {
          "output_type": "display_data",
          "data": {
            "image/png": "[encoded data removed]",
            "text/plain": [
              "<Figure size 432x288 with 1 Axes>"
            ]
          },
          "metadata": {
            "tags": []
          }
        }
      ]
    },
    {
      "cell_type": "code",
      "metadata": {
        "id": "uQVKR8rbgJz4",
        "colab_type": "code",
        "outputId": "21937f6b-b4b3-421d-b913-3c04d1b8bb8e",
        "colab": {
          "base_uri": "https://localhost:8080/",
          "height": 295
        }
      },
      "source": [
        "import matplotlib.pyplot as plt\n",
        "import numpy as np\n",
        "import matplotlib.collections\n",
        "\n",
        "xy = np.asarray(\n",
        "    [\n",
        "        [-0.101, 0.872],\n",
        "        [-0.080, 0.883],\n",
        "        [-0.069, 0.888],\n",
        "        [-0.054, 0.890],\n",
        "        [-0.090, 0.904],\n",
        "        [-0.069, 0.907],\n",
        "        [-0.069, 0.921],\n",
        "        [-0.080, 0.919],\n",
        "        [-0.080, 0.966],\n",
        "        [-0.085, 0.973],\n",
        "        [-0.087, 0.965],\n",
        "        [-0.097, 0.965],\n",
        "        [-0.104, 0.987],\n",
        "        [-0.102, 0.993],\n",
        "        [-0.115, 1.001],\n",
        "        [-0.099, 0.996],\n",
        "        [-0.052, 1.022],\n",
        "        [-0.052, 1.017],\n",
        "        [-0.069, 1.010],\n",
        "        [-0.064, 1.005],\n",
        "        [-0.045, 0.980],\n",
        "        [-0.052, 0.975],\n",
        "        [-0.040, 0.973],\n",
        "        [-0.026, 0.968],\n",
        "        [0.017, 0.900],\n",
        "        [0.012, 0.895],\n",
        "        [0.027, 0.893],\n",
        "        [0.019, 0.886],\n",
        "        [0.001, 0.883],\n",
        "        [-0.012, 0.884],\n",
        "        [-0.029, 0.883],\n",
        "        [-0.038, 0.879],\n",
        "        [-0.030, 0.907],\n",
        "        [-0.007, 0.905],\n",
        "        [-0.057, 0.916],\n",
        "        [-0.025, 0.933],\n",
        "        [-0.077, 0.990],\n",
        "        [-0.059, 0.993],\n",
        "    ]\n",
        ")\n",
        "x = np.degrees(xy[:, 0])\n",
        "y = np.degrees(xy[:, 1])\n",
        "\n",
        "quatrang = np.asarray([[19, 13, 10, 22], [35, 7, 3, 28]])\n",
        "\n",
        "\n",
        "def quatplot(x, y, quatrangles, ax=None, **kwargs):\n",
        "    if not ax:\n",
        "        ax = plt.gca()\n",
        "    xy = np.c_[x, y]\n",
        "    verts = xy[quatrangles]\n",
        "    pc = matplotlib.collections.PolyCollection(verts, **kwargs)\n",
        "    ax.add_collection(pc)\n",
        "    ax.autoscale()\n",
        "\n",
        "\n",
        "plt.figure()\n",
        "plt.gca().set_aspect(\"equal\")\n",
        "\n",
        "quatplot(x, y, quatrang, ax=None, color=\"crimson\", facecolor=\"None\")\n",
        "plt.plot(x, y, marker=\"o\", ls=\"\", color=\"crimson\")\n",
        "\n",
        "plt.title(\"quatplot of user-specified quatrangulation\")\n",
        "plt.xlabel(\"Longitude (degrees)\")\n",
        "plt.ylabel(\"Latitude (degrees)\")\n",
        "\n",
        "for i, (xi, yi) in enumerate(np.degrees(xy)):\n",
        "    plt.text(xi, yi, i, size=8)\n",
        "plt.show()\n"
      ],
      "execution_count": 2,
      "outputs": [
        {
          "output_type": "display_data",
          "data": {
            "image/png": "[encoded data removed]",
            "text/plain": [
              "<Figure size 432x288 with 1 Axes>"
            ]
          },
          "metadata": {
            "tags": []
          }
        }
      ]
    },
    {
      "cell_type": "code",
      "metadata": {
        "id": "hfOPKL4MgQtB",
        "colab_type": "code",
        "colab": {}
      },
      "source": [
        ""
      ],
      "execution_count": 0,
      "outputs": []
    }
  ]
}