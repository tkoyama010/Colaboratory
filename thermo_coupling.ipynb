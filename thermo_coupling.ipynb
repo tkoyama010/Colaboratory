{
 "cells": [
  {
   "cell_type": "markdown",
   "metadata": {
    "colab_type": "text",
    "id": "GkZNZUciouUO"
   },
   "source": [
    "<table class=\"tfo-notebook-buttons\" align=\"left\">\n",
    "  <td>\n",
    "    <a target=\"_blank\" href=\"https://github.com/tkoyama010/Colaboratory/blob/master/thermo_coupling.ipynb\">\n",
    "    <img src=\"https://www.tensorflow.org/images/GitHub-Mark-32px.png\" />\n",
    "    View source on GitHub</a>\n",
    "  </td>\n",
    "</table>"
   ]
  },
  {
   "cell_type": "markdown",
   "metadata": {
    "colab_type": "text",
    "id": "jW4O5ish49Ai"
   },
   "source": [
    "# GetFEM++とは\n",
    "GetFEM++ は Python, Matlab そして Scilabのインタフェースを使用可能なC++の汎用有限要素法ライブラリです。このライブラリの目的は有限要素法を用いて線形および非線形偏微分方程式を解くためのフレームワークを提供することが目的です。有限要素近似や数値積分法の選択の柔軟性が特徴の一つです。\n",
    "([Wikipedia](https://ja.wikipedia.org/wiki/GetFEM%2B%2B)より)\n",
    "![tripodvonmiseswithmesh](http://getfem.org/_static/tripodvonmiseswithmesh.png)"
   ]
  },
  {
   "cell_type": "markdown",
   "metadata": {
    "colab_type": "text",
    "id": "47WpM3saGTNR"
   },
   "source": [
    "# コンパイル済みパッケージからのインストール\n",
    "\n",
    "## Debian / Ubuntuシステム上\n",
    "\n",
    "GetFEM ++パッケージは、DebianおよびUbuntuディストリビューションの公式リポジトリで入手できます。さまざまなDebianリリースで利用可能なGetFEM++バージョンに関する情報は、 https://packages.debian.org/source/sid/getfem++ などにあり、さまざまなUbuntuリリースに関しては https://launchpad.net/ubuntu/+source/getfem++ を参照してください。GetFEM++（pythonインターフェイスを含む）は、apt updateおよびapt install python-getfem ++を実行することにより、ターミナルからインストールできます。"
   ]
  },
  {
   "cell_type": "raw",
   "metadata": {
    "colab": {},
    "colab_type": "code",
    "id": "hfhWAnfdDBAa"
   },
   "source": [
    "sudo apt update && sudo apt install python-getfem++"
   ]
  },
  {
   "cell_type": "markdown",
   "metadata": {
    "colab_type": "text",
    "id": "R7xRL3MJzlqC"
   },
   "source": [
    "# GetFEM++ の基本的な使い方\n",
    "GetFEM++ の構造は以下のようにまとめることができます。\n",
    "![getfem_structure1](https://getfem.readthedocs.io/ja/latest/_images/getfem_structure1.png)\n",
    "\n",
    "GetFEM++ を使用するプログラムは、多くの場合、次の構造となります\n",
    "```\n",
    "... define one or more Mesh\n",
    "\n",
    "... define one or more MeshFem\n",
    "\n",
    "... define one or more MeshIm\n",
    "\n",
    "... define a Model and set it up:\n",
    "\n",
    "    Model.add_fem_variable(MeshFem, \"some variable name\")\n",
    "\n",
    "    Model.add_fem_variable(MeshFem, \"another variable name\")\n",
    "\n",
    "    Model.add_fem_data(MeshFem, \"some data name\")\n",
    "\n",
    "    Model.add_nonlinear_generic_assembly_brick(MeshIm,\n",
    "                            \"copy & paste your PDE weak formulation here\", MeshRegion)\n",
    "\n",
    "    Model.solve(...options)\n",
    "```\n",
    "弱形式言語で偏微分方程式項を定義するのではなく(弱形式言語の記号の詳細については [任意の項を計算する - 高水準の汎用的な構築手順 - 弱形式言語](https://getfem.readthedocs.io/ja/latest/userdoc/gasm_high.html#ud-gasm-high) を参照してください)、標準項として定義済みのブリックを使用することもできます。汎用的な楕円項、線形化または有限ひずみ弾性、標準境界条件...など。"
   ]
  },
  {
   "cell_type": "markdown",
   "metadata": {
    "colab_type": "text",
    "id": "E4rEtbuLC8V3"
   },
   "source": [
    "# 熱および電気弾性連成の例 (単純な非線形連成問題、モデルオブジェクト、汎用アセンブリ、解析および可視化)"
   ]
  },
  {
   "cell_type": "markdown",
   "metadata": {
    "colab_type": "text",
    "id": "CZLW9X1yIF-c"
   },
   "source": [
    "[この](https://getfem.readthedocs.io/ja/latest/tutorial/thermo_coupling.html)例では、変位フィールド、温度フィールド、および電位フィールドの非線形連成のマルチフィジックス問題の簡単な例を紹介します。対応するデモファイルは、 GetFEM++ のテストディレクトリにあります( interface/tests/python )。"
   ]
  },
  {
   "cell_type": "markdown",
   "metadata": {
    "colab_type": "text",
    "id": "qbngxc7jIbPu"
   },
   "source": [
    "## 問題の設定\n",
    "$\\Omega \\subset \\boldsymbol{R}^2$ は、2次元板の参照配置です( [ここ](https://getfem.readthedocs.io/ja/latest/tutorial/thermo_coupling.html#tut-fig-meshthermo) のジオメトリを参照してください)、ここで厚さ $\\varepsilon$ は外部力、電位および加熱に寄与します。ここで、 $\\theta : \\Omega \\rightarrow \\boldsymbol{R}$ は( °C の)温度フィールド、 $V : \\Omega \\rightarrow \\boldsymbol{R}$ は電位フィールドです。また、 $u : \\Omega \\rightarrow \\boldsymbol{R}^2$ は膜変位場です。"
   ]
  },
  {
   "cell_type": "markdown",
   "metadata": {
    "colab_type": "text",
    "id": "Z3bNBxuoJVgC"
   },
   "source": [
    "### 熱問題\n",
    "プレートの表裏面は、熱伝達係数 $D$ の (20 °C の) 空気と熱交換しており、プレートの側面は断熱であると想定されています。"
   ]
  },
  {
   "cell_type": "markdown",
   "metadata": {
    "colab_type": "text",
    "id": "9QauZVWEJcof"
   },
   "source": [
    "熱方程式 $\\theta$ と境界条件は次のように書くことができます。"
   ]
  },
  {
   "cell_type": "markdown",
   "metadata": {
    "colab_type": "text",
    "id": "MpgTfV-XJmko"
   },
   "source": [
    "$$\n",
    "\\left\\{\\begin{array}{l}\n",
    "-\\mbox{div}(\\varepsilon\\kappa(\\nabla \\theta)) + 2D(\\theta - T_0) - \\varepsilon\\sigma|\\nabla V|^2 = 0 ~~ \\mbox{ in } \\Omega, \\\\\n",
    "\\kappa\\nabla \\theta \\cdot n = 0 ~~ \\mbox{ on } \\partial \\Omega,\n",
    "\\end{array} \\right.\n",
    "$$"
   ]
  },
  {
   "cell_type": "markdown",
   "metadata": {
    "colab_type": "text",
    "id": "eC_AT1NiJ0OO"
   },
   "source": [
    "$\\kappa$ は熱電導率、 $T_0$ は空気の温度、 $\\partial \\Omega$ は、領域 $\\Omega$ の境界であり $n$ は $\\partial \\Omega$ 上の $\\Omega$ の外向きの単位法線ベクトルです。"
   ]
  },
  {
   "cell_type": "markdown",
   "metadata": {
    "colab_type": "text",
    "id": "KuOd7vYCKCyp"
   },
   "source": [
    "項 $\\sigma|\\nabla V|^2$ は、Joule加熱項に対応する非線形連成項であり、 $\\sigma$ は電気伝導率です。"
   ]
  },
  {
   "cell_type": "markdown",
   "metadata": {
    "colab_type": "text",
    "id": "d7zIAX1yKORu"
   },
   "source": [
    "### 電位問題\n",
    "プレートの左右の側面の間には 0.1V の電位差があるとします。他の面は電気的に絶縁されていると考えます。電位の方程式は次の通りです。"
   ]
  },
  {
   "cell_type": "markdown",
   "metadata": {
    "colab_type": "text",
    "id": "p3zIq8MUKdbJ"
   },
   "source": [
    "$$\n",
    "\\left\\{\\begin{array}{l}\n",
    "-\\mbox{div}(\\varepsilon\\sigma(\\nabla V)) = 0 ~~ \\mbox{ in } \\Omega, \\\\\n",
    "\\sigma\\nabla V \\cdot n = 0 ~~ \\mbox{ on the top an bottom lateral faces}, \\\\\n",
    "V = 0 ~~ \\mbox{ on the right lateral face}, \\\\\n",
    "V = 0.1 ~~ \\mbox{ on the left lateral face}, \\\\\n",
    "\\end{array} \\right.\n",
    "$$"
   ]
  },
  {
   "cell_type": "markdown",
   "metadata": {
    "colab_type": "text",
    "id": "8KpO32jzKutI"
   },
   "source": [
    "ここでも $\\sigma$ は電気伝導率です。さらに、 $\\sigma$ は次のように温度に依存すると考えます。"
   ]
  },
  {
   "cell_type": "markdown",
   "metadata": {
    "colab_type": "text",
    "id": "rw91LuYYK59v"
   },
   "source": [
    "$$\n",
    "\\sigma = \\dfrac{1}{\\rho_0(1+\\alpha(\\theta - T_0))},\n",
    "$$"
   ]
  },
  {
   "cell_type": "markdown",
   "metadata": {
    "colab_type": "text",
    "id": "Ai6vB8r0LFn7"
   },
   "source": [
    "ここで $T_0$ は参照温度 (ここでは空気温度) であり、 $\\rho_0$ は $T_0$ 上の抵抗温度係数であり、$\\alpha$ は第2抵抗温度係数です。"
   ]
  },
  {
   "cell_type": "markdown",
   "metadata": {
    "colab_type": "text",
    "id": "R0nfZBYRLUrg"
   },
   "source": [
    "### 変形問題\n",
    "右側面に加わる力の下でプレートの微小変形を考慮し, プレートの加熱によって影響を受けるとします。変位 $u$ は、次の(線形化された弾性)問題の解になります。"
   ]
  },
  {
   "cell_type": "markdown",
   "metadata": {
    "colab_type": "text",
    "id": "UcupHnDhLkMl"
   },
   "source": [
    "$$\n",
    "\\left\\{\\begin{array}{l}\n",
    "-\\mbox{div}(\\bar{\\sigma}(u)) = 0 ~~ \\mbox{ in } \\Omega, \\\\\n",
    "\\bar{\\sigma}\\ n = 0 ~~ \\mbox{ on the top an bottom lateral faces}, \\\\\n",
    "\\bar{\\sigma}\\ n = F ~~ \\mbox{ on the right lateral face}, \\\\\n",
    "u = 0 ~~ \\mbox{ on the left lateral face},\n",
    "\\end{array} \\right.\n",
    "$$"
   ]
  },
  {
   "cell_type": "markdown",
   "metadata": {
    "colab_type": "text",
    "id": "MPNcNUXnLt1B"
   },
   "source": [
    "ここで $F$ は右横方向の境界に加えられる力密度であり、 $\\bar{\\sigma}(u)$ は次のように定義されたCauchy応力テンソルです。"
   ]
  },
  {
   "cell_type": "markdown",
   "metadata": {
    "colab_type": "text",
    "id": "qPPLDMlELzjR"
   },
   "source": [
    "$$\n",
    "\\bar{\\sigma}(u) = \\lambda^* \\mbox{div}(u) I + 2\\mu \\bar{\\varepsilon}(u) + \\beta(T_0-\\theta) I,\n",
    "$$"
   ]
  },
  {
   "cell_type": "markdown",
   "metadata": {
    "colab_type": "text",
    "id": "5agpHDIgMCYQ"
   },
   "source": [
    "$\\bar{\\varepsilon}(u) = (\\nabla u + (\\nabla u)^T)/2$ は、線形化されたひずみテンソルであり、 $I$ は2次単位テンソルで、 $\\lambda^*$, $\\mu$ は Lamé 係数であり次のように定義されます。"
   ]
  },
  {
   "cell_type": "markdown",
   "metadata": {
    "colab_type": "text",
    "id": "XzY1eufFMLyG"
   },
   "source": [
    "$$\\lambda = \\dfrac{E\\nu}{(1+\\nu)(1-2\\nu)}, \\\\\n",
    "\\mu = \\dfrac{E}{2(1+\\nu)}, \\\\\n",
    "\\lambda^* = \\dfrac{2\\lambda\\mu}{\\lambda+2*\\mu},$$"
   ]
  },
  {
   "cell_type": "markdown",
   "metadata": {
    "colab_type": "text",
    "id": "Q8G1F16DMw4s"
   },
   "source": [
    "$E$ は材料のヤング係数であり $\\nu$ はポアソン比です。"
   ]
  },
  {
   "cell_type": "markdown",
   "metadata": {
    "colab_type": "text",
    "id": "9XXvi32YM2fi"
   },
   "source": [
    "項 $\\beta(T_0-\\theta) I$ は、熱膨張の項に対応しています。ここで $\\beta = \\alpha_{th} E/(1-2\\nu)$ で、 $\\alpha_{th}$ は熱膨張係数です。"
   ]
  },
  {
   "cell_type": "markdown",
   "metadata": {
    "colab_type": "text",
    "id": "PHfHzTdiNDiJ"
   },
   "source": [
    "## 弱定式化"
   ]
  },
  {
   "cell_type": "markdown",
   "metadata": {
    "colab_type": "text",
    "id": "S7lEx3h4NI-8"
   },
   "source": [
    "方程式の連成系方程式の弱定式化は重要なステップです。有限要素の定式化は弱定式化 (Galerkin近似) に基づいており、弱定式化は追加される項を表現する唯一の方法であるため、これはきわめて重要なステップです。"
   ]
  },
  {
   "cell_type": "markdown",
   "metadata": {
    "colab_type": "text",
    "id": "bLA8AUD4Oeen"
   },
   "source": [
    "各偏微分方程式の弱定式化は、未知数に対応する試行関数を式に掛けることにより得られます。未知数はDirichlet条件を満たし条件は均質であるとします。その後 $\\Omega$ 領域上の積分と(Greenの式を使用した)部分のいくつかの積分を実行します。偏微分方程式系の弱定式化は次の通りです。"
   ]
  },
  {
   "cell_type": "markdown",
   "metadata": {
    "colab_type": "text",
    "id": "yMZ0VFX6OlJg"
   },
   "source": [
    "$$\n",
    "\\mbox{Find } \\theta, V, u \\mbox{ with } V = 0.1, u = 0 \\mbox{ on the left face}, V = 0 \\mbox{ on the right face}, \\\\\n",
    "\\int_{\\Omega} \\varepsilon\\kappa\\nabla\\theta\\cdot\\nabla\\delta_{\\theta} + 2D\\theta\\delta_{\\theta}d\\Omega = \\int_{\\Omega} (2DT_0 + \\varepsilon\\sigma|\\nabla V|^2)\\delta_{\\theta} d\\Omega ~~~\\mbox{ for all } \\delta_{\\theta}, \\\\\n",
    "\\int_{\\Omega} \\varepsilon\\sigma\\nabla V\\cdot\\nabla\\delta_V = 0 d\\Omega ~~~ \\mbox{ for all } \\delta_V \\mbox{ satisfying } \\delta_V = 0 \\mbox{ on the left and right faces}, \\\\\n",
    "\\int_{\\Omega} \\bar{\\sigma}(u):\\bar{\\varepsilon}(\\delta_u)d\\Omega = \\int_{\\Gamma_N} F\\cdot \\delta_u d\\Gamma ~~~ \\mbox{ for all } \\delta_{u} \\mbox{ satisfying } \\delta_u = 0 \\mbox{ on the left face},\n",
    "$$"
   ]
  },
  {
   "cell_type": "markdown",
   "metadata": {
    "colab_type": "text",
    "id": "InSJqIcjO8Wq"
   },
   "source": [
    "ここで $\\delta_{\\theta}$, $\\delta_V$, $\\delta_u$ は、それぞれ、 $\\theta$, $V$, $u$ に対応する試験関数です、 $\\Gamma_N$ は力密度 $F$ がかかる右の境界を示します。そして $\\bar{\\sigma}:\\bar{\\varepsilon}$ は2次テンソル同士のFrobeniusスカラー積です。"
   ]
  },
  {
   "cell_type": "markdown",
   "metadata": {
    "colab_type": "text",
    "id": "aYXWs99ZPbF3"
   },
   "source": [
    "## Python での実装とインターフェイス"
   ]
  },
  {
   "cell_type": "markdown",
   "metadata": {
    "colab_type": "text",
    "id": "tg0puw-fPjfl"
   },
   "source": [
    "次に、問題を近似する GetFEM++ の使用法についての詳細なプレゼンテーションを行います。"
   ]
  },
  {
   "cell_type": "markdown",
   "metadata": {
    "colab_type": "text",
    "id": "omOqxCbtPqpP"
   },
   "source": [
    "### 初期化\n",
    "Python の場合、これは簡単です。 GetFEM++ をグローバルにインポートするだけです(numpy もインポートする必要があります)。ポスト処理のためにpyvistaとmatplotlibもインポートします。"
   ]
  },
  {
   "cell_type": "code",
   "execution_count": 1,
   "metadata": {
    "colab": {},
    "colab_type": "code",
    "id": "6BSj_spuPYmG"
   },
   "outputs": [],
   "source": [
    "import getfem as gf\n",
    "import numpy as np\n",
    "import pyvista as pv\n",
    "import pyvista\n",
    "import matplotlib.pyplot as plt\n",
    "\n",
    "\n",
    "pyvista.start_xvfb()"
   ]
  },
  {
   "cell_type": "markdown",
   "metadata": {
    "colab_type": "text",
    "id": "no8lxmn5QDf8"
   },
   "source": [
    "### モデルのパラメータ\n",
    "ここで、問題のさまざまな物理パラメータおよび数値パラメータを定義しましょう。"
   ]
  },
  {
   "cell_type": "code",
   "execution_count": 2,
   "metadata": {
    "colab": {},
    "colab_type": "code",
    "id": "hxTN1TzNP9Xd"
   },
   "outputs": [],
   "source": [
    "epsilon = 1.0  # Thickness of the plate (cm)\n",
    "E = 21e6  # Young Modulus (N/cm^2)\n",
    "nu = 0.3  # Poisson ratio\n",
    "clambda = E * nu / ((1 + nu) * (1 - 2 * nu))  # First Lame coefficient (N/cm^2)\n",
    "cmu = E / (2 * (1 + nu))  # Second Lame coefficient (N/cm^2)\n",
    "# Lame coefficient for Plane stress (N/cm^2)\n",
    "clambdastar = 2 * clambda * cmu / (clambda + 2 * cmu)\n",
    "F = 100e2  # Force density at the right boundary (N/cm^2)\n",
    "kappa = 4.0  # Thermal conductivity (W/(cm K))\n",
    "D = 10.0  # Heat transfer coefficient (W/(K cm^2))\n",
    "air_temp = 20.0  # Temperature of the air in oC.\n",
    "alpha_th = 16.6e-6  # Thermal expansion coefficient (/K).\n",
    "T0 = 20.0  # Reference temperature in oC.\n",
    "rho_0 = 1.754e-8  # Resistance temperature coefficient at T0 = 20oC\n",
    "alpha = 0.0039  # Second resistance temperature coefficient.\n",
    "\n",
    "h = 2.0  # Approximate mesh size\n",
    "elements_degree = 2  # Degree of the finite element methods"
   ]
  },
  {
   "cell_type": "markdown",
   "metadata": {
    "colab_type": "text",
    "id": "T6sZyZz-QhlM"
   },
   "source": [
    "### メッシュ生成\n",
    "GetFEM++ には、ここで説明するいくつかの制約のあるメッシュ機能があります。ここではそれらを使用するつもりです。しかし、得られたメッシュの品質と適合性は保証していません。そのため、 GetFEM++ のメッシュ作成機能を使用する場合はメッシュを確認することをお勧めします。また、外部メッシャ (例えばGiD または Gmsh) を使用してインポートすることもできます( [メッシュの保存とロード](https://getfem.readthedocs.io/ja/latest/userdoc/bmesh.html#ud-load-save-mesh) をご覧ください)。"
   ]
  },
  {
   "cell_type": "markdown",
   "metadata": {
    "colab_type": "text",
    "id": "yzUNwaCGRNR6"
   },
   "source": [
    "領域のジオメトリは、3つの円形の穴がある長方形であるとします ( [得られたメッシュ](https://getfem.readthedocs.io/ja/latest/tutorial/thermo_coupling.html#tut-fig-meshthermo)。 を参照)。ジオメトリは、いくつかの初等幾何と union/setminus 操作によって記述します ( src/getfem/getfem_mesher.h ファイルを参照してください)。以下では、 h はメッシュサイズを表し、 2 はメッシュの次数を表します (これは変換が次数2であり、曲線エッジを使用することを意味します)。\n",
    "\n",
    "![mesh_thermo](https://getfem.readthedocs.io/ja/latest/_images/mesh_thermo.png)"
   ]
  },
  {
   "cell_type": "code",
   "execution_count": 3,
   "metadata": {
    "colab": {},
    "colab_type": "code",
    "id": "6Dr1ME5RQKq8"
   },
   "outputs": [
    {
     "name": "stdout",
     "output_type": "stream",
     "text": [
      "effective bounding box : [0, 0] : [100, 25]\n",
      "Iter 0 NEW DELAUNAY, running on 592 points\n",
      "number of elements after selection = 1024\n",
      "Iter 5 NEW DELAUNAY, running on 592 points\n",
      "number of elements after selection = 1020\n",
      "Iter 10 NEW DELAUNAY, running on 592 points\n",
      "number of elements after selection = 1018\n",
      "Iter 15 NEW DELAUNAY, running on 592 points\n",
      "number of elements after selection = 1004\n",
      "Iter 22 NEW DELAUNAY, running on 592 points\n",
      "number of elements after selection = 1004\n",
      "Iter 30 NEW DELAUNAY, running on 592 points\n",
      "number of elements after selection = 1000\n",
      "Iter 38 NEW DELAUNAY, running on 592 points\n",
      "number of elements after selection = 992\n",
      "Iter 48 NEW DELAUNAY, running on 592 points\n",
      "number of elements after selection = 992\n",
      "Iter 63 NEW DELAUNAY, running on 592 points\n",
      "number of elements after selection = 988\n",
      "Iter 92 NEW DELAUNAY, running on 592 points\n",
      "number of elements after selection = 988\n",
      "Iter 121 NEW DELAUNAY, running on 592 points\n",
      "number of elements after selection = 988\n",
      "Iter 160 NEW DELAUNAY, running on 592 points\n",
      "number of elements after selection = 988\n",
      "Iter 237 NEW DELAUNAY, running on 592 points\n",
      "number of elements after selection = 988\n",
      "Iter 293 NEW DELAUNAY, running on 592 points\n",
      "number of elements after selection = 984\n",
      "Iter 348 NEW DELAUNAY, running on 592 points\n",
      "number of elements after selection = 984\n",
      "Iter 365 NEW DELAUNAY, running on 592 points\n",
      "number of elements after selection = 984\n",
      "Iter 411 NEW DELAUNAY, running on 592 points\n",
      "number of elements after selection = 984\n",
      "Iter 469 NEW DELAUNAY, running on 592 points\n",
      "number of elements after selection = 984\n",
      "Iter 563 NEW DELAUNAY, running on 592 points\n",
      "number of elements after selection = 984\n",
      "Iter 635 NEW DELAUNAY, running on 592 points\n",
      "number of elements after selection = 984\n",
      "Iter 681 NEW DELAUNAY, running on 592 points\n",
      "number of elements after selection = 984\n",
      "Quality post-optimization\n",
      "Initial quality: 1.05758, best element: 1.00011 worst element: 1.23654\n",
      "Final quality: 1.0436, best element: 1.00002 worst element: 1.24196\n"
     ]
    }
   ],
   "source": [
    "mo1 = gf.MesherObject(\"rectangle\", [0., 0.], [100., 25.])\n",
    "mo2 = gf.MesherObject(\"ball\", [25., 12.5], 8.)\n",
    "mo3 = gf.MesherObject(\"ball\", [50., 12.5], 8.)\n",
    "mo4 = gf.MesherObject(\"ball\", [75., 12.5], 8.)\n",
    "mo5 = gf.MesherObject(\"union\", mo2, mo3, mo4)\n",
    "mo  = gf.MesherObject(\"set minus\", mo1, mo5)\n",
    "\n",
    "mesh = gf.Mesh(\"generate\", mo, h, 2)"
   ]
  },
  {
   "cell_type": "markdown",
   "metadata": {
    "colab_type": "text",
    "id": "YYx92fdOU7IG"
   },
   "source": [
    "### 境界の選択\n",
    "境界のそれぞれの部分には異なる境界条件を設定するため、境界のさまざまな部分には番号を付けます (穴には、熱と電気の絶縁と、応力自由境界条件が想定されます)。したがって、メッシュ上の要素面を選択し、メッシュ領域を定義する必要があります ( メッシュ領域 を参照)、1、2、3、4はそれぞれ右境界、左境界、上境界、下境界です。これらの境界番号は、モデルのブリックで使用されます。"
   ]
  },
  {
   "cell_type": "code",
   "execution_count": 4,
   "metadata": {
    "colab": {},
    "colab_type": "code",
    "id": "2ggvLJQyVUmQ"
   },
   "outputs": [],
   "source": [
    "fb1 = mesh.outer_faces_in_box([1.0, 1.0], [99.0, 24.0])  # Boundary of the holes\n",
    "fb2 = mesh.outer_faces_with_direction([1.0, 0.0], 0.01)  # Right boundary\n",
    "fb3 = mesh.outer_faces_with_direction([-1.0, 0.0], 0.01)  # Left boundary\n",
    "fb4 = mesh.outer_faces_with_direction([0.0, 1.0], 0.01)  # Top boundary\n",
    "fb5 = mesh.outer_faces_with_direction([0.0, -1.0], 0.01)  # Bottom boundary\n",
    "\n",
    "RIGHT_BOUND = 1\n",
    "LEFT_BOUND = 2\n",
    "TOP_BOUND = 3\n",
    "BOTTOM_BOUND = 4\n",
    "HOLE_BOUND = 5\n",
    "\n",
    "mesh.set_region(RIGHT_BOUND, fb2)\n",
    "mesh.set_region(LEFT_BOUND, fb3)\n",
    "mesh.set_region(TOP_BOUND, fb4)\n",
    "mesh.set_region(BOTTOM_BOUND, fb5)\n",
    "mesh.set_region(HOLE_BOUND, fb1)\n",
    "mesh.region_subtract(RIGHT_BOUND, HOLE_BOUND)\n",
    "mesh.region_subtract(LEFT_BOUND, HOLE_BOUND)\n",
    "mesh.region_subtract(TOP_BOUND, HOLE_BOUND)\n",
    "mesh.region_subtract(BOTTOM_BOUND, HOLE_BOUND)"
   ]
  },
  {
   "cell_type": "markdown",
   "metadata": {
    "colab_type": "text",
    "id": "0CdkYg_BXAxd"
   },
   "source": [
    "### メッシュの描画\n",
    "メッシュをプレビューし、その妥当性を制御するために、次の手順を使用します。"
   ]
  },
  {
   "cell_type": "code",
   "execution_count": 5,
   "metadata": {
    "colab": {},
    "colab_type": "code",
    "id": "puH7n5RXXO-2"
   },
   "outputs": [],
   "source": [
    "sl = gf.Slice((\"none\", ), mesh, 1)\n",
    "sl.export_to_vtk(\"mesh.vtk\", \"ascii\");"
   ]
  },
  {
   "cell_type": "markdown",
   "metadata": {
    "colab_type": "text",
    "id": "titQHhrTnaje"
   },
   "source": [
    "Python インターフェイスでは、外部グラフィカルポストプロセッサを使用する必要があります (たとえば、gmsh、[Mayavi2](https://mayavi.readthedocs.io/ja/latest/index.html)、または Paraviewなど)。今回はPyVistaを使用します。"
   ]
  },
  {
   "cell_type": "code",
   "execution_count": 6,
   "metadata": {
    "colab": {
     "base_uri": "https://localhost:8080/",
     "height": 287
    },
    "colab_type": "code",
    "id": "qjN6GbscxxvH",
    "outputId": "7ba891c2-14b3-4429-e4a3-e9e8315933c3"
   },
   "outputs": [
    {
     "data": {
      "application/vnd.jupyter.widget-view+json": {
       "model_id": "eca88c99e52b4b5e94d945b9daaae5a2",
       "version_major": 2,
       "version_minor": 0
      },
      "text/plain": [
       "ViewInteractiveWidget(height=1000, layout=Layout(height='auto', width='100%'), width=2000)"
      ]
     },
     "metadata": {},
     "output_type": "display_data"
    }
   ],
   "source": [
    "m = pv.read(\"mesh.vtk\")\n",
    "m.plot(cpos=\"xy\", show_edges=True, window_size=[2000, 1000], zoom=2.0)"
   ]
  },
  {
   "cell_type": "markdown",
   "metadata": {
    "colab_type": "text",
    "id": "i_lZ8MbInXQX"
   },
   "source": [
    "### 有限要素法と積分法の定義"
   ]
  },
  {
   "cell_type": "markdown",
   "metadata": {
    "colab_type": "text",
    "id": "mhM2MxLunkt-"
   },
   "source": [
    "3つの有限要素法を定義します。最初の1つは、変位フィールドを近似する mfu です。"
   ]
  },
  {
   "cell_type": "code",
   "execution_count": 7,
   "metadata": {
    "colab": {},
    "colab_type": "code",
    "id": "fC1cB60cnYVP"
   },
   "outputs": [],
   "source": [
    "mfu = gf.MeshFem(mesh, 2)\n",
    "mfu.set_classical_fem(elements_degree)"
   ]
  },
  {
   "cell_type": "markdown",
   "metadata": {
    "colab_type": "text",
    "id": "hWBbQ4aDn_OY"
   },
   "source": [
    "ここで、 2 はベクトル場の次元を表します。2行目は、使用する有限要素を設定します。 classical_finite_element は、連続したLagrange要素を意味し、elements_degree は 2 に設定されています。これは2次の (アイソパラメトリック) 要素を使用することを意味します。"
   ]
  },
  {
   "cell_type": "markdown",
   "metadata": {
    "colab_type": "text",
    "id": "nwz8WVMSoQ_i"
   },
   "source": [
    "GetFEM++ では、既存の有限要素法を幅広く選択肢できます。 [付録A.有限要素法リスト](https://getfem.readthedocs.io/ja/latest/userdoc/appendixA.html#ud-appendixa) を参照してください。しかし、実際には Lagrange 有限要素法が最も使用されています。"
   ]
  },
  {
   "cell_type": "markdown",
   "metadata": {
    "colab_type": "text",
    "id": "CFDgeS3hok3U"
   },
   "source": [
    "第2の有限要素法はスカラーで、温度場と電位場の両方を近似する mft です。単一の有限要素法で任意の数の有限要素変数を近似すると便利です。"
   ]
  },
  {
   "cell_type": "code",
   "execution_count": 8,
   "metadata": {
    "colab": {},
    "colab_type": "code",
    "id": "wl0vqr7vn-LN"
   },
   "outputs": [],
   "source": [
    "mft = gf.MeshFem(mesh, 1)\n",
    "mft.set_classical_fem(elements_degree)"
   ]
  },
  {
   "cell_type": "markdown",
   "metadata": {
    "colab_type": "text",
    "id": "EZisU2JJoueW"
   },
   "source": [
    "3番目の有限要素法は不連続なスカラーLagrangeで、1変数の導関数を補間することができます (たとえば、Von Mises応力の補間)。"
   ]
  },
  {
   "cell_type": "code",
   "execution_count": 9,
   "metadata": {
    "colab": {},
    "colab_type": "code",
    "id": "_iA8EVcToz9c"
   },
   "outputs": [],
   "source": [
    "mfvm = gf.MeshFem(mesh, 1)\n",
    "mfvm.set_classical_discontinuous_fem(elements_degree)"
   ]
  },
  {
   "cell_type": "markdown",
   "metadata": {
    "colab_type": "text",
    "id": "YrhampG9pC7K"
   },
   "source": [
    "最後に定義するのは、積分法 mim です。GetFEM++ にデフォルトの積分法はありません。したがって、これは積分法を定義するためには必須です。もちろん、積分法の次数は、選択された有限要素法に好都合な積分を行うため、十分に選定しなければなりません。ここでは、 elements_degree の2乗で十分です。"
   ]
  },
  {
   "cell_type": "code",
   "execution_count": 10,
   "metadata": {
    "colab": {},
    "colab_type": "code",
    "id": "HHXbX2T-pBuD"
   },
   "outputs": [],
   "source": [
    "mim = gf.MeshIm(mesh, pow(elements_degree,2))"
   ]
  },
  {
   "cell_type": "markdown",
   "metadata": {
    "colab_type": "text",
    "id": "ek7VSZJtpiWB"
   },
   "source": [
    "### モデルの定義"
   ]
  },
  {
   "cell_type": "markdown",
   "metadata": {
    "colab_type": "text",
    "id": "D8RtQXVNpnmE"
   },
   "source": [
    "GetFEM++ のモデルオブジェクトは(未知)変数、データ、およびモデルブリックと呼ばれるものの集まりです。モデルブリックは、単一の変数か、複数の変数をリンクしているモデルの一部 (線形または非線形項) です。これらは、(接線) 線形システムの構築のために使用されます (詳細については [modelオブジェクト](https://getfem.readthedocs.io/ja/latest/userdoc/model_object.html#ud-model-object) を参照してください)。"
   ]
  },
  {
   "cell_type": "markdown",
   "metadata": {
    "colab_type": "text",
    "id": "zMt1G8swqk6-"
   },
   "source": [
    "直接構築を行い(接線) 線形システムを作成することも可能なため、モデルオブジェクトを使用することは厳密には必須ではありません。しかし、モデルオブジェクトは、モデルのほとんどの既往な部分が事前にプログラムされているので、モデルの素早い構築が可能です。 標準境界条件、標準偏微分方程式、制約を処理するための乗数の使用などが整備されています。さらに、いくつかのブリックは、標準ブリック (ジェネリックアセンブリブリック、陽なマトリックスブリックなど) の拡張が可能なように設計されています。そのため、モデルオブジェクトのフレームワークを使用することをお勧めします。"
   ]
  },
  {
   "cell_type": "markdown",
   "metadata": {
    "colab_type": "text",
    "id": "78imtUMqqyA-"
   },
   "source": [
    "モデルには実数と複素数の2つのバージョンがあります。複素数モデルは複雑な線形システムを解くのに有利な特殊なアプリケーション (例えば、いくつかの電磁気学の問題など) のために予約されています。"
   ]
  },
  {
   "cell_type": "markdown",
   "metadata": {
    "colab_type": "text",
    "id": "aS6Y6Qm9q02O"
   },
   "source": [
    "計算される3つのフィールドに対応する3つの変数を持つ実際のモデルを宣言してみましょう 。"
   ]
  },
  {
   "cell_type": "code",
   "execution_count": 11,
   "metadata": {
    "colab": {},
    "colab_type": "code",
    "id": "K_XfTC6TpmpH"
   },
   "outputs": [],
   "source": [
    "md=gf.Model(\"real\");\n",
    "md.add_fem_variable(\"u\", mfu)\n",
    "md.add_fem_variable(\"theta\", mft)\n",
    "md.add_fem_variable(\"V\", mft)"
   ]
  },
  {
   "cell_type": "markdown",
   "metadata": {
    "colab_type": "text",
    "id": "3lT3B5r2rNH4"
   },
   "source": [
    "### 弾性膜変形問題"
   ]
  },
  {
   "cell_type": "markdown",
   "metadata": {
    "colab_type": "text",
    "id": "scgRX0m-rQRX"
   },
   "source": [
    "ここでは、弾性変形問題から始めましょう。以下の add_isotropic_linearized_elasticity_brick によって追加されている定義済みのブリックを使用します。対応する項は以下の通りです。\n",
    "$$\n",
    "\\int_{\\Omega} (\\lambda^* \\mbox{div}(u) I + 2\\mu \\bar{\\varepsilon}(u)):\\bar{\\varepsilon}(\\delta_u)d\\Omega,\n",
    "$$\n",
    "この追加を接線線形システムに対して行います。このモデルブリックを使用するために、 Lamé 係数に対応するデータは、最初にモデルに追加する必要があります。ここでは、 Lamé 係数は、領域に対して一定です。ただし、一部の非定数データを定義することもできます。また、この定義済みのブリックを使用する代わりに、弱形式言語項 add_linear_term(md mim, \"lambda*(Div_u*Div_Test_u) + mu*((Grad_u + Grad_u\"):Grad_Test_u)\" を使用することもできます。"
   ]
  },
  {
   "cell_type": "markdown",
   "metadata": {
    "colab_type": "text",
    "id": "x-3RyIDoro2g"
   },
   "source": [
    "連成項\n",
    "$$\n",
    "\\int_{\\Omega} (\\beta\\theta I) :\\bar{\\varepsilon}(\\delta_u)d\\Omega,\n",
    "$$\n",
    "は定義済みのブリックはなく、弱形式言語項 add_linear_term(md mim, \"beta\\*theta\\*Div_Test_u)\" を直接使用します。弱形式言語の詳細については、 [任意の項を計算する - 高水準の汎用的な構築手順 - 弱形式言語](https://getfem.readthedocs.io/ja/latest/userdoc/gasm_high.html#ud-gasm-high) を参照してください。基本的に、アセンブリ文字列は、各Gauss点で実行される最適化されたアセンブリ命令のリストでコンパイルされます。"
   ]
  },
  {
   "cell_type": "markdown",
   "metadata": {
    "colab_type": "text",
    "id": "GLuJf9uDsB6p"
   },
   "source": [
    "以下のプログラムは、全体の弾性変形方程式を考慮に入れることができます。左側の境界に Dirichlet 条件を規定するために、既定のブリックを使用します。Dirichlet条件を定義するいくつかのオプションがあります( [Dirichlet条件ブリック要素](https://getfem.readthedocs.io/ja/latest/userdoc/model_dirichlet.html#ud-model-dirichlet) を参照)。"
   ]
  },
  {
   "cell_type": "code",
   "execution_count": 12,
   "metadata": {
    "colab": {
     "base_uri": "https://localhost:8080/",
     "height": 36
    },
    "colab_type": "code",
    "id": "pGzUXjmxq7DT",
    "outputId": "cbe1ed82-877f-4888-afcd-07dcb90cdff3"
   },
   "outputs": [
    {
     "data": {
      "text/plain": [
       "4"
      ]
     },
     "execution_count": 12,
     "metadata": {},
     "output_type": "execute_result"
    }
   ],
   "source": [
    "md.add_initialized_data(\"cmu\", [cmu])\n",
    "md.add_initialized_data(\"clambdastar\", [clambdastar])\n",
    "md.add_initialized_data(\"T0\", [T0])\n",
    "md.add_isotropic_linearized_elasticity_brick(mim, \"u\", \"clambdastar\", \"cmu\")\n",
    "\n",
    "md.add_Dirichlet_condition_with_multipliers(mim, \"u\", elements_degree-1, LEFT_BOUND)\n",
    "md.add_initialized_data(\"Fdata\", [F*epsilon, 0])\n",
    "md.add_source_term_brick(mim, \"u\", \"Fdata\", RIGHT_BOUND)\n",
    "\n",
    "md.add_initialized_data(\"beta\", [alpha_th*E/(1-2*nu)])\n",
    "md.add_linear_generic_assembly_brick(mim, \"beta*(T0-theta)*Div_Test_u\")"
   ]
  },
  {
   "cell_type": "markdown",
   "metadata": {
    "colab_type": "text",
    "id": "ERgeNH8PvqWX"
   },
   "source": [
    "### 電位問題\n",
    "同様に、以下のプログラムは、電位方程式を記述しています。電気伝導率 $\\sigma$ と弱形式言語の項の定義方法に注意してください。"
   ]
  },
  {
   "cell_type": "code",
   "execution_count": 13,
   "metadata": {
    "colab": {
     "base_uri": "https://localhost:8080/",
     "height": 36
    },
    "colab_type": "code",
    "id": "5dm1Y9GHsPcj",
    "outputId": "04b1b32b-0c04-4aac-ca22-56ba4547837e"
   },
   "outputs": [
    {
     "data": {
      "text/plain": [
       "7"
      ]
     },
     "execution_count": 13,
     "metadata": {},
     "output_type": "execute_result"
    }
   ],
   "source": [
    "sigmaeps = \"(eps/(rho_0*(1+alpha*(theta-T0))))\"\n",
    "md.add_initialized_data(\"eps\", [epsilon])\n",
    "md.add_initialized_data(\"rho_0\", [rho_0])\n",
    "md.add_initialized_data(\"alpha\", [alpha])\n",
    "md.add_nonlinear_generic_assembly_brick(mim, sigmaeps+\"*(Grad_V.Grad_Test_V)\")\n",
    "md.add_Dirichlet_condition_with_multipliers(mim, \"V\", elements_degree-1, RIGHT_BOUND)\n",
    "md.add_initialized_data(\"DdataV\", [0.1])\n",
    "md.add_Dirichlet_condition_with_multipliers(mim, \"V\", elements_degree-1, LEFT_BOUND, \"DdataV\")"
   ]
  },
  {
   "cell_type": "markdown",
   "metadata": {
    "colab_type": "text",
    "id": "emN9t15DwUMW"
   },
   "source": [
    "### 熱問題"
   ]
  },
  {
   "cell_type": "markdown",
   "metadata": {
    "colab_type": "text",
    "id": "2fPUcHKRwXdN"
   },
   "source": [
    "ここで、熱問題を記述するプログラムは次の通りです。"
   ]
  },
  {
   "cell_type": "code",
   "execution_count": 14,
   "metadata": {
    "colab": {
     "base_uri": "https://localhost:8080/",
     "height": 36
    },
    "colab_type": "code",
    "id": "9cW0C2Env6ZN",
    "outputId": "7d06ca56-88b7-4e70-9a22-af6ee1a8283d"
   },
   "outputs": [
    {
     "data": {
      "text/plain": [
       "11"
      ]
     },
     "execution_count": 14,
     "metadata": {},
     "output_type": "execute_result"
    }
   ],
   "source": [
    "md.add_initialized_data(\"kaeps\", [kappa*epsilon])\n",
    "md.add_generic_elliptic_brick(mim, \"theta\", \"kaeps\")\n",
    "md.add_initialized_data(\"D2\", [D*2])\n",
    "md.add_initialized_data(\"D2airt\", [air_temp*D*2])\n",
    "md.add_mass_brick(mim, \"theta\", \"D2\")\n",
    "md.add_source_term_brick(mim, \"theta\", \"D2airt\")\n",
    "\n",
    "md.add_nonlinear_generic_assembly_brick(mim, \"-\"+sigmaeps+\"*Norm_sqr(Grad_V)*Test_theta\")"
   ]
  },
  {
   "cell_type": "markdown",
   "metadata": {
    "colab_type": "text",
    "id": "iR5qcqAdxnqd"
   },
   "source": [
    "### モデルの求解"
   ]
  },
  {
   "cell_type": "markdown",
   "metadata": {
    "colab_type": "text",
    "id": "sImgD76_xqyU"
   },
   "source": [
    "モデルを正しく定義したら、次のようにして簡単に解くことができます。"
   ]
  },
  {
   "cell_type": "code",
   "execution_count": 15,
   "metadata": {
    "colab": {
     "base_uri": "https://localhost:8080/",
     "height": 36
    },
    "colab_type": "code",
    "id": "Z8nt6hfawcAu",
    "outputId": "005ced8b-3d5a-42ed-f4d5-00c35e1ac092"
   },
   "outputs": [
    {
     "name": "stderr",
     "output_type": "stream",
     "text": [
      "Trace 2 in getfem_models.cc, line 4325: Mass term assembly for Dirichlet condition\n",
      "Trace 2 in getfem_models.cc, line 4325: Mass term assembly for Dirichlet condition\n",
      "Trace 2 in getfem_models.cc, line 4362: Source term assembly for Dirichlet condition\n",
      "Trace 2 in getfem_models.cc, line 4325: Mass term assembly for Dirichlet condition\n",
      "Trace 2 in getfem_models.cc, line 5973: Linearized isotropic elasticity: generic matrix assembly\n",
      "Trace 2 in getfem_models.cc, line 4325: Mass term assembly for Dirichlet condition\n",
      "Trace 2 in getfem_models.cc, line 3293: Generic source term assembly\n",
      "Trace 2 in getfem_models.cc, line 3300: Source term: generic source term assembly\n",
      "Trace 2 in getfem_models.cc, line 3307: Source term: generic matrix assembly\n",
      "Trace 2 in getfem_models.cc, line 3293: Generic source term assembly\n",
      "Trace 2 in getfem_models.cc, line 3300:  (source term): generic source term assembly\n",
      "Trace 2 in getfem_models.cc, line 3307:  (source term): generic matrix assembly\n",
      "Trace 2 in getfem_models.cc, line 3446: Generic linear assembly brick: generic matrix assembly\n",
      "Trace 2 in getfem_models.cc, line 4325: Mass term assembly for Dirichlet condition\n",
      "Trace 2 in getfem_models.cc, line 4325: Mass term assembly for Dirichlet condition\n",
      "Trace 2 in getfem_models.cc, line 4362: Source term assembly for Dirichlet condition\n",
      "Trace 2 in getfem_models.cc, line 3446: Generic elliptic: generic matrix assembly\n",
      "Trace 2 in getfem_models.cc, line 3446: Mass matrix: generic matrix assembly\n",
      "Trace 2 in getfem_models.cc, line 3293: Generic source term assembly\n",
      "Trace 2 in getfem_models.cc, line 3300: Source term: generic source term assembly\n",
      "Trace 2 in getfem_models.cc, line 3307: Source term: generic matrix assembly\n",
      "Trace 2 in getfem_models.cc, line 2698: Global generic assembly RHS\n",
      "Trace 2 in getfem_models.cc, line 2700: Global generic assembly tangent term\n"
     ]
    },
    {
     "name": "stdout",
     "output_type": "stream",
     "text": [
      " iter   0 residual     0.942614\n"
     ]
    },
    {
     "name": "stderr",
     "output_type": "stream",
     "text": [
      "Trace 2 in getfem_models.cc, line 2698: Global generic assembly RHS\n",
      "Trace 2 in getfem_models.cc, line 2700: Global generic assembly tangent term\n"
     ]
    },
    {
     "name": "stdout",
     "output_type": "stream",
     "text": [
      "step control [       0,       1,         1] iter   1 residual    0.0256558\n"
     ]
    },
    {
     "name": "stderr",
     "output_type": "stream",
     "text": [
      "Trace 2 in getfem_models.cc, line 2698: Global generic assembly RHS\n",
      "Trace 2 in getfem_models.cc, line 2700: Global generic assembly tangent term\n"
     ]
    },
    {
     "name": "stdout",
     "output_type": "stream",
     "text": [
      "step control [       0,       1,         1] iter   2 residual  0.000233398\n"
     ]
    },
    {
     "name": "stderr",
     "output_type": "stream",
     "text": [
      "Trace 2 in getfem_models.cc, line 2698: Global generic assembly RHS\n",
      "Trace 2 in getfem_models.cc, line 2700: Global generic assembly tangent term\n"
     ]
    },
    {
     "name": "stdout",
     "output_type": "stream",
     "text": [
      "step control [       0,       1,         1] iter   3 residual  1.37926e-09\n",
      "step control [       0,       1,         1] iter   4 residual  2.76867e-13\n"
     ]
    },
    {
     "name": "stderr",
     "output_type": "stream",
     "text": [
      "Trace 2 in getfem_models.cc, line 2698: Global generic assembly RHS\n"
     ]
    },
    {
     "data": {
      "text/plain": [
       "(4, 1)"
      ]
     },
     "execution_count": 15,
     "metadata": {},
     "output_type": "execute_result"
    }
   ],
   "source": [
    "md.solve(\"max_res\", 1E-9, \"max_iter\", 100, \"noisy\")"
   ]
  },
  {
   "cell_type": "markdown",
   "metadata": {
    "colab_type": "text",
    "id": "tT4zpi_ExzHF"
   },
   "source": [
    "問題は大域的に非線形であるため、Newton法を用いて問題を反復的に解きます。数回のイテレーションが必要です (この場合は約4です)。"
   ]
  },
  {
   "cell_type": "markdown",
   "metadata": {
    "colab_type": "text",
    "id": "gf1u07-Rx57I"
   },
   "source": [
    "### 2ステップでのモデルの求解"
   ]
  },
  {
   "cell_type": "markdown",
   "metadata": {
    "colab_type": "text",
    "id": "Etg94mcVx-2Y"
   },
   "source": [
    "別の解き方として、最初に熱と電位の問題を解くこともできます。今回のモデルでは、熱および電位は変形に依存しません。熱と電位の問題を解いてから変形の問題を解くには、次のように実行します。"
   ]
  },
  {
   "cell_type": "code",
   "execution_count": 16,
   "metadata": {
    "colab": {
     "base_uri": "https://localhost:8080/",
     "height": 36
    },
    "colab_type": "code",
    "id": "SFWMd3AVxx4k",
    "outputId": "c3d3b749-b0ea-4609-b22b-f4150e97ba73"
   },
   "outputs": [
    {
     "name": "stdout",
     "output_type": "stream",
     "text": [
      " iter   0 residual  1.78836e-12\n",
      " iter   0 residual  1.32633e-13\n"
     ]
    },
    {
     "name": "stderr",
     "output_type": "stream",
     "text": [
      "Trace 2 in getfem_models.cc, line 2698: Global generic assembly RHS\n"
     ]
    },
    {
     "data": {
      "text/plain": [
       "(0, 1)"
      ]
     },
     "execution_count": 16,
     "metadata": {},
     "output_type": "execute_result"
    }
   ],
   "source": [
    "md.disable_variable(\"u\")\n",
    "md.solve(\"max_res\", 1E-9, \"max_iter\", 100, \"noisy\")\n",
    "md.enable_variable(\"u\")\n",
    "md.disable_variable(\"theta\")\n",
    "md.disable_variable(\"V\")\n",
    "md.solve(\"max_res\", 1E-9, \"max_iter\", 100, \"noisy\")"
   ]
  },
  {
   "cell_type": "markdown",
   "metadata": {
    "colab_type": "text",
    "id": "qCh7A_yvyHoS"
   },
   "source": [
    "### 解のエクスポート/可視化"
   ]
  },
  {
   "cell_type": "markdown",
   "metadata": {
    "colab_type": "text",
    "id": "XKFaDSqsyOEj"
   },
   "source": [
    "以上で有限要素問題が解けました。図のように解をプロットすることができます。C++ および Python プログラムでは、外部のグラフィカルポストプロセッサを使用する必要があることに注意してください。また、汎用補間を使用して任意の数量を後処理できることにも注意してください(後述の ga_interpolation_Lagrange_fem を参照)。また、複雑なエクスポートやスライスの作成も可能です ( [解の出力と表示](https://getfem.readthedocs.io/ja/latest/userdoc/export.html#ud-export) をご覧ください)。"
   ]
  },
  {
   "cell_type": "code",
   "execution_count": 17,
   "metadata": {
    "colab": {
     "base_uri": "https://localhost:8080/",
     "height": 374
    },
    "colab_type": "code",
    "id": "kQ7hqQYzzSt3",
    "outputId": "78d5dda1-f076-4909-b794-121235c0068b"
   },
   "outputs": [
    {
     "data": {
      "application/vnd.jupyter.widget-view+json": {
       "model_id": "cc78c30f244c46c78aac046fd871b2e3",
       "version_major": 2,
       "version_minor": 0
      },
      "text/plain": [
       "ViewInteractiveWidget(height=1000, layout=Layout(height='auto', width='100%'), width=2000)"
      ]
     },
     "metadata": {},
     "output_type": "display_data"
    }
   ],
   "source": [
    "cmap = plt.cm.get_cmap(\"gist_rainbow\", 20)\n",
    "\n",
    "m = pv.read(\"displacement_with_von_mises.vtk\")\n",
    "m.set_active_vectors(\"Displacements\")\n",
    "warped = m.warp_by_vector(factor=100.0)\n",
    "warped.set_active_scalars(\"Von_Mises_Stresses\")\n",
    "warped.plot(cpos=\"xy\", show_edges=True, cmap=cmap, window_size=[2000, 1000], zoom=2.0)"
   ]
  },
  {
   "cell_type": "code",
   "execution_count": 18,
   "metadata": {
    "colab": {},
    "colab_type": "code",
    "id": "H9Mt1NOUyBtd"
   },
   "outputs": [],
   "source": [
    "U = md.variable(\"u\")\n",
    "V = md.variable(\"V\")\n",
    "THETA = md.variable(\"theta\")\n",
    "VM = md.compute_isotropic_linearized_Von_Mises_or_Tresca(\"u\", \"clambdastar\", \"cmu\", mfvm)\n",
    "CO = np.reshape(md.interpolation(\"-\"+sigmaeps+\"*Grad_V\", mfvm), (2, mfvm.nbdof()), \"F\")\n",
    "\n",
    "sl = gf.Slice(('none',), mesh, 1)\n",
    "\n",
    "sl.export_to_vtk(\"displacement_with_von_mises.vtk\", \"ascii\", mfvm,\n",
    "                   VM, \"Von Mises Stresses\", mfu, U, \"Displacements\")\n",
    "sl.export_to_vtk(\"temperature.vtk\", \"ascii\", mft, THETA, \"Temperature\")\n",
    "sl.export_to_vtk(\"electric_potential.vtk\", \"ascii\", mft, V, \"Electric potential\")"
   ]
  },
  {
   "cell_type": "code",
   "execution_count": 19,
   "metadata": {
    "colab": {
     "base_uri": "https://localhost:8080/",
     "height": 356
    },
    "colab_type": "code",
    "id": "zNJDfx8YnFOE",
    "outputId": "89d85e61-a675-446d-a621-9bd11c816fe9"
   },
   "outputs": [
    {
     "data": {
      "application/vnd.jupyter.widget-view+json": {
       "model_id": "9178d1ea27c64e4ab0911d6b03800744",
       "version_major": 2,
       "version_minor": 0
      },
      "text/plain": [
       "ViewInteractiveWidget(height=1000, layout=Layout(height='auto', width='100%'), width=2000)"
      ]
     },
     "metadata": {},
     "output_type": "display_data"
    }
   ],
   "source": [
    "m = pv.read(\"electric_potential.vtk\")\n",
    "m.set_active_scalars(\"Electric_potential\")\n",
    "m.plot(cpos=\"xy\", show_edges=True, cmap=cmap, window_size=[2000, 1000], zoom=2.0)"
   ]
  },
  {
   "cell_type": "code",
   "execution_count": null,
   "metadata": {},
   "outputs": [],
   "source": []
  }
 ],
 "metadata": {
  "colab": {
   "collapsed_sections": [],
   "include_colab_link": true,
   "name": "thermo_coupling.ipynb",
   "provenance": [],
   "toc_visible": true
  },
  "kernelspec": {
   "display_name": "Python 3 (ipykernel)",
   "language": "python",
   "name": "python3"
  },
  "language_info": {
   "codemirror_mode": {
    "name": "ipython",
    "version": 3
   },
   "file_extension": ".py",
   "mimetype": "text/x-python",
   "name": "python",
   "nbconvert_exporter": "python",
   "pygments_lexer": "ipython3",
   "version": "3.8.10"
  }
 },
 "nbformat": 4,
 "nbformat_minor": 4
}
