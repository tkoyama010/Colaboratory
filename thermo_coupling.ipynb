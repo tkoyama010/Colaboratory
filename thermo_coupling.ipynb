{
  "nbformat": 4,
  "nbformat_minor": 0,
  "metadata": {
    "colab": {
      "name": "thermo_coupling.ipynb",
      "provenance": [],
      "collapsed_sections": [],
      "include_colab_link": true
    },
    "kernelspec": {
      "name": "python2",
      "display_name": "Python 2"
    }
  },
  "cells": [
    {
      "cell_type": "markdown",
      "metadata": {
        "id": "view-in-github",
        "colab_type": "text"
      },
      "source": [
        "<a href=\"https://colab.research.google.com/github/tkoyama010/Colaboratory/blob/master/thermo_coupling.ipynb\" target=\"_parent\"><img src=\"https://colab.research.google.com/assets/colab-badge.svg\" alt=\"Open In Colab\"/></a>"
      ]
    },
    {
      "cell_type": "markdown",
      "metadata": {
        "id": "47WpM3saGTNR",
        "colab_type": "text"
      },
      "source": [
        "# コンパイル済みパッケージからのインストール\n",
        "\n",
        "## Debian / Ubuntuシステム上\n",
        "\n",
        "GetFEM ++パッケージは、DebianおよびUbuntuディストリビューションの公式リポジトリで入手できます。さまざまなDebianリリースで利用可能なGetFEM++バージョンに関する情報は、 https://packages.debian.org/source/sid/getfem++ などにあり、さまざまなUbuntuリリースに関しては https://launchpad.net/ubuntu/+source/getfem++ を参照してください。GetFEM++（pythonインターフェイスを含む）は、apt updateおよびapt install python-getfem ++を実行することにより、ターミナルからインストールできます。"
      ]
    },
    {
      "cell_type": "code",
      "metadata": {
        "id": "hfhWAnfdDBAa",
        "colab_type": "code",
        "outputId": "10b698b4-b252-4f7e-94e6-dcc775b505d2",
        "colab": {
          "base_uri": "https://localhost:8080/",
          "height": 1000
        }
      },
      "source": [
        "!sudo apt update && sudo apt install python-getfem++"
      ],
      "execution_count": 1,
      "outputs": [
        {
          "output_type": "stream",
          "text": [
            "\u001b[33m\r0% [Working]\u001b[0m\r            \rGet:1 http://security.ubuntu.com/ubuntu bionic-security InRelease [88.7 kB]\n",
            "\u001b[33m\r0% [Connecting to archive.ubuntu.com (91.189.88.31)] [1 InRelease 0 B/88.7 kB 0\u001b[0m\r                                                                               \rIgn:2 https://developer.download.nvidia.com/compute/cuda/repos/ubuntu1804/x86_64  InRelease\n",
            "\u001b[33m\r0% [Connecting to archive.ubuntu.com (91.189.88.31)] [1 InRelease 14.2 kB/88.7 \u001b[0m\r                                                                               \rIgn:3 https://developer.download.nvidia.com/compute/machine-learning/repos/ubuntu1804/x86_64  InRelease\n",
            "\u001b[33m\r0% [Waiting for headers] [1 InRelease 28.7 kB/88.7 kB 32%] [Connecting to cloud\u001b[0m\r                                                                               \rHit:4 https://developer.download.nvidia.com/compute/cuda/repos/ubuntu1804/x86_64  Release\n",
            "\u001b[33m\r0% [Waiting for headers] [1 InRelease 43.1 kB/88.7 kB 49%] [Connecting to cloud\u001b[0m\u001b[33m\r0% [Release.gpg gpgv 564 B] [Waiting for headers] [1 InRelease 43.1 kB/88.7 kB \u001b[0m\r                                                                               \rHit:5 https://developer.download.nvidia.com/compute/machine-learning/repos/ubuntu1804/x86_64  Release\n",
            "Hit:6 http://ppa.launchpad.net/graphics-drivers/ppa/ubuntu bionic InRelease\n",
            "Hit:7 http://archive.ubuntu.com/ubuntu bionic InRelease\n",
            "Get:9 https://cloud.r-project.org/bin/linux/ubuntu bionic-cran35/ InRelease [3,626 B]\n",
            "Get:10 http://archive.ubuntu.com/ubuntu bionic-updates InRelease [88.7 kB]\n",
            "Get:12 http://ppa.launchpad.net/marutter/c2d4u3.5/ubuntu bionic InRelease [15.4 kB]\n",
            "Get:13 http://security.ubuntu.com/ubuntu bionic-security/universe amd64 Packages [789 kB]\n",
            "Get:14 http://archive.ubuntu.com/ubuntu bionic-backports InRelease [74.6 kB]\n",
            "Get:15 http://security.ubuntu.com/ubuntu bionic-security/main amd64 Packages [739 kB]\n",
            "Get:16 http://archive.ubuntu.com/ubuntu bionic-updates/universe amd64 Packages [1,316 kB]\n",
            "Get:17 http://ppa.launchpad.net/marutter/c2d4u3.5/ubuntu bionic/main Sources [1,735 kB]\n",
            "Get:18 http://archive.ubuntu.com/ubuntu bionic-updates/restricted amd64 Packages [29.9 kB]\n",
            "Get:19 http://archive.ubuntu.com/ubuntu bionic-updates/multiverse amd64 Packages [9,549 B]\n",
            "Get:20 http://archive.ubuntu.com/ubuntu bionic-updates/main amd64 Packages [1,035 kB]\n",
            "Get:21 http://ppa.launchpad.net/marutter/c2d4u3.5/ubuntu bionic/main amd64 Packages [837 kB]\n",
            "Fetched 6,762 kB in 4s (1,901 kB/s)\n",
            "Reading package lists... Done\n",
            "Building dependency tree       \n",
            "Reading state information... Done\n",
            "68 packages can be upgraded. Run 'apt list --upgradable' to see them.\n",
            "Reading package lists... Done\n",
            "Building dependency tree       \n",
            "Reading state information... Done\n",
            "The following package was automatically installed and is no longer required:\n",
            "  libnvidia-common-430\n",
            "Use 'sudo apt autoremove' to remove it.\n",
            "The following additional packages will be installed:\n",
            "  libgetfem5++ libmumps-seq-5.1.2 libscotch-6.0 python-decorator\n",
            "  python-olefile python-pil python-scipy\n",
            "Suggested packages:\n",
            "  python-pil-doc python-pil-dbg python-scipy-doc\n",
            "The following NEW packages will be installed:\n",
            "  libgetfem5++ libmumps-seq-5.1.2 libscotch-6.0 python-decorator\n",
            "  python-getfem++ python-olefile python-pil python-scipy\n",
            "0 upgraded, 8 newly installed, 0 to remove and 68 not upgraded.\n",
            "Need to get 15.2 MB of archives.\n",
            "After this operation, 66.2 MB of additional disk space will be used.\n",
            "Get:1 http://archive.ubuntu.com/ubuntu bionic/universe amd64 libscotch-6.0 amd64 6.0.4.dfsg1-8 [403 kB]\n",
            "Get:2 http://archive.ubuntu.com/ubuntu bionic/universe amd64 libmumps-seq-5.1.2 amd64 5.1.2-4 [1,119 kB]\n",
            "Get:3 http://archive.ubuntu.com/ubuntu bionic/main amd64 python-decorator all 4.1.2-1 [9,300 B]\n",
            "Get:4 http://archive.ubuntu.com/ubuntu bionic/main amd64 python-olefile all 0.45.1-1 [33.2 kB]\n",
            "Get:5 http://archive.ubuntu.com/ubuntu bionic/main amd64 python-pil amd64 5.1.0-1 [328 kB]\n",
            "Get:6 http://archive.ubuntu.com/ubuntu bionic/universe amd64 libgetfem5++ amd64 5.2+dfsg1-6 [2,488 kB]\n",
            "Get:7 http://archive.ubuntu.com/ubuntu bionic/universe amd64 python-scipy amd64 0.19.1-2ubuntu1 [9,689 kB]\n",
            "Get:8 http://archive.ubuntu.com/ubuntu bionic/universe amd64 python-getfem++ amd64 5.2+dfsg1-6 [1,121 kB]\n",
            "Fetched 15.2 MB in 2s (7,041 kB/s)\n",
            "debconf: unable to initialize frontend: Dialog\n",
            "debconf: (No usable dialog-like program is installed, so the dialog based frontend cannot be used. at /usr/share/perl5/Debconf/FrontEnd/Dialog.pm line 76, <> line 8.)\n",
            "debconf: falling back to frontend: Readline\n",
            "debconf: unable to initialize frontend: Readline\n",
            "debconf: (This frontend requires a controlling tty.)\n",
            "debconf: falling back to frontend: Teletype\n",
            "dpkg-preconfigure: unable to re-open stdin: \n",
            "Selecting previously unselected package libscotch-6.0.\n",
            "(Reading database ... 145605 files and directories currently installed.)\n",
            "Preparing to unpack .../0-libscotch-6.0_6.0.4.dfsg1-8_amd64.deb ...\n",
            "Unpacking libscotch-6.0 (6.0.4.dfsg1-8) ...\n",
            "Selecting previously unselected package libmumps-seq-5.1.2:amd64.\n",
            "Preparing to unpack .../1-libmumps-seq-5.1.2_5.1.2-4_amd64.deb ...\n",
            "Unpacking libmumps-seq-5.1.2:amd64 (5.1.2-4) ...\n",
            "Selecting previously unselected package python-decorator.\n",
            "Preparing to unpack .../2-python-decorator_4.1.2-1_all.deb ...\n",
            "Unpacking python-decorator (4.1.2-1) ...\n",
            "Selecting previously unselected package python-olefile.\n",
            "Preparing to unpack .../3-python-olefile_0.45.1-1_all.deb ...\n",
            "Unpacking python-olefile (0.45.1-1) ...\n",
            "Selecting previously unselected package python-pil:amd64.\n",
            "Preparing to unpack .../4-python-pil_5.1.0-1_amd64.deb ...\n",
            "Unpacking python-pil:amd64 (5.1.0-1) ...\n",
            "Selecting previously unselected package libgetfem5++:amd64.\n",
            "Preparing to unpack .../5-libgetfem5++_5.2+dfsg1-6_amd64.deb ...\n",
            "Unpacking libgetfem5++:amd64 (5.2+dfsg1-6) ...\n",
            "Selecting previously unselected package python-scipy.\n",
            "Preparing to unpack .../6-python-scipy_0.19.1-2ubuntu1_amd64.deb ...\n",
            "Unpacking python-scipy (0.19.1-2ubuntu1) ...\n",
            "Selecting previously unselected package python-getfem++.\n",
            "Preparing to unpack .../7-python-getfem++_5.2+dfsg1-6_amd64.deb ...\n",
            "Unpacking python-getfem++ (5.2+dfsg1-6) ...\n",
            "Setting up libscotch-6.0 (6.0.4.dfsg1-8) ...\n",
            "Setting up libmumps-seq-5.1.2:amd64 (5.1.2-4) ...\n",
            "Setting up libgetfem5++:amd64 (5.2+dfsg1-6) ...\n",
            "Processing triggers for libc-bin (2.27-3ubuntu1) ...\n",
            "Setting up python-olefile (0.45.1-1) ...\n",
            "Setting up python-decorator (4.1.2-1) ...\n",
            "Setting up python-pil:amd64 (5.1.0-1) ...\n",
            "Setting up python-scipy (0.19.1-2ubuntu1) ...\n",
            "Setting up python-getfem++ (5.2+dfsg1-6) ...\n"
          ],
          "name": "stdout"
        }
      ]
    },
    {
      "cell_type": "markdown",
      "metadata": {
        "id": "E4rEtbuLC8V3",
        "colab_type": "text"
      },
      "source": [
        "# 熱および電気弾性連成の例 (単純な非線形連成問題、モデルオブジェクト、汎用アセンブリ、解析および可視化)"
      ]
    },
    {
      "cell_type": "markdown",
      "metadata": {
        "id": "CZLW9X1yIF-c",
        "colab_type": "text"
      },
      "source": [
        "この例では、変位フィールド、温度フィールド、および電位フィールドの非線形連成のマルチフィジックス問題の簡単な例を紹介します。対応するデモファイルは、 GetFEM++ のテストディレクトリにあります( interface/tests/python )。"
      ]
    },
    {
      "cell_type": "markdown",
      "metadata": {
        "id": "qbngxc7jIbPu",
        "colab_type": "text"
      },
      "source": [
        "## 問題の設定\n",
        "$\\Omega \\subset \\boldsymbol{R}^2$ は、2次元板の参照配置です( [ここ](https://getfem.readthedocs.io/ja/latest/tutorial/thermo_coupling.html#tut-fig-meshthermo) のジオメトリを参照してください)、ここで厚さ $\\varepsilon$ は外部力、電位および加熱に寄与します。ここで、 $\\theta : \\Omega \\rightarrow \\boldsymbol{R}$ は( °C の)温度フィールド、 $V : \\Omega \\rightarrow \\boldsymbol{R}$ は電位フィールドです。また、 $u : \\Omega \\rightarrow \\boldsymbol{R}^2$ は膜変位場です。"
      ]
    },
    {
      "cell_type": "markdown",
      "metadata": {
        "id": "Z3bNBxuoJVgC",
        "colab_type": "text"
      },
      "source": [
        "### 熱問題\n",
        "プレートの表裏面は、熱伝達係数 $D$ の (20 °C の) 空気と熱交換しており、プレートの側面は断熱であると想定されています。"
      ]
    },
    {
      "cell_type": "markdown",
      "metadata": {
        "id": "9QauZVWEJcof",
        "colab_type": "text"
      },
      "source": [
        "熱方程式 $\\theta$ と境界条件は次のように書くことができます。"
      ]
    },
    {
      "cell_type": "markdown",
      "metadata": {
        "id": "MpgTfV-XJmko",
        "colab_type": "text"
      },
      "source": [
        "$$\n",
        "\\left\\{\\begin{array}{l}\n",
        "-\\mbox{div}(\\varepsilon\\kappa(\\nabla \\theta)) + 2D(\\theta - T_0) - \\varepsilon\\sigma|\\nabla V|^2 = 0 ~~ \\mbox{ in } \\Omega, \\\\\n",
        "\\kappa\\nabla \\theta \\cdot n = 0 ~~ \\mbox{ on } \\partial \\Omega,\n",
        "\\end{array} \\right.\n",
        "$$"
      ]
    },
    {
      "cell_type": "markdown",
      "metadata": {
        "id": "eC_AT1NiJ0OO",
        "colab_type": "text"
      },
      "source": [
        "$\\kappa$ は熱電導率、 $T_0$ は空気の温度、 $\\partial \\Omega$ は、領域 $\\Omega$ の境界であり $n$ は $\\partial \\Omega$ 上の $\\Omega$ の外向きの単位法線ベクトルです。"
      ]
    },
    {
      "cell_type": "markdown",
      "metadata": {
        "id": "KuOd7vYCKCyp",
        "colab_type": "text"
      },
      "source": [
        "項 $\\sigma|\\nabla V|^2$ は、Joule加熱項に対応する非線形連成項であり、 $\\sigma$ は電気伝導率です。"
      ]
    },
    {
      "cell_type": "markdown",
      "metadata": {
        "id": "d7zIAX1yKORu",
        "colab_type": "text"
      },
      "source": [
        "### 電位問題\n",
        "プレートの左右の側面の間には 0.1V の電位差があるとします。他の面は電気的に絶縁されていると考えます。電位の方程式は次の通りです。"
      ]
    },
    {
      "cell_type": "markdown",
      "metadata": {
        "id": "p3zIq8MUKdbJ",
        "colab_type": "text"
      },
      "source": [
        "$$\n",
        "\\left\\{\\begin{array}{l}\n",
        "-\\mbox{div}(\\varepsilon\\sigma(\\nabla V)) = 0 ~~ \\mbox{ in } \\Omega, \\\\\n",
        "\\sigma\\nabla V \\cdot n = 0 ~~ \\mbox{ on the top an bottom lateral faces}, \\\\\n",
        "V = 0 ~~ \\mbox{ on the right lateral face}, \\\\\n",
        "V = 0.1 ~~ \\mbox{ on the left lateral face}, \\\\\n",
        "\\end{array} \\right.\n",
        "$$"
      ]
    },
    {
      "cell_type": "markdown",
      "metadata": {
        "id": "8KpO32jzKutI",
        "colab_type": "text"
      },
      "source": [
        "ここでも $\\sigma$ は電気伝導率です。さらに、 $\\sigma$ は次のように温度に依存すると考えます。"
      ]
    },
    {
      "cell_type": "markdown",
      "metadata": {
        "id": "rw91LuYYK59v",
        "colab_type": "text"
      },
      "source": [
        "$$\n",
        "\\sigma = \\dfrac{1}{\\rho_0(1+\\alpha(\\theta - T_0))},\n",
        "$$"
      ]
    },
    {
      "cell_type": "markdown",
      "metadata": {
        "id": "Ai6vB8r0LFn7",
        "colab_type": "text"
      },
      "source": [
        "ここで $T_0$ は参照温度 (ここでは空気温度) であり、 $\\rho_0$ は $T_0$ 上の抵抗温度係数であり、$\\alpha$ は第2抵抗温度係数です。"
      ]
    },
    {
      "cell_type": "markdown",
      "metadata": {
        "id": "R0nfZBYRLUrg",
        "colab_type": "text"
      },
      "source": [
        "### 変形問題\n",
        "右側面に加わる力の下でプレートの微小変形を考慮し, プレートの加熱によって影響を受けるとします。変位 $u$ は、次の(線形化された弾性)問題の解になります。"
      ]
    },
    {
      "cell_type": "markdown",
      "metadata": {
        "id": "UcupHnDhLkMl",
        "colab_type": "text"
      },
      "source": [
        "$$\n",
        "\\left\\{\\begin{array}{l}\n",
        "-\\mbox{div}(\\bar{\\sigma}(u)) = 0 ~~ \\mbox{ in } \\Omega, \\\\\n",
        "\\bar{\\sigma}\\ n = 0 ~~ \\mbox{ on the top an bottom lateral faces}, \\\\\n",
        "\\bar{\\sigma}\\ n = F ~~ \\mbox{ on the right lateral face}, \\\\\n",
        "u = 0 ~~ \\mbox{ on the left lateral face},\n",
        "\\end{array} \\right.\n",
        "$$"
      ]
    },
    {
      "cell_type": "markdown",
      "metadata": {
        "id": "MPNcNUXnLt1B",
        "colab_type": "text"
      },
      "source": [
        "ここで $F$ は右横方向の境界に加えられる力密度であり、 $\\bar{\\sigma}(u)$ は次のように定義されたCauchy応力テンソルです。"
      ]
    },
    {
      "cell_type": "markdown",
      "metadata": {
        "id": "qPPLDMlELzjR",
        "colab_type": "text"
      },
      "source": [
        "$$\n",
        "\\bar{\\sigma}(u) = \\lambda^* \\mbox{div}(u) I + 2\\mu \\bar{\\varepsilon}(u) + \\beta(T_0-\\theta) I,\n",
        "$$"
      ]
    },
    {
      "cell_type": "markdown",
      "metadata": {
        "id": "5agpHDIgMCYQ",
        "colab_type": "text"
      },
      "source": [
        "$\\bar{\\varepsilon}(u) = (\\nabla u + (\\nabla u)^T)/2$ は、線形化されたひずみテンソルであり、 $I$ は2次単位テンソルで、 $\\lambda^*$, $\\mu$ は Lamé 係数であり次のように定義されます。"
      ]
    },
    {
      "cell_type": "markdown",
      "metadata": {
        "id": "XzY1eufFMLyG",
        "colab_type": "text"
      },
      "source": [
        "$$\\lambda = \\dfrac{E\\nu}{(1+\\nu)(1-2\\nu)}, \\\\\n",
        "\\mu = \\dfrac{E}{2(1+\\nu)}, \\\\\n",
        "\\lambda^* = \\dfrac{2\\lambda\\mu}{\\lambda+2*\\mu},$$"
      ]
    },
    {
      "cell_type": "markdown",
      "metadata": {
        "id": "Q8G1F16DMw4s",
        "colab_type": "text"
      },
      "source": [
        "$E$ は材料のヤング係数であり $\\nu$ はポアソン比です。"
      ]
    },
    {
      "cell_type": "markdown",
      "metadata": {
        "id": "9XXvi32YM2fi",
        "colab_type": "text"
      },
      "source": [
        "項 $\\beta(T_0-\\theta) I$ は、熱膨張の項に対応しています。ここで $\\beta = \\alpha_{th} E/(1-2\\nu)$ で、 $\\alpha_{th}$ は熱膨張係数です。"
      ]
    },
    {
      "cell_type": "markdown",
      "metadata": {
        "id": "PHfHzTdiNDiJ",
        "colab_type": "text"
      },
      "source": [
        "## 弱定式化"
      ]
    },
    {
      "cell_type": "markdown",
      "metadata": {
        "id": "S7lEx3h4NI-8",
        "colab_type": "text"
      },
      "source": [
        "方程式の連成系方程式の弱定式化は重要なステップです。有限要素の定式化は弱定式化 (Galerkin近似) に基づいており、弱定式化は追加される項を表現する唯一の方法であるため、これはきわめて重要なステップです。"
      ]
    },
    {
      "cell_type": "markdown",
      "metadata": {
        "id": "bLA8AUD4Oeen",
        "colab_type": "text"
      },
      "source": [
        "各偏微分方程式の弱定式化は、未知数に対応する試行関数を式に掛けることにより得られます。未知数はDirichlet条件を満たし条件は均質であるとします。その後 $\\Omega$ 領域上の積分と(Greenの式を使用した)部分のいくつかの積分を実行します。偏微分方程式系の弱定式化は次の通りです。"
      ]
    },
    {
      "cell_type": "markdown",
      "metadata": {
        "id": "yMZ0VFX6OlJg",
        "colab_type": "text"
      },
      "source": [
        "$$\n",
        "\\mbox{Find } \\theta, V, u \\mbox{ with } V = 0.1, u = 0 \\mbox{ on the left face}, V = 0 \\mbox{ on the right face}, \\\\\n",
        "\\int_{\\Omega} \\varepsilon\\kappa\\nabla\\theta\\cdot\\nabla\\delta_{\\theta} + 2D\\theta\\delta_{\\theta}dx = \\int_{\\Omega} (2DT_0 + \\varepsilon\\sigma|\\nabla V|^2)\\delta_{\\theta} dx ~~~\\mbox{ for all } \\delta_{\\theta}, \\\\\n",
        "\\int_{\\Omega} \\varepsilon\\sigma\\nabla V\\cdot\\nabla\\delta_V = 0 dx ~~~ \\mbox{ for all } \\delta_V \\mbox{ satisfying } \\delta_V = 0 \\mbox{ on the left and right faces}, \\\\\n",
        "\\int_{\\Omega} \\bar{\\sigma}(u):\\bar{\\varepsilon}(\\delta_u)dx = \\int_{\\Gamma_N} F\\cdot \\delta_u d\\Gamma ~~~ \\mbox{ for all } \\delta_{u} \\mbox{ satisfying } \\delta_u = 0 \\mbox{ on the left face},\n",
        "$$"
      ]
    },
    {
      "cell_type": "markdown",
      "metadata": {
        "id": "InSJqIcjO8Wq",
        "colab_type": "text"
      },
      "source": [
        "ここで $\\delta_{\\theta}$, $\\delta_V$, $\\delta_u$ は、それぞれ、 $\\theta$, $V$, $u$ に対応する試験関数です、 $\\Gamma_N$ は力密度 $F$ がかかる右の境界を示します。そして $\\bar{\\sigma}:\\bar{\\varepsilon}$ は2次テンソル同士のFrobeniusスカラー積です。"
      ]
    },
    {
      "cell_type": "markdown",
      "metadata": {
        "id": "aYXWs99ZPbF3",
        "colab_type": "text"
      },
      "source": [
        "## Python での実装とインターフェイス"
      ]
    },
    {
      "cell_type": "markdown",
      "metadata": {
        "id": "tg0puw-fPjfl",
        "colab_type": "text"
      },
      "source": [
        "次に、問題を近似する GetFEM++ の使用法についての詳細なプレゼンテーションを行います。"
      ]
    },
    {
      "cell_type": "markdown",
      "metadata": {
        "id": "omOqxCbtPqpP",
        "colab_type": "text"
      },
      "source": [
        "### 初期化\n",
        "Python の場合、これは簡単です。 GetFEM++ をグローバルにインポートするだけです(numpy もインポートする必要があります)。"
      ]
    },
    {
      "cell_type": "code",
      "metadata": {
        "id": "6BSj_spuPYmG",
        "colab_type": "code",
        "colab": {}
      },
      "source": [
        "import getfem as gf\n",
        "import numpy as np"
      ],
      "execution_count": 0,
      "outputs": []
    },
    {
      "cell_type": "markdown",
      "metadata": {
        "id": "no8lxmn5QDf8",
        "colab_type": "text"
      },
      "source": [
        "### モデルのパラメータ\n",
        "ここで、問題のさまざまな物理パラメータおよび数値パラメータを定義しましょう。"
      ]
    },
    {
      "cell_type": "code",
      "metadata": {
        "id": "hxTN1TzNP9Xd",
        "colab_type": "code",
        "colab": {}
      },
      "source": [
        "epsilon = 1.0  # Thickness of the plate (cm)\n",
        "E = 21e6  # Young Modulus (N/cm^2)\n",
        "nu = 0.3  # Poisson ratio\n",
        "clambda = E * nu / ((1 + nu) * (1 - 2 * nu))  # First Lame coefficient (N/cm^2)\n",
        "cmu = E / (2 * (1 + nu))  # Second Lame coefficient (N/cm^2)\n",
        "# Lame coefficient for Plane stress (N/cm^2)\n",
        "clambdastar = 2 * clambda * cmu / (clambda + 2 * cmu)\n",
        "F = 100e2  # Force density at the right boundary (N/cm^2)\n",
        "kappa = 4.0  # Thermal conductivity (W/(cm K))\n",
        "D = 10.0  # Heat transfer coefficient (W/(K cm^2))\n",
        "air_temp = 20.0  # Temperature of the air in oC.\n",
        "alpha_th = 16.6e-6  # Thermal expansion coefficient (/K).\n",
        "T0 = 20.0  # Reference temperature in oC.\n",
        "rho_0 = 1.754e-8  # Resistance temperature coefficient at T0 = 20oC\n",
        "alpha = 0.0039  # Second resistance temperature coefficient.\n",
        "\n",
        "h = 2.0  # Approximate mesh size\n",
        "elements_degree = 2  # Degree of the finite element methods"
      ],
      "execution_count": 0,
      "outputs": []
    },
    {
      "cell_type": "markdown",
      "metadata": {
        "id": "T6sZyZz-QhlM",
        "colab_type": "text"
      },
      "source": [
        "### メッシュ生成\n",
        "GetFEM++ には、ここで説明するいくつかの制約のあるメッシュ機能があります。ここではそれらを使用するつもりです。しかし、得られたメッシュの品質と適合性は保証していません。そのため、 GetFEM++ のメッシュ作成機能を使用する場合はメッシュを確認することをお勧めします。また、外部メッシャ (例えばGiD または Gmsh) を使用してインポートすることもできます( [メッシュの保存とロード](https://getfem.readthedocs.io/ja/latest/userdoc/bmesh.html#ud-load-save-mesh) をご覧ください)。"
      ]
    },
    {
      "cell_type": "markdown",
      "metadata": {
        "id": "yzUNwaCGRNR6",
        "colab_type": "text"
      },
      "source": [
        "領域のジオメトリは、3つの円形の穴がある長方形であるとします ( 得られたメッシュ。 を参照)。ジオメトリは、いくつかの初等幾何と union/setminus 操作によって記述します ( src/getfem/getfem_mesher.h ファイルを参照してください)。以下では、 h はメッシュサイズを表し、 2 はメッシュの次数を表します (これは変換が次数2であり、曲線エッジを使用することを意味します)。"
      ]
    },
    {
      "cell_type": "code",
      "metadata": {
        "id": "6Dr1ME5RQKq8",
        "colab_type": "code",
        "colab": {}
      },
      "source": [
        "mo1 = gf.MesherObject(\"rectangle\", [0., 0.], [100., 25.])\n",
        "mo2 = gf.MesherObject(\"ball\", [25., 12.5], 8.)\n",
        "mo3 = gf.MesherObject(\"ball\", [50., 12.5], 8.)\n",
        "mo4 = gf.MesherObject(\"ball\", [75., 12.5], 8.)\n",
        "mo5 = gf.MesherObject(\"union\", mo2, mo3, mo4)\n",
        "mo  = gf.MesherObject(\"set minus\", mo1, mo5)\n",
        "\n",
        "mesh = gf.Mesh(\"generate\", mo, h, 2)"
      ],
      "execution_count": 0,
      "outputs": []
    },
    {
      "cell_type": "markdown",
      "metadata": {
        "colab_type": "text",
        "id": "EMras543RLjE"
      },
      "source": [
        "<img src=\"https://getfem.readthedocs.io/ja/latest/_images/mesh_thermo.png\">"
      ]
    },
    {
      "cell_type": "markdown",
      "metadata": {
        "id": "YYx92fdOU7IG",
        "colab_type": "text"
      },
      "source": [
        "### 境界の選択\n",
        "境界のそれぞれの部分には異なる境界条件を設定するため、境界のさまざまな部分には番号を付けます (穴には、熱と電気の絶縁と、応力自由境界条件が想定されます)。したがって、メッシュ上の要素面を選択し、メッシュ領域を定義する必要があります ( メッシュ領域 を参照)、1、2、3、4はそれぞれ右境界、左境界、上境界、下境界です。これらの境界番号は、モデルのブリックで使用されます。"
      ]
    },
    {
      "cell_type": "code",
      "metadata": {
        "id": "2ggvLJQyVUmQ",
        "colab_type": "code",
        "colab": {}
      },
      "source": [
        "fb1 = mesh.outer_faces_in_box([1.0, 1.0], [99.0, 24.0])  # Boundary of the holes\n",
        "fb2 = mesh.outer_faces_with_direction([1.0, 0.0], 0.01)  # Right boundary\n",
        "fb3 = mesh.outer_faces_with_direction([-1.0, 0.0], 0.01)  # Left boundary\n",
        "fb4 = mesh.outer_faces_with_direction([0.0, 1.0], 0.01)  # Top boundary\n",
        "fb5 = mesh.outer_faces_with_direction([0.0, -1.0], 0.01)  # Bottom boundary\n",
        "\n",
        "RIGHT_BOUND = 1\n",
        "LEFT_BOUND = 2\n",
        "TOP_BOUND = 3\n",
        "BOTTOM_BOUND = 4\n",
        "HOLE_BOUND = 5\n",
        "\n",
        "mesh.set_region(RIGHT_BOUND, fb2)\n",
        "mesh.set_region(LEFT_BOUND, fb3)\n",
        "mesh.set_region(TOP_BOUND, fb4)\n",
        "mesh.set_region(BOTTOM_BOUND, fb5)\n",
        "mesh.set_region(HOLE_BOUND, fb1)\n",
        "mesh.region_subtract(RIGHT_BOUND, HOLE_BOUND)\n",
        "mesh.region_subtract(LEFT_BOUND, HOLE_BOUND)\n",
        "mesh.region_subtract(TOP_BOUND, HOLE_BOUND)\n",
        "mesh.region_subtract(BOTTOM_BOUND, HOLE_BOUND)"
      ],
      "execution_count": 0,
      "outputs": []
    },
    {
      "cell_type": "markdown",
      "metadata": {
        "id": "0CdkYg_BXAxd",
        "colab_type": "text"
      },
      "source": [
        "### メッシュの描画\n",
        "メッシュをプレビューし、その妥当性を制御するために、次の手順を使用します。"
      ]
    },
    {
      "cell_type": "code",
      "metadata": {
        "id": "puH7n5RXXO-2",
        "colab_type": "code",
        "colab": {}
      },
      "source": [
        "mesh.export_to_vtk('mesh.vtk');"
      ],
      "execution_count": 0,
      "outputs": []
    },
    {
      "cell_type": "markdown",
      "metadata": {
        "id": "titQHhrTnaje",
        "colab_type": "text"
      },
      "source": [
        "Python インターフェイスでは、外部グラフィカルポストプロセッサを使用する必要があります (たとえば、gmsh、[Mayavi2](https://mayavi.readthedocs.io/ja/latest/index.html)、または Paraviewなど)。"
      ]
    },
    {
      "cell_type": "code",
      "metadata": {
        "id": "mn4ibLMmScGT",
        "colab_type": "code",
        "outputId": "e325dd52-d81a-4c50-9c15-aef5402a2014",
        "colab": {
          "base_uri": "https://localhost:8080/",
          "height": 1000
        }
      },
      "source": [
        "!apt install mayavi2\n",
        "!apt-get -qq -y install xvfb freeglut3-dev ffmpeg> /dev/null\n",
        "!pip install pyvirtualdisplay"
      ],
      "execution_count": 7,
      "outputs": [
        {
          "output_type": "stream",
          "text": [
            "Reading package lists... Done\n",
            "Building dependency tree       \n",
            "Reading state information... Done\n",
            "The following package was automatically installed and is no longer required:\n",
            "  libnvidia-common-430\n",
            "Use 'apt autoremove' to remove it.\n",
            "The following additional packages will be installed:\n",
            "  avahi-daemon bind9-host cython geoclue-2.0 geoip-database\n",
            "  gstreamer1.0-plugins-base iio-sensor-proxy javascript-common libaudio2\n",
            "  libavahi-core7 libavahi-glib1 libbind9-160 libbrotli1 libcap2-bin\n",
            "  libcdparanoia0 libdaemon0 libdns1100 libgeoclue-2-0 libgeoip1\n",
            "  libgl1-mesa-glx libgstreamer-plugins-base1.0-0 libgstreamer1.0-0 libhyphen0\n",
            "  libisc169 libisccc160 libisccfg160 libjs-sphinxdoc libjs-underscore\n",
            "  liblwres160 libmbim-glib4 libmbim-proxy libmm-glib0 libmng2 libnl-genl-3-200\n",
            "  libnotify4 libnss-mdns liborc-0.4-0 libpam-cap libqmi-glib5 libqmi-proxy\n",
            "  libqt4-dbus libqt4-declarative libqt4-designer libqt4-help libqt4-network\n",
            "  libqt4-script libqt4-scripttools libqt4-sql libqt4-sql-mysql libqt4-svg\n",
            "  libqt4-test libqt4-xml libqt4-xmlpatterns libqt5opengl5 libqt5positioning5\n",
            "  libqt5qml5 libqt5quick5 libqt5sensors5 libqt5webchannel5 libqt5webkit5\n",
            "  libqtassistantclient4 libqtcore4 libqtdbus4 libqtgui4 libvisual-0.4-0\n",
            "  libvtk6.3-qt libwoff1 libwxbase3.0-0v5 libwxgtk3.0-gtk3-0v5 modemmanager\n",
            "  notification-daemon python-apptools python-asn1crypto python-attr\n",
            "  python-autobahn python-automat python-cbor python-cffi-backend\n",
            "  python-chardet python-click python-colorama python-concurrent.futures\n",
            "  python-configobj python-constantly python-cryptography python-enum34\n",
            "  python-envisage python-hyperlink python-idna python-incremental\n",
            "  python-ipaddress python-lz4 python-mpi4py python-nacl python-openssl\n",
            "  python-pam python-pkg-resources python-pyasn1 python-pyasn1-modules\n",
            "  python-pyface python-pygments python-qrcode python-qt4 python-serial\n",
            "  python-service-identity python-sip python-six python-snappy python-traits\n",
            "  python-traitsui python-trie python-trollius python-twisted\n",
            "  python-twisted-bin python-twisted-core python-txaio python-u-msgpack\n",
            "  python-ubjson python-vtk6 python-wsaccel python-wxgtk3.0 python-wxversion\n",
            "  python-zope.interface qdbus qt-at-spi qtcore4-l10n usb-modeswitch\n",
            "  usb-modeswitch-data wpasupplicant\n",
            "Suggested packages:\n",
            "  avahi-autoipd cython-doc gvfs apache2 | lighttpd | httpd nas geoip-bin\n",
            "  libvisual-0.4-plugins gstreamer1.0-tools avahi-autoipd | zeroconf\n",
            "  libqt4-declarative-folderlistmodel libqt4-declarative-gestures\n",
            "  libqt4-declarative-particles libqt4-declarative-shaders qt4-qmlviewer\n",
            "  libqt4-dev qt5-qmltooling-plugins libicu55 qt4-qtconfig ipython\n",
            "  python-attr-doc python-configobj-doc python-cryptography-doc\n",
            "  python-cryptography-vectors python-enum34-doc python-chaco python-nacl-doc\n",
            "  python-openssl-doc python-openssl-dbg python-pam-dbg python-setuptools\n",
            "  ttf-bitstream-vera python-qt4-dbg python-trie-doc python-twisted-bin-dbg\n",
            "  python-gtk2 python-glade2 python-qt3 python-txaio-doc vtk6-doc vtk6-examples\n",
            "  wx3.0-doc comgt wvdial wpagui libengine-pkcs11-openssl\n",
            "The following NEW packages will be installed:\n",
            "  avahi-daemon bind9-host cython geoclue-2.0 geoip-database\n",
            "  gstreamer1.0-plugins-base iio-sensor-proxy javascript-common libaudio2\n",
            "  libavahi-core7 libavahi-glib1 libbind9-160 libbrotli1 libcap2-bin\n",
            "  libcdparanoia0 libdaemon0 libdns1100 libgeoclue-2-0 libgeoip1\n",
            "  libgl1-mesa-glx libgstreamer-plugins-base1.0-0 libgstreamer1.0-0 libhyphen0\n",
            "  libisc169 libisccc160 libisccfg160 libjs-sphinxdoc libjs-underscore\n",
            "  liblwres160 libmbim-glib4 libmbim-proxy libmm-glib0 libmng2 libnl-genl-3-200\n",
            "  libnotify4 libnss-mdns liborc-0.4-0 libpam-cap libqmi-glib5 libqmi-proxy\n",
            "  libqt4-dbus libqt4-declarative libqt4-designer libqt4-help libqt4-network\n",
            "  libqt4-script libqt4-scripttools libqt4-sql libqt4-sql-mysql libqt4-svg\n",
            "  libqt4-test libqt4-xml libqt4-xmlpatterns libqt5opengl5 libqt5positioning5\n",
            "  libqt5qml5 libqt5quick5 libqt5sensors5 libqt5webchannel5 libqt5webkit5\n",
            "  libqtassistantclient4 libqtcore4 libqtdbus4 libqtgui4 libvisual-0.4-0\n",
            "  libvtk6.3-qt libwoff1 libwxbase3.0-0v5 libwxgtk3.0-gtk3-0v5 mayavi2\n",
            "  modemmanager notification-daemon python-apptools python-asn1crypto\n",
            "  python-attr python-autobahn python-automat python-cbor python-cffi-backend\n",
            "  python-chardet python-click python-colorama python-concurrent.futures\n",
            "  python-configobj python-constantly python-cryptography python-enum34\n",
            "  python-envisage python-hyperlink python-idna python-incremental\n",
            "  python-ipaddress python-lz4 python-mpi4py python-nacl python-openssl\n",
            "  python-pam python-pkg-resources python-pyasn1 python-pyasn1-modules\n",
            "  python-pyface python-pygments python-qrcode python-qt4 python-serial\n",
            "  python-service-identity python-sip python-six python-snappy python-traits\n",
            "  python-traitsui python-trie python-trollius python-twisted\n",
            "  python-twisted-bin python-twisted-core python-txaio python-u-msgpack\n",
            "  python-ubjson python-vtk6 python-wsaccel python-wxgtk3.0 python-wxversion\n",
            "  python-zope.interface qdbus qt-at-spi qtcore4-l10n usb-modeswitch\n",
            "  usb-modeswitch-data wpasupplicant\n",
            "0 upgraded, 130 newly installed, 0 to remove and 68 not upgraded.\n",
            "Need to get 87.9 MB of archives.\n",
            "After this operation, 310 MB of additional disk space will be used.\n",
            "Get:1 http://archive.ubuntu.com/ubuntu bionic/main amd64 libdaemon0 amd64 0.14-6 [16.6 kB]\n",
            "Get:2 http://archive.ubuntu.com/ubuntu bionic/universe amd64 libmng2 amd64 2.0.2-0ubuntu3 [169 kB]\n",
            "Get:3 http://archive.ubuntu.com/ubuntu bionic/main amd64 libcap2-bin amd64 1:2.25-1.2 [20.6 kB]\n",
            "Get:4 http://archive.ubuntu.com/ubuntu bionic-updates/main amd64 libgstreamer1.0-0 amd64 1.14.5-0ubuntu1~18.04.1 [865 kB]\n",
            "Get:5 http://archive.ubuntu.com/ubuntu bionic/main amd64 liborc-0.4-0 amd64 1:0.4.28-1 [137 kB]\n",
            "Get:6 http://archive.ubuntu.com/ubuntu bionic-updates/main amd64 libgstreamer-plugins-base1.0-0 amd64 1.14.5-0ubuntu1~18.04.1 [688 kB]\n",
            "Get:7 http://archive.ubuntu.com/ubuntu bionic/main amd64 libhyphen0 amd64 2.8.8-5 [26.5 kB]\n",
            "Get:8 http://archive.ubuntu.com/ubuntu bionic/universe amd64 libqt5positioning5 amd64 5.9.5+dfsg-0ubuntu2 [131 kB]\n",
            "Get:9 http://archive.ubuntu.com/ubuntu bionic-updates/universe amd64 libqt5qml5 amd64 5.9.5-0ubuntu1.1 [1,242 kB]\n",
            "Get:10 http://archive.ubuntu.com/ubuntu bionic-updates/universe amd64 libqt5quick5 amd64 5.9.5-0ubuntu1.1 [1,201 kB]\n",
            "Get:11 http://archive.ubuntu.com/ubuntu bionic/universe amd64 libqt5sensors5 amd64 5.9.5-0ubuntu1 [113 kB]\n",
            "Get:12 http://archive.ubuntu.com/ubuntu bionic/universe amd64 libqt5webchannel5 amd64 5.9.5-0ubuntu1 [47.7 kB]\n",
            "Get:13 http://archive.ubuntu.com/ubuntu bionic-updates/main amd64 libbrotli1 amd64 1.0.3-1ubuntu1.2 [262 kB]\n",
            "Get:14 http://archive.ubuntu.com/ubuntu bionic-updates/main amd64 libwoff1 amd64 1.0.2-1build0.1 [43.0 kB]\n",
            "Get:15 http://archive.ubuntu.com/ubuntu bionic/universe amd64 libqt5webkit5 amd64 5.212.0~alpha2-7ubuntu1 [11.8 MB]\n",
            "Get:16 http://archive.ubuntu.com/ubuntu bionic/main amd64 libpam-cap amd64 1:2.25-1.2 [7,268 B]\n",
            "Get:17 http://archive.ubuntu.com/ubuntu bionic-updates/main amd64 libisc169 amd64 1:9.11.3+dfsg-1ubuntu1.11 [237 kB]\n",
            "Get:18 http://archive.ubuntu.com/ubuntu bionic/main amd64 libgeoip1 amd64 1.6.12-1 [71.8 kB]\n",
            "Get:19 http://archive.ubuntu.com/ubuntu bionic-updates/main amd64 libdns1100 amd64 1:9.11.3+dfsg-1ubuntu1.11 [966 kB]\n",
            "Get:20 http://archive.ubuntu.com/ubuntu bionic-updates/main amd64 libisccc160 amd64 1:9.11.3+dfsg-1ubuntu1.11 [17.9 kB]\n",
            "Get:21 http://archive.ubuntu.com/ubuntu bionic-updates/main amd64 libisccfg160 amd64 1:9.11.3+dfsg-1ubuntu1.11 [48.5 kB]\n",
            "Get:22 http://archive.ubuntu.com/ubuntu bionic-updates/main amd64 libbind9-160 amd64 1:9.11.3+dfsg-1ubuntu1.11 [27.6 kB]\n",
            "Get:23 http://archive.ubuntu.com/ubuntu bionic-updates/main amd64 liblwres160 amd64 1:9.11.3+dfsg-1ubuntu1.11 [34.5 kB]\n",
            "Get:24 http://archive.ubuntu.com/ubuntu bionic-updates/main amd64 bind9-host amd64 1:9.11.3+dfsg-1ubuntu1.11 [53.6 kB]\n",
            "Get:25 http://archive.ubuntu.com/ubuntu bionic/main amd64 geoip-database all 20180315-1 [2,090 kB]\n",
            "Get:26 http://archive.ubuntu.com/ubuntu bionic-updates/main amd64 libavahi-core7 amd64 0.7-3.1ubuntu1.2 [81.1 kB]\n",
            "Get:27 http://archive.ubuntu.com/ubuntu bionic-updates/main amd64 avahi-daemon amd64 0.7-3.1ubuntu1.2 [62.3 kB]\n",
            "Get:28 http://archive.ubuntu.com/ubuntu bionic/universe amd64 cython amd64 0.26.1-0.4 [1,874 kB]\n",
            "Get:29 http://archive.ubuntu.com/ubuntu bionic-updates/main amd64 libavahi-glib1 amd64 0.7-3.1ubuntu1.2 [7,720 B]\n",
            "Get:30 http://archive.ubuntu.com/ubuntu bionic/main amd64 libgeoclue-2-0 amd64 2.4.7-1ubuntu1 [25.6 kB]\n",
            "Get:31 http://archive.ubuntu.com/ubuntu bionic-updates/main amd64 libmm-glib0 amd64 1.10.0-1~ubuntu18.04.2 [179 kB]\n",
            "Get:32 http://archive.ubuntu.com/ubuntu bionic/main amd64 geoclue-2.0 amd64 2.4.7-1ubuntu1 [80.6 kB]\n",
            "Get:33 http://archive.ubuntu.com/ubuntu bionic/main amd64 libcdparanoia0 amd64 3.10.2+debian-13 [46.7 kB]\n",
            "Get:34 http://archive.ubuntu.com/ubuntu bionic/main amd64 libvisual-0.4-0 amd64 0.4.0-11 [99.2 kB]\n",
            "Get:35 http://archive.ubuntu.com/ubuntu bionic-updates/main amd64 gstreamer1.0-plugins-base amd64 1.14.5-0ubuntu1~18.04.1 [587 kB]\n",
            "Get:36 http://archive.ubuntu.com/ubuntu bionic/main amd64 iio-sensor-proxy amd64 2.4-2 [45.0 kB]\n",
            "Get:37 http://archive.ubuntu.com/ubuntu bionic/main amd64 javascript-common all 11 [6,066 B]\n",
            "Get:38 http://archive.ubuntu.com/ubuntu bionic/main amd64 libaudio2 amd64 1.9.4-6 [50.3 kB]\n",
            "Get:39 http://archive.ubuntu.com/ubuntu bionic-updates/main amd64 libgl1-mesa-glx amd64 19.0.8-0ubuntu0~18.04.3 [5,396 B]\n",
            "Get:40 http://archive.ubuntu.com/ubuntu bionic/main amd64 libjs-underscore all 1.8.3~dfsg-1 [59.9 kB]\n",
            "Get:41 http://archive.ubuntu.com/ubuntu bionic/main amd64 libjs-sphinxdoc all 1.6.7-1ubuntu1 [85.6 kB]\n",
            "Get:42 http://archive.ubuntu.com/ubuntu bionic-updates/main amd64 libmbim-glib4 amd64 1.18.0-1~ubuntu18.04.1 [91.4 kB]\n",
            "Get:43 http://archive.ubuntu.com/ubuntu bionic-updates/main amd64 libmbim-proxy amd64 1.18.0-1~ubuntu18.04.1 [5,572 B]\n",
            "Get:44 http://archive.ubuntu.com/ubuntu bionic/main amd64 libnl-genl-3-200 amd64 3.2.29-0ubuntu3 [11.2 kB]\n",
            "Get:45 http://archive.ubuntu.com/ubuntu bionic/main amd64 libnotify4 amd64 0.7.7-3 [17.3 kB]\n",
            "Get:46 http://archive.ubuntu.com/ubuntu bionic/main amd64 libnss-mdns amd64 0.10-8ubuntu1 [21.2 kB]\n",
            "Get:47 http://archive.ubuntu.com/ubuntu bionic-updates/main amd64 libqmi-glib5 amd64 1.22.0-1.2~ubuntu18.04.1 [494 kB]\n",
            "Get:48 http://archive.ubuntu.com/ubuntu bionic-updates/main amd64 libqmi-proxy amd64 1.22.0-1.2~ubuntu18.04.1 [5,632 B]\n",
            "Get:49 http://archive.ubuntu.com/ubuntu bionic/universe amd64 qtcore4-l10n all 4:4.8.7+dfsg-7ubuntu1 [617 kB]\n",
            "Get:50 http://archive.ubuntu.com/ubuntu bionic/universe amd64 libqtcore4 amd64 4:4.8.7+dfsg-7ubuntu1 [1,552 kB]\n",
            "Get:51 http://archive.ubuntu.com/ubuntu bionic/universe amd64 libqt4-xml amd64 4:4.8.7+dfsg-7ubuntu1 [96.1 kB]\n",
            "Get:52 http://archive.ubuntu.com/ubuntu bionic/universe amd64 libqtdbus4 amd64 4:4.8.7+dfsg-7ubuntu1 [186 kB]\n",
            "Get:53 http://archive.ubuntu.com/ubuntu bionic/universe amd64 qdbus amd64 4:4.8.7+dfsg-7ubuntu1 [30.0 kB]\n",
            "Get:54 http://archive.ubuntu.com/ubuntu bionic/universe amd64 libqt4-dbus amd64 4:4.8.7+dfsg-7ubuntu1 [6,440 B]\n",
            "Get:55 http://archive.ubuntu.com/ubuntu bionic/universe amd64 libqt4-network amd64 4:4.8.7+dfsg-7ubuntu1 [562 kB]\n",
            "Get:56 http://archive.ubuntu.com/ubuntu bionic/universe amd64 libqt4-script amd64 4:4.8.7+dfsg-7ubuntu1 [815 kB]\n",
            "Get:57 http://archive.ubuntu.com/ubuntu bionic/universe amd64 libqt4-sql amd64 4:4.8.7+dfsg-7ubuntu1 [98.5 kB]\n",
            "Get:58 http://archive.ubuntu.com/ubuntu bionic/universe amd64 libqt4-xmlpatterns amd64 4:4.8.7+dfsg-7ubuntu1 [1,091 kB]\n",
            "Get:59 http://archive.ubuntu.com/ubuntu bionic/universe amd64 libqtgui4 amd64 4:4.8.7+dfsg-7ubuntu1 [4,115 kB]\n",
            "Get:60 http://archive.ubuntu.com/ubuntu bionic/universe amd64 libqt4-declarative amd64 4:4.8.7+dfsg-7ubuntu1 [1,089 kB]\n",
            "Get:61 http://archive.ubuntu.com/ubuntu bionic/universe amd64 libqt4-designer amd64 4:4.8.7+dfsg-7ubuntu1 [3,629 kB]\n",
            "Get:62 http://archive.ubuntu.com/ubuntu bionic/universe amd64 libqt4-help amd64 4:4.8.7+dfsg-7ubuntu1 [207 kB]\n",
            "Get:63 http://archive.ubuntu.com/ubuntu bionic/universe amd64 libqt4-scripttools amd64 4:4.8.7+dfsg-7ubuntu1 [225 kB]\n",
            "Get:64 http://archive.ubuntu.com/ubuntu bionic/universe amd64 libqt4-sql-mysql amd64 4:4.8.7+dfsg-7ubuntu1 [30.5 kB]\n",
            "Get:65 http://archive.ubuntu.com/ubuntu bionic/universe amd64 libqt4-svg amd64 4:4.8.7+dfsg-7ubuntu1 [138 kB]\n",
            "Get:66 http://archive.ubuntu.com/ubuntu bionic/universe amd64 libqt4-test amd64 4:4.8.7+dfsg-7ubuntu1 [61.2 kB]\n",
            "Get:67 http://archive.ubuntu.com/ubuntu bionic-updates/main amd64 libqt5opengl5 amd64 5.9.5+dfsg-0ubuntu2.4 [132 kB]\n",
            "Get:68 http://archive.ubuntu.com/ubuntu bionic/universe amd64 libqtassistantclient4 amd64 4.6.3-7build1 [12.7 kB]\n",
            "Get:69 http://archive.ubuntu.com/ubuntu bionic/universe amd64 libvtk6.3-qt amd64 6.3.0+dfsg1-11build1 [244 kB]\n",
            "Get:70 http://archive.ubuntu.com/ubuntu bionic/universe amd64 libwxbase3.0-0v5 amd64 3.0.4+dfsg-3 [954 kB]\n",
            "Get:71 http://archive.ubuntu.com/ubuntu bionic/universe amd64 libwxgtk3.0-gtk3-0v5 amd64 3.0.4+dfsg-3 [4,154 kB]\n",
            "Get:72 http://archive.ubuntu.com/ubuntu bionic/universe amd64 python-traits amd64 4.6.0-1ubuntu2 [233 kB]\n",
            "Get:73 http://archive.ubuntu.com/ubuntu bionic/main amd64 python-pygments all 2.2.0+dfsg-1 [577 kB]\n",
            "Get:74 http://archive.ubuntu.com/ubuntu bionic/universe amd64 python-wxversion all 3.0.2.0+dfsg-7 [12.4 kB]\n",
            "Get:75 http://archive.ubuntu.com/ubuntu bionic/universe amd64 python-wxgtk3.0 amd64 3.0.2.0+dfsg-7 [5,072 kB]\n",
            "Get:76 http://archive.ubuntu.com/ubuntu bionic/universe amd64 python-sip amd64 4.19.7+dfsg-1 [75.4 kB]\n",
            "Get:77 http://archive.ubuntu.com/ubuntu bionic/universe amd64 python-qt4 amd64 4.12.1+dfsg-2 [2,194 kB]\n",
            "Get:78 http://archive.ubuntu.com/ubuntu bionic/universe amd64 python-pyface all 4.5.2-1 [386 kB]\n",
            "Get:79 http://archive.ubuntu.com/ubuntu bionic/universe amd64 python-traitsui all 4.5.1-1 [6,079 kB]\n",
            "Get:80 http://archive.ubuntu.com/ubuntu bionic/main amd64 python-six all 1.11.0-2 [11.3 kB]\n",
            "Get:81 http://archive.ubuntu.com/ubuntu bionic/main amd64 python-configobj all 5.0.6-2 [34.2 kB]\n",
            "Get:82 http://archive.ubuntu.com/ubuntu bionic/universe amd64 python-apptools all 4.3.0-1 [195 kB]\n",
            "Get:83 http://archive.ubuntu.com/ubuntu bionic/universe amd64 python-cbor amd64 1.0.0-1 [20.7 kB]\n",
            "Get:84 http://archive.ubuntu.com/ubuntu bionic/main amd64 python-concurrent.futures all 3.2.0-1 [34.2 kB]\n",
            "Get:85 http://archive.ubuntu.com/ubuntu bionic/universe amd64 python-lz4 amd64 0.10.1+dfsg1-0.2 [16.6 kB]\n",
            "Get:86 http://archive.ubuntu.com/ubuntu bionic/main amd64 python-cffi-backend amd64 1.11.5-1 [63.4 kB]\n",
            "Get:87 http://archive.ubuntu.com/ubuntu bionic/universe amd64 python-nacl amd64 1.1.2-1build1 [27.8 kB]\n",
            "Get:88 http://archive.ubuntu.com/ubuntu bionic/main amd64 python-asn1crypto all 0.24.0-1 [72.7 kB]\n",
            "Get:89 http://archive.ubuntu.com/ubuntu bionic/main amd64 python-enum34 all 1.1.6-2 [34.8 kB]\n",
            "Get:90 http://archive.ubuntu.com/ubuntu bionic/main amd64 python-idna all 2.6-1 [32.4 kB]\n",
            "Get:91 http://archive.ubuntu.com/ubuntu bionic/main amd64 python-ipaddress all 1.0.17-1 [18.2 kB]\n",
            "Get:92 http://archive.ubuntu.com/ubuntu bionic-updates/main amd64 python-cryptography amd64 2.1.4-1ubuntu1.3 [221 kB]\n",
            "Get:93 http://archive.ubuntu.com/ubuntu bionic/main amd64 python-openssl all 17.5.0-1ubuntu1 [41.3 kB]\n",
            "Get:94 http://archive.ubuntu.com/ubuntu bionic/universe amd64 python-qrcode all 5.3-1 [25.3 kB]\n",
            "Get:95 http://archive.ubuntu.com/ubuntu bionic/main amd64 python-attr all 17.4.0-2 [23.7 kB]\n",
            "Get:96 http://archive.ubuntu.com/ubuntu bionic/main amd64 python-pyasn1 all 0.4.2-3 [46.7 kB]\n",
            "Get:97 http://archive.ubuntu.com/ubuntu bionic/main amd64 python-pyasn1-modules all 0.2.1-0.2 [32.8 kB]\n",
            "Get:98 http://archive.ubuntu.com/ubuntu bionic/main amd64 python-service-identity all 16.0.0-2 [9,318 B]\n",
            "Get:99 http://archive.ubuntu.com/ubuntu bionic/universe amd64 python-snappy amd64 0.5-1.1build2 [10.8 kB]\n",
            "Get:100 http://archive.ubuntu.com/ubuntu bionic/universe amd64 python-trie all 0.2+ds-1 [7,076 B]\n",
            "Get:101 http://archive.ubuntu.com/ubuntu bionic/universe amd64 python-trollius all 2.1~b1-5 [83.9 kB]\n",
            "Get:102 http://archive.ubuntu.com/ubuntu bionic/main amd64 python-twisted-bin amd64 17.9.0-2 [14.4 kB]\n",
            "Get:103 http://archive.ubuntu.com/ubuntu bionic/main amd64 python-pkg-resources all 39.0.1-2 [128 kB]\n",
            "Get:104 http://archive.ubuntu.com/ubuntu bionic/main amd64 python-zope.interface amd64 4.3.2-1build2 [82.2 kB]\n",
            "Get:105 http://archive.ubuntu.com/ubuntu bionic/main amd64 python-automat all 0.6.0-1 [25.1 kB]\n",
            "Get:106 http://archive.ubuntu.com/ubuntu bionic/main amd64 python-constantly all 15.1.0-1 [7,960 B]\n",
            "Get:107 http://archive.ubuntu.com/ubuntu bionic/main amd64 python-hyperlink all 17.3.1-2 [27.5 kB]\n",
            "Get:108 http://archive.ubuntu.com/ubuntu bionic/main amd64 python-incremental all 16.10.1-3 [14.4 kB]\n",
            "Get:109 http://archive.ubuntu.com/ubuntu bionic/main amd64 python-twisted-core all 17.9.0-2 [2,003 kB]\n",
            "Get:110 http://archive.ubuntu.com/ubuntu bionic/main amd64 python-twisted all 17.9.0-2 [3,720 B]\n",
            "Get:111 http://archive.ubuntu.com/ubuntu bionic/universe amd64 python-txaio all 2.8.1-1 [18.2 kB]\n",
            "Get:112 http://archive.ubuntu.com/ubuntu bionic/universe amd64 python-u-msgpack all 2.1-1 [7,268 B]\n",
            "Get:113 http://archive.ubuntu.com/ubuntu bionic/universe amd64 python-ubjson amd64 0.8.5-2build1 [95.0 kB]\n",
            "Get:114 http://archive.ubuntu.com/ubuntu bionic/universe amd64 python-wsaccel amd64 0.6.2-1 [37.5 kB]\n",
            "Get:115 http://archive.ubuntu.com/ubuntu bionic/universe amd64 python-autobahn all 17.10.1+dfsg1-2 [158 kB]\n",
            "Get:116 http://archive.ubuntu.com/ubuntu bionic/universe amd64 python-mpi4py amd64 2.0.0-3 [421 kB]\n",
            "Get:117 http://archive.ubuntu.com/ubuntu bionic/universe amd64 python-vtk6 amd64 6.3.0+dfsg1-11build1 [283 kB]\n",
            "Get:118 http://archive.ubuntu.com/ubuntu bionic/universe amd64 python-envisage all 4.4.0-1 [161 kB]\n",
            "Get:119 http://archive.ubuntu.com/ubuntu bionic/universe amd64 mayavi2 amd64 4.5.0-1 [22.4 MB]\n",
            "Get:120 http://archive.ubuntu.com/ubuntu bionic-updates/main amd64 modemmanager amd64 1.10.0-1~ubuntu18.04.2 [728 kB]\n",
            "Get:121 http://archive.ubuntu.com/ubuntu bionic/main amd64 notification-daemon amd64 3.20.0-3 [36.9 kB]\n",
            "Get:122 http://archive.ubuntu.com/ubuntu bionic/main amd64 python-chardet all 3.0.4-1 [80.3 kB]\n",
            "Get:123 http://archive.ubuntu.com/ubuntu bionic/main amd64 python-colorama all 0.3.7-1 [22.6 kB]\n",
            "Get:124 http://archive.ubuntu.com/ubuntu bionic/main amd64 python-click all 6.7-3 [56.4 kB]\n",
            "Get:125 http://archive.ubuntu.com/ubuntu bionic/main amd64 python-pam amd64 0.4.2-13.2ubuntu4 [9,856 B]\n",
            "Get:126 http://archive.ubuntu.com/ubuntu bionic/main amd64 python-serial all 3.4-2 [71.9 kB]\n",
            "Get:127 http://archive.ubuntu.com/ubuntu bionic/universe amd64 qt-at-spi amd64 0.4.0-8 [58.6 kB]\n",
            "Get:128 http://archive.ubuntu.com/ubuntu bionic-updates/main amd64 wpasupplicant amd64 2:2.6-15ubuntu2.5 [954 kB]\n",
            "Get:129 http://archive.ubuntu.com/ubuntu bionic/main amd64 usb-modeswitch-data all 20170806-2 [30.7 kB]\n",
            "Get:130 http://archive.ubuntu.com/ubuntu bionic/main amd64 usb-modeswitch amd64 2.5.2+repack0-2ubuntu1 [53.6 kB]\n",
            "Fetched 87.9 MB in 14s (6,489 kB/s)\n",
            "Extracting templates from packages: 100%\n",
            "Selecting previously unselected package libdaemon0:amd64.\n",
            "(Reading database ... 146681 files and directories currently installed.)\n",
            "Preparing to unpack .../000-libdaemon0_0.14-6_amd64.deb ...\n",
            "Unpacking libdaemon0:amd64 (0.14-6) ...\n",
            "Selecting previously unselected package libmng2:amd64.\n",
            "Preparing to unpack .../001-libmng2_2.0.2-0ubuntu3_amd64.deb ...\n",
            "Unpacking libmng2:amd64 (2.0.2-0ubuntu3) ...\n",
            "Selecting previously unselected package libcap2-bin.\n",
            "Preparing to unpack .../002-libcap2-bin_1%3a2.25-1.2_amd64.deb ...\n",
            "Unpacking libcap2-bin (1:2.25-1.2) ...\n",
            "Selecting previously unselected package libgstreamer1.0-0:amd64.\n",
            "Preparing to unpack .../003-libgstreamer1.0-0_1.14.5-0ubuntu1~18.04.1_amd64.deb ...\n",
            "Unpacking libgstreamer1.0-0:amd64 (1.14.5-0ubuntu1~18.04.1) ...\n",
            "Selecting previously unselected package liborc-0.4-0:amd64.\n",
            "Preparing to unpack .../004-liborc-0.4-0_1%3a0.4.28-1_amd64.deb ...\n",
            "Unpacking liborc-0.4-0:amd64 (1:0.4.28-1) ...\n",
            "Selecting previously unselected package libgstreamer-plugins-base1.0-0:amd64.\n",
            "Preparing to unpack .../005-libgstreamer-plugins-base1.0-0_1.14.5-0ubuntu1~18.04.1_amd64.deb ...\n",
            "Unpacking libgstreamer-plugins-base1.0-0:amd64 (1.14.5-0ubuntu1~18.04.1) ...\n",
            "Selecting previously unselected package libhyphen0:amd64.\n",
            "Preparing to unpack .../006-libhyphen0_2.8.8-5_amd64.deb ...\n",
            "Unpacking libhyphen0:amd64 (2.8.8-5) ...\n",
            "Selecting previously unselected package libqt5positioning5:amd64.\n",
            "Preparing to unpack .../007-libqt5positioning5_5.9.5+dfsg-0ubuntu2_amd64.deb ...\n",
            "Unpacking libqt5positioning5:amd64 (5.9.5+dfsg-0ubuntu2) ...\n",
            "Selecting previously unselected package libqt5qml5:amd64.\n",
            "Preparing to unpack .../008-libqt5qml5_5.9.5-0ubuntu1.1_amd64.deb ...\n",
            "Unpacking libqt5qml5:amd64 (5.9.5-0ubuntu1.1) ...\n",
            "Selecting previously unselected package libqt5quick5:amd64.\n",
            "Preparing to unpack .../009-libqt5quick5_5.9.5-0ubuntu1.1_amd64.deb ...\n",
            "Unpacking libqt5quick5:amd64 (5.9.5-0ubuntu1.1) ...\n",
            "Selecting previously unselected package libqt5sensors5:amd64.\n",
            "Preparing to unpack .../010-libqt5sensors5_5.9.5-0ubuntu1_amd64.deb ...\n",
            "Unpacking libqt5sensors5:amd64 (5.9.5-0ubuntu1) ...\n",
            "Selecting previously unselected package libqt5webchannel5:amd64.\n",
            "Preparing to unpack .../011-libqt5webchannel5_5.9.5-0ubuntu1_amd64.deb ...\n",
            "Unpacking libqt5webchannel5:amd64 (5.9.5-0ubuntu1) ...\n",
            "Selecting previously unselected package libbrotli1:amd64.\n",
            "Preparing to unpack .../012-libbrotli1_1.0.3-1ubuntu1.2_amd64.deb ...\n",
            "Unpacking libbrotli1:amd64 (1.0.3-1ubuntu1.2) ...\n",
            "Selecting previously unselected package libwoff1:amd64.\n",
            "Preparing to unpack .../013-libwoff1_1.0.2-1build0.1_amd64.deb ...\n",
            "Unpacking libwoff1:amd64 (1.0.2-1build0.1) ...\n",
            "Selecting previously unselected package libqt5webkit5:amd64.\n",
            "Preparing to unpack .../014-libqt5webkit5_5.212.0~alpha2-7ubuntu1_amd64.deb ...\n",
            "Unpacking libqt5webkit5:amd64 (5.212.0~alpha2-7ubuntu1) ...\n",
            "Selecting previously unselected package libpam-cap:amd64.\n",
            "Preparing to unpack .../015-libpam-cap_1%3a2.25-1.2_amd64.deb ...\n",
            "Unpacking libpam-cap:amd64 (1:2.25-1.2) ...\n",
            "Selecting previously unselected package libisc169:amd64.\n",
            "Preparing to unpack .../016-libisc169_1%3a9.11.3+dfsg-1ubuntu1.11_amd64.deb ...\n",
            "Unpacking libisc169:amd64 (1:9.11.3+dfsg-1ubuntu1.11) ...\n",
            "Selecting previously unselected package libgeoip1:amd64.\n",
            "Preparing to unpack .../017-libgeoip1_1.6.12-1_amd64.deb ...\n",
            "Unpacking libgeoip1:amd64 (1.6.12-1) ...\n",
            "Selecting previously unselected package libdns1100:amd64.\n",
            "Preparing to unpack .../018-libdns1100_1%3a9.11.3+dfsg-1ubuntu1.11_amd64.deb ...\n",
            "Unpacking libdns1100:amd64 (1:9.11.3+dfsg-1ubuntu1.11) ...\n",
            "Selecting previously unselected package libisccc160:amd64.\n",
            "Preparing to unpack .../019-libisccc160_1%3a9.11.3+dfsg-1ubuntu1.11_amd64.deb ...\n",
            "Unpacking libisccc160:amd64 (1:9.11.3+dfsg-1ubuntu1.11) ...\n",
            "Selecting previously unselected package libisccfg160:amd64.\n",
            "Preparing to unpack .../020-libisccfg160_1%3a9.11.3+dfsg-1ubuntu1.11_amd64.deb ...\n",
            "Unpacking libisccfg160:amd64 (1:9.11.3+dfsg-1ubuntu1.11) ...\n",
            "Selecting previously unselected package libbind9-160:amd64.\n",
            "Preparing to unpack .../021-libbind9-160_1%3a9.11.3+dfsg-1ubuntu1.11_amd64.deb ...\n",
            "Unpacking libbind9-160:amd64 (1:9.11.3+dfsg-1ubuntu1.11) ...\n",
            "Selecting previously unselected package liblwres160:amd64.\n",
            "Preparing to unpack .../022-liblwres160_1%3a9.11.3+dfsg-1ubuntu1.11_amd64.deb ...\n",
            "Unpacking liblwres160:amd64 (1:9.11.3+dfsg-1ubuntu1.11) ...\n",
            "Selecting previously unselected package bind9-host.\n",
            "Preparing to unpack .../023-bind9-host_1%3a9.11.3+dfsg-1ubuntu1.11_amd64.deb ...\n",
            "Unpacking bind9-host (1:9.11.3+dfsg-1ubuntu1.11) ...\n",
            "Selecting previously unselected package geoip-database.\n",
            "Preparing to unpack .../024-geoip-database_20180315-1_all.deb ...\n",
            "Unpacking geoip-database (20180315-1) ...\n",
            "Selecting previously unselected package libavahi-core7:amd64.\n",
            "Preparing to unpack .../025-libavahi-core7_0.7-3.1ubuntu1.2_amd64.deb ...\n",
            "Unpacking libavahi-core7:amd64 (0.7-3.1ubuntu1.2) ...\n",
            "Selecting previously unselected package avahi-daemon.\n",
            "Preparing to unpack .../026-avahi-daemon_0.7-3.1ubuntu1.2_amd64.deb ...\n",
            "Unpacking avahi-daemon (0.7-3.1ubuntu1.2) ...\n",
            "Selecting previously unselected package cython.\n",
            "Preparing to unpack .../027-cython_0.26.1-0.4_amd64.deb ...\n",
            "Unpacking cython (0.26.1-0.4) ...\n",
            "Selecting previously unselected package libavahi-glib1:amd64.\n",
            "Preparing to unpack .../028-libavahi-glib1_0.7-3.1ubuntu1.2_amd64.deb ...\n",
            "Unpacking libavahi-glib1:amd64 (0.7-3.1ubuntu1.2) ...\n",
            "Selecting previously unselected package libgeoclue-2-0:amd64.\n",
            "Preparing to unpack .../029-libgeoclue-2-0_2.4.7-1ubuntu1_amd64.deb ...\n",
            "Unpacking libgeoclue-2-0:amd64 (2.4.7-1ubuntu1) ...\n",
            "Selecting previously unselected package libmm-glib0:amd64.\n",
            "Preparing to unpack .../030-libmm-glib0_1.10.0-1~ubuntu18.04.2_amd64.deb ...\n",
            "Unpacking libmm-glib0:amd64 (1.10.0-1~ubuntu18.04.2) ...\n",
            "Selecting previously unselected package geoclue-2.0.\n",
            "Preparing to unpack .../031-geoclue-2.0_2.4.7-1ubuntu1_amd64.deb ...\n",
            "Unpacking geoclue-2.0 (2.4.7-1ubuntu1) ...\n",
            "Selecting previously unselected package libcdparanoia0:amd64.\n",
            "Preparing to unpack .../032-libcdparanoia0_3.10.2+debian-13_amd64.deb ...\n",
            "Unpacking libcdparanoia0:amd64 (3.10.2+debian-13) ...\n",
            "Selecting previously unselected package libvisual-0.4-0:amd64.\n",
            "Preparing to unpack .../033-libvisual-0.4-0_0.4.0-11_amd64.deb ...\n",
            "Unpacking libvisual-0.4-0:amd64 (0.4.0-11) ...\n",
            "Selecting previously unselected package gstreamer1.0-plugins-base:amd64.\n",
            "Preparing to unpack .../034-gstreamer1.0-plugins-base_1.14.5-0ubuntu1~18.04.1_amd64.deb ...\n",
            "Unpacking gstreamer1.0-plugins-base:amd64 (1.14.5-0ubuntu1~18.04.1) ...\n",
            "Selecting previously unselected package iio-sensor-proxy.\n",
            "Preparing to unpack .../035-iio-sensor-proxy_2.4-2_amd64.deb ...\n",
            "Unpacking iio-sensor-proxy (2.4-2) ...\n",
            "Selecting previously unselected package javascript-common.\n",
            "Preparing to unpack .../036-javascript-common_11_all.deb ...\n",
            "Unpacking javascript-common (11) ...\n",
            "Selecting previously unselected package libaudio2:amd64.\n",
            "Preparing to unpack .../037-libaudio2_1.9.4-6_amd64.deb ...\n",
            "Unpacking libaudio2:amd64 (1.9.4-6) ...\n",
            "Selecting previously unselected package libgl1-mesa-glx:amd64.\n",
            "Preparing to unpack .../038-libgl1-mesa-glx_19.0.8-0ubuntu0~18.04.3_amd64.deb ...\n",
            "Unpacking libgl1-mesa-glx:amd64 (19.0.8-0ubuntu0~18.04.3) ...\n",
            "Selecting previously unselected package libjs-underscore.\n",
            "Preparing to unpack .../039-libjs-underscore_1.8.3~dfsg-1_all.deb ...\n",
            "Unpacking libjs-underscore (1.8.3~dfsg-1) ...\n",
            "Selecting previously unselected package libjs-sphinxdoc.\n",
            "Preparing to unpack .../040-libjs-sphinxdoc_1.6.7-1ubuntu1_all.deb ...\n",
            "Unpacking libjs-sphinxdoc (1.6.7-1ubuntu1) ...\n",
            "Selecting previously unselected package libmbim-glib4:amd64.\n",
            "Preparing to unpack .../041-libmbim-glib4_1.18.0-1~ubuntu18.04.1_amd64.deb ...\n",
            "Unpacking libmbim-glib4:amd64 (1.18.0-1~ubuntu18.04.1) ...\n",
            "Selecting previously unselected package libmbim-proxy.\n",
            "Preparing to unpack .../042-libmbim-proxy_1.18.0-1~ubuntu18.04.1_amd64.deb ...\n",
            "Unpacking libmbim-proxy (1.18.0-1~ubuntu18.04.1) ...\n",
            "Selecting previously unselected package libnl-genl-3-200:amd64.\n",
            "Preparing to unpack .../043-libnl-genl-3-200_3.2.29-0ubuntu3_amd64.deb ...\n",
            "Unpacking libnl-genl-3-200:amd64 (3.2.29-0ubuntu3) ...\n",
            "Selecting previously unselected package libnotify4:amd64.\n",
            "Preparing to unpack .../044-libnotify4_0.7.7-3_amd64.deb ...\n",
            "Unpacking libnotify4:amd64 (0.7.7-3) ...\n",
            "Selecting previously unselected package libnss-mdns:amd64.\n",
            "Preparing to unpack .../045-libnss-mdns_0.10-8ubuntu1_amd64.deb ...\n",
            "Unpacking libnss-mdns:amd64 (0.10-8ubuntu1) ...\n",
            "Selecting previously unselected package libqmi-glib5:amd64.\n",
            "Preparing to unpack .../046-libqmi-glib5_1.22.0-1.2~ubuntu18.04.1_amd64.deb ...\n",
            "Unpacking libqmi-glib5:amd64 (1.22.0-1.2~ubuntu18.04.1) ...\n",
            "Selecting previously unselected package libqmi-proxy.\n",
            "Preparing to unpack .../047-libqmi-proxy_1.22.0-1.2~ubuntu18.04.1_amd64.deb ...\n",
            "Unpacking libqmi-proxy (1.22.0-1.2~ubuntu18.04.1) ...\n",
            "Selecting previously unselected package qtcore4-l10n.\n",
            "Preparing to unpack .../048-qtcore4-l10n_4%3a4.8.7+dfsg-7ubuntu1_all.deb ...\n",
            "Unpacking qtcore4-l10n (4:4.8.7+dfsg-7ubuntu1) ...\n",
            "Selecting previously unselected package libqtcore4:amd64.\n",
            "Preparing to unpack .../049-libqtcore4_4%3a4.8.7+dfsg-7ubuntu1_amd64.deb ...\n",
            "Unpacking libqtcore4:amd64 (4:4.8.7+dfsg-7ubuntu1) ...\n",
            "Selecting previously unselected package libqt4-xml:amd64.\n",
            "Preparing to unpack .../050-libqt4-xml_4%3a4.8.7+dfsg-7ubuntu1_amd64.deb ...\n",
            "Unpacking libqt4-xml:amd64 (4:4.8.7+dfsg-7ubuntu1) ...\n",
            "Selecting previously unselected package libqtdbus4:amd64.\n",
            "Preparing to unpack .../051-libqtdbus4_4%3a4.8.7+dfsg-7ubuntu1_amd64.deb ...\n",
            "Unpacking libqtdbus4:amd64 (4:4.8.7+dfsg-7ubuntu1) ...\n",
            "Selecting previously unselected package qdbus.\n",
            "Preparing to unpack .../052-qdbus_4%3a4.8.7+dfsg-7ubuntu1_amd64.deb ...\n",
            "Unpacking qdbus (4:4.8.7+dfsg-7ubuntu1) ...\n",
            "Selecting previously unselected package libqt4-dbus:amd64.\n",
            "Preparing to unpack .../053-libqt4-dbus_4%3a4.8.7+dfsg-7ubuntu1_amd64.deb ...\n",
            "Unpacking libqt4-dbus:amd64 (4:4.8.7+dfsg-7ubuntu1) ...\n",
            "Selecting previously unselected package libqt4-network:amd64.\n",
            "Preparing to unpack .../054-libqt4-network_4%3a4.8.7+dfsg-7ubuntu1_amd64.deb ...\n",
            "Unpacking libqt4-network:amd64 (4:4.8.7+dfsg-7ubuntu1) ...\n",
            "Selecting previously unselected package libqt4-script:amd64.\n",
            "Preparing to unpack .../055-libqt4-script_4%3a4.8.7+dfsg-7ubuntu1_amd64.deb ...\n",
            "Unpacking libqt4-script:amd64 (4:4.8.7+dfsg-7ubuntu1) ...\n",
            "Selecting previously unselected package libqt4-sql:amd64.\n",
            "Preparing to unpack .../056-libqt4-sql_4%3a4.8.7+dfsg-7ubuntu1_amd64.deb ...\n",
            "Unpacking libqt4-sql:amd64 (4:4.8.7+dfsg-7ubuntu1) ...\n",
            "Selecting previously unselected package libqt4-xmlpatterns:amd64.\n",
            "Preparing to unpack .../057-libqt4-xmlpatterns_4%3a4.8.7+dfsg-7ubuntu1_amd64.deb ...\n",
            "Unpacking libqt4-xmlpatterns:amd64 (4:4.8.7+dfsg-7ubuntu1) ...\n",
            "Selecting previously unselected package libqtgui4:amd64.\n",
            "Preparing to unpack .../058-libqtgui4_4%3a4.8.7+dfsg-7ubuntu1_amd64.deb ...\n",
            "Unpacking libqtgui4:amd64 (4:4.8.7+dfsg-7ubuntu1) ...\n",
            "Selecting previously unselected package libqt4-declarative:amd64.\n",
            "Preparing to unpack .../059-libqt4-declarative_4%3a4.8.7+dfsg-7ubuntu1_amd64.deb ...\n",
            "Unpacking libqt4-declarative:amd64 (4:4.8.7+dfsg-7ubuntu1) ...\n",
            "Selecting previously unselected package libqt4-designer:amd64.\n",
            "Preparing to unpack .../060-libqt4-designer_4%3a4.8.7+dfsg-7ubuntu1_amd64.deb ...\n",
            "Unpacking libqt4-designer:amd64 (4:4.8.7+dfsg-7ubuntu1) ...\n",
            "Selecting previously unselected package libqt4-help:amd64.\n",
            "Preparing to unpack .../061-libqt4-help_4%3a4.8.7+dfsg-7ubuntu1_amd64.deb ...\n",
            "Unpacking libqt4-help:amd64 (4:4.8.7+dfsg-7ubuntu1) ...\n",
            "Selecting previously unselected package libqt4-scripttools:amd64.\n",
            "Preparing to unpack .../062-libqt4-scripttools_4%3a4.8.7+dfsg-7ubuntu1_amd64.deb ...\n",
            "Unpacking libqt4-scripttools:amd64 (4:4.8.7+dfsg-7ubuntu1) ...\n",
            "Selecting previously unselected package libqt4-sql-mysql:amd64.\n",
            "Preparing to unpack .../063-libqt4-sql-mysql_4%3a4.8.7+dfsg-7ubuntu1_amd64.deb ...\n",
            "Unpacking libqt4-sql-mysql:amd64 (4:4.8.7+dfsg-7ubuntu1) ...\n",
            "Selecting previously unselected package libqt4-svg:amd64.\n",
            "Preparing to unpack .../064-libqt4-svg_4%3a4.8.7+dfsg-7ubuntu1_amd64.deb ...\n",
            "Unpacking libqt4-svg:amd64 (4:4.8.7+dfsg-7ubuntu1) ...\n",
            "Selecting previously unselected package libqt4-test:amd64.\n",
            "Preparing to unpack .../065-libqt4-test_4%3a4.8.7+dfsg-7ubuntu1_amd64.deb ...\n",
            "Unpacking libqt4-test:amd64 (4:4.8.7+dfsg-7ubuntu1) ...\n",
            "Selecting previously unselected package libqt5opengl5:amd64.\n",
            "Preparing to unpack .../066-libqt5opengl5_5.9.5+dfsg-0ubuntu2.4_amd64.deb ...\n",
            "Unpacking libqt5opengl5:amd64 (5.9.5+dfsg-0ubuntu2.4) ...\n",
            "Selecting previously unselected package libqtassistantclient4:amd64.\n",
            "Preparing to unpack .../067-libqtassistantclient4_4.6.3-7build1_amd64.deb ...\n",
            "Unpacking libqtassistantclient4:amd64 (4.6.3-7build1) ...\n",
            "Selecting previously unselected package libvtk6.3-qt.\n",
            "Preparing to unpack .../068-libvtk6.3-qt_6.3.0+dfsg1-11build1_amd64.deb ...\n",
            "Unpacking libvtk6.3-qt (6.3.0+dfsg1-11build1) ...\n",
            "Selecting previously unselected package libwxbase3.0-0v5:amd64.\n",
            "Preparing to unpack .../069-libwxbase3.0-0v5_3.0.4+dfsg-3_amd64.deb ...\n",
            "Unpacking libwxbase3.0-0v5:amd64 (3.0.4+dfsg-3) ...\n",
            "Selecting previously unselected package libwxgtk3.0-gtk3-0v5:amd64.\n",
            "Preparing to unpack .../070-libwxgtk3.0-gtk3-0v5_3.0.4+dfsg-3_amd64.deb ...\n",
            "Unpacking libwxgtk3.0-gtk3-0v5:amd64 (3.0.4+dfsg-3) ...\n",
            "Selecting previously unselected package python-traits.\n",
            "Preparing to unpack .../071-python-traits_4.6.0-1ubuntu2_amd64.deb ...\n",
            "Unpacking python-traits (4.6.0-1ubuntu2) ...\n",
            "Selecting previously unselected package python-pygments.\n",
            "Preparing to unpack .../072-python-pygments_2.2.0+dfsg-1_all.deb ...\n",
            "Unpacking python-pygments (2.2.0+dfsg-1) ...\n",
            "Selecting previously unselected package python-wxversion.\n",
            "Preparing to unpack .../073-python-wxversion_3.0.2.0+dfsg-7_all.deb ...\n",
            "Unpacking python-wxversion (3.0.2.0+dfsg-7) ...\n",
            "Selecting previously unselected package python-wxgtk3.0.\n",
            "Preparing to unpack .../074-python-wxgtk3.0_3.0.2.0+dfsg-7_amd64.deb ...\n",
            "Unpacking python-wxgtk3.0 (3.0.2.0+dfsg-7) ...\n",
            "Selecting previously unselected package python-sip.\n",
            "Preparing to unpack .../075-python-sip_4.19.7+dfsg-1_amd64.deb ...\n",
            "Unpacking python-sip (4.19.7+dfsg-1) ...\n",
            "Selecting previously unselected package python-qt4.\n",
            "Preparing to unpack .../076-python-qt4_4.12.1+dfsg-2_amd64.deb ...\n",
            "Unpacking python-qt4 (4.12.1+dfsg-2) ...\n",
            "Selecting previously unselected package python-pyface.\n",
            "Preparing to unpack .../077-python-pyface_4.5.2-1_all.deb ...\n",
            "Unpacking python-pyface (4.5.2-1) ...\n",
            "Selecting previously unselected package python-traitsui.\n",
            "Preparing to unpack .../078-python-traitsui_4.5.1-1_all.deb ...\n",
            "Unpacking python-traitsui (4.5.1-1) ...\n",
            "Selecting previously unselected package python-six.\n",
            "Preparing to unpack .../079-python-six_1.11.0-2_all.deb ...\n",
            "Unpacking python-six (1.11.0-2) ...\n",
            "Selecting previously unselected package python-configobj.\n",
            "Preparing to unpack .../080-python-configobj_5.0.6-2_all.deb ...\n",
            "Unpacking python-configobj (5.0.6-2) ...\n",
            "Selecting previously unselected package python-apptools.\n",
            "Preparing to unpack .../081-python-apptools_4.3.0-1_all.deb ...\n",
            "Unpacking python-apptools (4.3.0-1) ...\n",
            "Selecting previously unselected package python-cbor.\n",
            "Preparing to unpack .../082-python-cbor_1.0.0-1_amd64.deb ...\n",
            "Unpacking python-cbor (1.0.0-1) ...\n",
            "Selecting previously unselected package python-concurrent.futures.\n",
            "Preparing to unpack .../083-python-concurrent.futures_3.2.0-1_all.deb ...\n",
            "Unpacking python-concurrent.futures (3.2.0-1) ...\n",
            "Selecting previously unselected package python-lz4.\n",
            "Preparing to unpack .../084-python-lz4_0.10.1+dfsg1-0.2_amd64.deb ...\n",
            "Unpacking python-lz4 (0.10.1+dfsg1-0.2) ...\n",
            "Selecting previously unselected package python-cffi-backend.\n",
            "Preparing to unpack .../085-python-cffi-backend_1.11.5-1_amd64.deb ...\n",
            "Unpacking python-cffi-backend (1.11.5-1) ...\n",
            "Selecting previously unselected package python-nacl.\n",
            "Preparing to unpack .../086-python-nacl_1.1.2-1build1_amd64.deb ...\n",
            "Unpacking python-nacl (1.1.2-1build1) ...\n",
            "Selecting previously unselected package python-asn1crypto.\n",
            "Preparing to unpack .../087-python-asn1crypto_0.24.0-1_all.deb ...\n",
            "Unpacking python-asn1crypto (0.24.0-1) ...\n",
            "Selecting previously unselected package python-enum34.\n",
            "Preparing to unpack .../088-python-enum34_1.1.6-2_all.deb ...\n",
            "Unpacking python-enum34 (1.1.6-2) ...\n",
            "Selecting previously unselected package python-idna.\n",
            "Preparing to unpack .../089-python-idna_2.6-1_all.deb ...\n",
            "Unpacking python-idna (2.6-1) ...\n",
            "Selecting previously unselected package python-ipaddress.\n",
            "Preparing to unpack .../090-python-ipaddress_1.0.17-1_all.deb ...\n",
            "Unpacking python-ipaddress (1.0.17-1) ...\n",
            "Selecting previously unselected package python-cryptography.\n",
            "Preparing to unpack .../091-python-cryptography_2.1.4-1ubuntu1.3_amd64.deb ...\n",
            "Unpacking python-cryptography (2.1.4-1ubuntu1.3) ...\n",
            "Selecting previously unselected package python-openssl.\n",
            "Preparing to unpack .../092-python-openssl_17.5.0-1ubuntu1_all.deb ...\n",
            "Unpacking python-openssl (17.5.0-1ubuntu1) ...\n",
            "Selecting previously unselected package python-qrcode.\n",
            "Preparing to unpack .../093-python-qrcode_5.3-1_all.deb ...\n",
            "Unpacking python-qrcode (5.3-1) ...\n",
            "Selecting previously unselected package python-attr.\n",
            "Preparing to unpack .../094-python-attr_17.4.0-2_all.deb ...\n",
            "Unpacking python-attr (17.4.0-2) ...\n",
            "Selecting previously unselected package python-pyasn1.\n",
            "Preparing to unpack .../095-python-pyasn1_0.4.2-3_all.deb ...\n",
            "Unpacking python-pyasn1 (0.4.2-3) ...\n",
            "Selecting previously unselected package python-pyasn1-modules.\n",
            "Preparing to unpack .../096-python-pyasn1-modules_0.2.1-0.2_all.deb ...\n",
            "Unpacking python-pyasn1-modules (0.2.1-0.2) ...\n",
            "Selecting previously unselected package python-service-identity.\n",
            "Preparing to unpack .../097-python-service-identity_16.0.0-2_all.deb ...\n",
            "Unpacking python-service-identity (16.0.0-2) ...\n",
            "Selecting previously unselected package python-snappy.\n",
            "Preparing to unpack .../098-python-snappy_0.5-1.1build2_amd64.deb ...\n",
            "Unpacking python-snappy (0.5-1.1build2) ...\n",
            "Selecting previously unselected package python-trie.\n",
            "Preparing to unpack .../099-python-trie_0.2+ds-1_all.deb ...\n",
            "Unpacking python-trie (0.2+ds-1) ...\n",
            "Selecting previously unselected package python-trollius.\n",
            "Preparing to unpack .../100-python-trollius_2.1~b1-5_all.deb ...\n",
            "Unpacking python-trollius (2.1~b1-5) ...\n",
            "Selecting previously unselected package python-twisted-bin:amd64.\n",
            "Preparing to unpack .../101-python-twisted-bin_17.9.0-2_amd64.deb ...\n",
            "Unpacking python-twisted-bin:amd64 (17.9.0-2) ...\n",
            "Selecting previously unselected package python-pkg-resources.\n",
            "Preparing to unpack .../102-python-pkg-resources_39.0.1-2_all.deb ...\n",
            "Unpacking python-pkg-resources (39.0.1-2) ...\n",
            "Selecting previously unselected package python-zope.interface.\n",
            "Preparing to unpack .../103-python-zope.interface_4.3.2-1build2_amd64.deb ...\n",
            "Unpacking python-zope.interface (4.3.2-1build2) ...\n",
            "Selecting previously unselected package python-automat.\n",
            "Preparing to unpack .../104-python-automat_0.6.0-1_all.deb ...\n",
            "Unpacking python-automat (0.6.0-1) ...\n",
            "Selecting previously unselected package python-constantly.\n",
            "Preparing to unpack .../105-python-constantly_15.1.0-1_all.deb ...\n",
            "Unpacking python-constantly (15.1.0-1) ...\n",
            "Selecting previously unselected package python-hyperlink.\n",
            "Preparing to unpack .../106-python-hyperlink_17.3.1-2_all.deb ...\n",
            "Unpacking python-hyperlink (17.3.1-2) ...\n",
            "Selecting previously unselected package python-incremental.\n",
            "Preparing to unpack .../107-python-incremental_16.10.1-3_all.deb ...\n",
            "Unpacking python-incremental (16.10.1-3) ...\n",
            "Selecting previously unselected package python-twisted-core.\n",
            "Preparing to unpack .../108-python-twisted-core_17.9.0-2_all.deb ...\n",
            "Unpacking python-twisted-core (17.9.0-2) ...\n",
            "Selecting previously unselected package python-twisted.\n",
            "Preparing to unpack .../109-python-twisted_17.9.0-2_all.deb ...\n",
            "Unpacking python-twisted (17.9.0-2) ...\n",
            "Selecting previously unselected package python-txaio.\n",
            "Preparing to unpack .../110-python-txaio_2.8.1-1_all.deb ...\n",
            "Unpacking python-txaio (2.8.1-1) ...\n",
            "Selecting previously unselected package python-u-msgpack.\n",
            "Preparing to unpack .../111-python-u-msgpack_2.1-1_all.deb ...\n",
            "Unpacking python-u-msgpack (2.1-1) ...\n",
            "Selecting previously unselected package python-ubjson.\n",
            "Preparing to unpack .../112-python-ubjson_0.8.5-2build1_amd64.deb ...\n",
            "Unpacking python-ubjson (0.8.5-2build1) ...\n",
            "Selecting previously unselected package python-wsaccel.\n",
            "Preparing to unpack .../113-python-wsaccel_0.6.2-1_amd64.deb ...\n",
            "Unpacking python-wsaccel (0.6.2-1) ...\n",
            "Selecting previously unselected package python-autobahn.\n",
            "Preparing to unpack .../114-python-autobahn_17.10.1+dfsg1-2_all.deb ...\n",
            "Unpacking python-autobahn (17.10.1+dfsg1-2) ...\n",
            "Selecting previously unselected package python-mpi4py.\n",
            "Preparing to unpack .../115-python-mpi4py_2.0.0-3_amd64.deb ...\n",
            "Unpacking python-mpi4py (2.0.0-3) ...\n",
            "Selecting previously unselected package python-vtk6.\n",
            "Preparing to unpack .../116-python-vtk6_6.3.0+dfsg1-11build1_amd64.deb ...\n",
            "Unpacking python-vtk6 (6.3.0+dfsg1-11build1) ...\n",
            "Selecting previously unselected package python-envisage.\n",
            "Preparing to unpack .../117-python-envisage_4.4.0-1_all.deb ...\n",
            "Unpacking python-envisage (4.4.0-1) ...\n",
            "Selecting previously unselected package mayavi2.\n",
            "Preparing to unpack .../118-mayavi2_4.5.0-1_amd64.deb ...\n",
            "Unpacking mayavi2 (4.5.0-1) ...\n",
            "Selecting previously unselected package modemmanager.\n",
            "Preparing to unpack .../119-modemmanager_1.10.0-1~ubuntu18.04.2_amd64.deb ...\n",
            "Unpacking modemmanager (1.10.0-1~ubuntu18.04.2) ...\n",
            "Selecting previously unselected package notification-daemon.\n",
            "Preparing to unpack .../120-notification-daemon_3.20.0-3_amd64.deb ...\n",
            "Unpacking notification-daemon (3.20.0-3) ...\n",
            "Selecting previously unselected package python-chardet.\n",
            "Preparing to unpack .../121-python-chardet_3.0.4-1_all.deb ...\n",
            "Unpacking python-chardet (3.0.4-1) ...\n",
            "Selecting previously unselected package python-colorama.\n",
            "Preparing to unpack .../122-python-colorama_0.3.7-1_all.deb ...\n",
            "Unpacking python-colorama (0.3.7-1) ...\n",
            "Selecting previously unselected package python-click.\n",
            "Preparing to unpack .../123-python-click_6.7-3_all.deb ...\n",
            "Unpacking python-click (6.7-3) ...\n",
            "Selecting previously unselected package python-pam.\n",
            "Preparing to unpack .../124-python-pam_0.4.2-13.2ubuntu4_amd64.deb ...\n",
            "Unpacking python-pam (0.4.2-13.2ubuntu4) ...\n",
            "Selecting previously unselected package python-serial.\n",
            "Preparing to unpack .../125-python-serial_3.4-2_all.deb ...\n",
            "Unpacking python-serial (3.4-2) ...\n",
            "Selecting previously unselected package qt-at-spi:amd64.\n",
            "Preparing to unpack .../126-qt-at-spi_0.4.0-8_amd64.deb ...\n",
            "Unpacking qt-at-spi:amd64 (0.4.0-8) ...\n",
            "Selecting previously unselected package wpasupplicant.\n",
            "Preparing to unpack .../127-wpasupplicant_2%3a2.6-15ubuntu2.5_amd64.deb ...\n",
            "Unpacking wpasupplicant (2:2.6-15ubuntu2.5) ...\n",
            "Selecting previously unselected package usb-modeswitch-data.\n",
            "Preparing to unpack .../128-usb-modeswitch-data_20170806-2_all.deb ...\n",
            "Unpacking usb-modeswitch-data (20170806-2) ...\n",
            "Selecting previously unselected package usb-modeswitch.\n",
            "Preparing to unpack .../129-usb-modeswitch_2.5.2+repack0-2ubuntu1_amd64.deb ...\n",
            "Unpacking usb-modeswitch (2.5.2+repack0-2ubuntu1) ...\n",
            "Setting up python-mpi4py (2.0.0-3) ...\n",
            "Setting up python-u-msgpack (2.1-1) ...\n",
            "Setting up libqt5qml5:amd64 (5.9.5-0ubuntu1.1) ...\n",
            "Setting up python-idna (2.6-1) ...\n",
            "Setting up libbrotli1:amd64 (1.0.3-1ubuntu1.2) ...\n",
            "Setting up libqt5quick5:amd64 (5.9.5-0ubuntu1.1) ...\n",
            "Setting up libisc169:amd64 (1:9.11.3+dfsg-1ubuntu1.11) ...\n",
            "Setting up libnotify4:amd64 (0.7.7-3) ...\n",
            "Setting up python-hyperlink (17.3.1-2) ...\n",
            "Setting up libqt5sensors5:amd64 (5.9.5-0ubuntu1) ...\n",
            "Setting up libdaemon0:amd64 (0.14-6) ...\n",
            "Setting up libisccc160:amd64 (1:9.11.3+dfsg-1ubuntu1.11) ...\n",
            "Setting up python-asn1crypto (0.24.0-1) ...\n",
            "Setting up libmbim-glib4:amd64 (1.18.0-1~ubuntu18.04.1) ...\n",
            "Setting up python-lz4 (0.10.1+dfsg1-0.2) ...\n",
            "Setting up libpam-cap:amd64 (1:2.25-1.2) ...\n",
            "Setting up python-attr (17.4.0-2) ...\n",
            "Setting up python-snappy (0.5-1.1build2) ...\n",
            "Setting up libjs-underscore (1.8.3~dfsg-1) ...\n",
            "Setting up iio-sensor-proxy (2.4-2) ...\n",
            "Setting up python-traits (4.6.0-1ubuntu2) ...\n",
            "Processing triggers for mime-support (3.60ubuntu1) ...\n",
            "Setting up libwoff1:amd64 (1.0.2-1build0.1) ...\n",
            "Setting up geoip-database (20180315-1) ...\n",
            "Setting up libcap2-bin (1:2.25-1.2) ...\n",
            "Setting up python-pyasn1 (0.4.2-3) ...\n",
            "Setting up python-wxversion (3.0.2.0+dfsg-7) ...\n",
            "Setting up qtcore4-l10n (4:4.8.7+dfsg-7ubuntu1) ...\n",
            "Setting up python-twisted-bin:amd64 (17.9.0-2) ...\n",
            "Setting up libjs-sphinxdoc (1.6.7-1ubuntu1) ...\n",
            "Setting up libnl-genl-3-200:amd64 (3.2.29-0ubuntu3) ...\n",
            "Setting up python-colorama (0.3.7-1) ...\n",
            "Setting up libgeoip1:amd64 (1.6.12-1) ...\n",
            "Setting up python-pkg-resources (39.0.1-2) ...\n",
            "Setting up libcdparanoia0:amd64 (3.10.2+debian-13) ...\n",
            "Setting up libmng2:amd64 (2.0.2-0ubuntu3) ...\n",
            "Setting up python-pyasn1-modules (0.2.1-0.2) ...\n",
            "Setting up libqt5opengl5:amd64 (5.9.5+dfsg-0ubuntu2.4) ...\n",
            "Setting up libmbim-proxy (1.18.0-1~ubuntu18.04.1) ...\n",
            "Setting up cython (0.26.1-0.4) ...\n",
            "Setting up python-wsaccel (0.6.2-1) ...\n",
            "Setting up libwxbase3.0-0v5:amd64 (3.0.4+dfsg-3) ...\n",
            "Setting up usb-modeswitch-data (20170806-2) ...\n",
            "Setting up python-cffi-backend (1.11.5-1) ...\n",
            "Setting up libhyphen0:amd64 (2.8.8-5) ...\n",
            "Setting up python-incremental (16.10.1-3) ...\n",
            "Setting up python-six (1.11.0-2) ...\n",
            "Setting up python-constantly (15.1.0-1) ...\n",
            "Setting up usb-modeswitch (2.5.2+repack0-2ubuntu1) ...\n",
            "Setting up python-cbor (1.0.0-1) ...\n",
            "Setting up python-pygments (2.2.0+dfsg-1) ...\n",
            "Processing triggers for libc-bin (2.27-3ubuntu1) ...\n",
            "Setting up libqtcore4:amd64 (4:4.8.7+dfsg-7ubuntu1) ...\n",
            "Setting up libmm-glib0:amd64 (1.10.0-1~ubuntu18.04.2) ...\n",
            "Setting up python-zope.interface (4.3.2-1build2) ...\n",
            "Setting up libgl1-mesa-glx:amd64 (19.0.8-0ubuntu0~18.04.3) ...\n",
            "Setting up libqt5positioning5:amd64 (5.9.5+dfsg-0ubuntu2) ...\n",
            "Setting up python-enum34 (1.1.6-2) ...\n",
            "Processing triggers for systemd (237-3ubuntu10.31) ...\n",
            "Setting up python-serial (3.4-2) ...\n",
            "Setting up libvisual-0.4-0:amd64 (0.4.0-11) ...\n",
            "Setting up libwxgtk3.0-gtk3-0v5:amd64 (3.0.4+dfsg-3) ...\n",
            "Processing triggers for man-db (2.8.3-2ubuntu0.1) ...\n",
            "Setting up python-concurrent.futures (3.2.0-1) ...\n",
            "Setting up liborc-0.4-0:amd64 (1:0.4.28-1) ...\n",
            "Setting up libavahi-glib1:amd64 (0.7-3.1ubuntu1.2) ...\n",
            "Setting up javascript-common (11) ...\n",
            "Processing triggers for dbus (1.12.2-1ubuntu1.1) ...\n",
            "Setting up libqt5webchannel5:amd64 (5.9.5-0ubuntu1) ...\n",
            "Setting up python-pam (0.4.2-13.2ubuntu4) ...\n",
            "Setting up python-ubjson (0.8.5-2build1) ...\n",
            "Setting up libdns1100:amd64 (1:9.11.3+dfsg-1ubuntu1.11) ...\n",
            "Setting up python-ipaddress (1.0.17-1) ...\n",
            "Setting up libqt4-test:amd64 (4:4.8.7+dfsg-7ubuntu1) ...\n",
            "Setting up python-trie (0.2+ds-1) ...\n",
            "Processing triggers for hicolor-icon-theme (0.17-2) ...\n",
            "Setting up python-automat (0.6.0-1) ...\n",
            "Setting up liblwres160:amd64 (1:9.11.3+dfsg-1ubuntu1.11) ...\n",
            "Setting up libqt4-xml:amd64 (4:4.8.7+dfsg-7ubuntu1) ...\n",
            "Setting up libaudio2:amd64 (1.9.4-6) ...\n",
            "Setting up notification-daemon (3.20.0-3) ...\n",
            "Setting up python-sip (4.19.7+dfsg-1) ...\n",
            "Setting up libavahi-core7:amd64 (0.7-3.1ubuntu1.2) ...\n",
            "Setting up python-configobj (5.0.6-2) ...\n",
            "Setting up python-chardet (3.0.4-1) ...\n",
            "Setting up libgstreamer1.0-0:amd64 (1.14.5-0ubuntu1~18.04.1) ...\n",
            "Setcap worked! gst-ptp-helper is not suid!\n",
            "Setting up python-nacl (1.1.2-1build1) ...\n",
            "Setting up python-trollius (2.1~b1-5) ...\n",
            "Setting up python-click (6.7-3) ...\n",
            "Setting up python-wxgtk3.0 (3.0.2.0+dfsg-7) ...\n",
            "update-alternatives: using /usr/lib/wx/python/wx3.0.pth to provide /usr/lib/wx/python/wx.pth (wx.pth) in auto mode\n",
            "Setting up wpasupplicant (2:2.6-15ubuntu2.5) ...\n",
            "Created symlink /etc/systemd/system/dbus-fi.w1.wpa_supplicant1.service → /lib/systemd/system/wpa_supplicant.service.\n",
            "Created symlink /etc/systemd/system/multi-user.target.wants/wpa_supplicant.service → /lib/systemd/system/wpa_supplicant.service.\n",
            "Setting up python-qrcode (5.3-1) ...\n",
            "update-alternatives: using /usr/bin/python2-qr to provide /usr/bin/qr (qr) in auto mode\n",
            "Setting up libqmi-glib5:amd64 (1.22.0-1.2~ubuntu18.04.1) ...\n",
            "Setting up libqt4-sql:amd64 (4:4.8.7+dfsg-7ubuntu1) ...\n",
            "Setting up libqmi-proxy (1.22.0-1.2~ubuntu18.04.1) ...\n",
            "Setting up libisccfg160:amd64 (1:9.11.3+dfsg-1ubuntu1.11) ...\n",
            "Setting up python-cryptography (2.1.4-1ubuntu1.3) ...\n",
            "Setting up libqtdbus4:amd64 (4:4.8.7+dfsg-7ubuntu1) ...\n",
            "Setting up libgstreamer-plugins-base1.0-0:amd64 (1.14.5-0ubuntu1~18.04.1) ...\n",
            "Setting up gstreamer1.0-plugins-base:amd64 (1.14.5-0ubuntu1~18.04.1) ...\n",
            "Setting up libqt4-script:amd64 (4:4.8.7+dfsg-7ubuntu1) ...\n",
            "Setting up python-openssl (17.5.0-1ubuntu1) ...\n",
            "Setting up libqt4-sql-mysql:amd64 (4:4.8.7+dfsg-7ubuntu1) ...\n",
            "Setting up libqt5webkit5:amd64 (5.212.0~alpha2-7ubuntu1) ...\n",
            "Setting up modemmanager (1.10.0-1~ubuntu18.04.2) ...\n",
            "Created symlink /etc/systemd/system/dbus-org.freedesktop.ModemManager1.service → /lib/systemd/system/ModemManager.service.\n",
            "Created symlink /etc/systemd/system/multi-user.target.wants/ModemManager.service → /lib/systemd/system/ModemManager.service.\n",
            "Setting up libbind9-160:amd64 (1:9.11.3+dfsg-1ubuntu1.11) ...\n",
            "Setting up qdbus (4:4.8.7+dfsg-7ubuntu1) ...\n",
            "Setting up libvtk6.3-qt (6.3.0+dfsg1-11build1) ...\n",
            "Setting up libqt4-dbus:amd64 (4:4.8.7+dfsg-7ubuntu1) ...\n",
            "Setting up libqt4-network:amd64 (4:4.8.7+dfsg-7ubuntu1) ...\n",
            "Setting up python-service-identity (16.0.0-2) ...\n",
            "Setting up bind9-host (1:9.11.3+dfsg-1ubuntu1.11) ...\n",
            "Setting up libqt4-xmlpatterns:amd64 (4:4.8.7+dfsg-7ubuntu1) ...\n",
            "Setting up libqtassistantclient4:amd64 (4.6.3-7build1) ...\n",
            "Setting up avahi-daemon (0.7-3.1ubuntu1.2) ...\n",
            "invoke-rc.d: could not determine current runlevel\n",
            "invoke-rc.d: policy-rc.d denied execution of force-reload.\n",
            "Created symlink /etc/systemd/system/dbus-org.freedesktop.Avahi.service → /lib/systemd/system/avahi-daemon.service.\n",
            "Created symlink /etc/systemd/system/multi-user.target.wants/avahi-daemon.service → /lib/systemd/system/avahi-daemon.service.\n",
            "Created symlink /etc/systemd/system/sockets.target.wants/avahi-daemon.socket → /lib/systemd/system/avahi-daemon.socket.\n",
            "invoke-rc.d: could not determine current runlevel\n",
            "invoke-rc.d: policy-rc.d denied execution of start.\n",
            "Setting up python-twisted-core (17.9.0-2) ...\n",
            "Setting up python-twisted (17.9.0-2) ...\n",
            "Setting up libnss-mdns:amd64 (0.10-8ubuntu1) ...\n",
            "First installation detected...\n",
            "Checking NSS setup...\n",
            "Setting up python-txaio (2.8.1-1) ...\n",
            "Setting up python-autobahn (17.10.1+dfsg1-2) ...\n",
            "Setting up python-vtk6 (6.3.0+dfsg1-11build1) ...\n",
            "Setting up libgeoclue-2-0:amd64 (2.4.7-1ubuntu1) ...\n",
            "Setting up geoclue-2.0 (2.4.7-1ubuntu1) ...\n",
            "Setting up libqt4-declarative:amd64 (4:4.8.7+dfsg-7ubuntu1) ...\n",
            "Setting up libqtgui4:amd64 (4:4.8.7+dfsg-7ubuntu1) ...\n",
            "Setting up qt-at-spi:amd64 (0.4.0-8) ...\n",
            "Setting up libqt4-designer:amd64 (4:4.8.7+dfsg-7ubuntu1) ...\n",
            "Setting up libqt4-help:amd64 (4:4.8.7+dfsg-7ubuntu1) ...\n",
            "Setting up libqt4-svg:amd64 (4:4.8.7+dfsg-7ubuntu1) ...\n",
            "Setting up libqt4-scripttools:amd64 (4:4.8.7+dfsg-7ubuntu1) ...\n",
            "Setting up python-qt4 (4.12.1+dfsg-2) ...\n",
            "Setting up python-pyface (4.5.2-1) ...\n",
            "Setting up python-traitsui (4.5.1-1) ...\n",
            "Setting up python-apptools (4.3.0-1) ...\n",
            "Setting up python-envisage (4.4.0-1) ...\n",
            "Setting up mayavi2 (4.5.0-1) ...\n",
            "Processing triggers for libc-bin (2.27-3ubuntu1) ...\n",
            "Processing triggers for dbus (1.12.2-1ubuntu1.1) ...\n",
            "Processing triggers for systemd (237-3ubuntu10.31) ...\n",
            "Collecting pyvirtualdisplay\n",
            "  Downloading https://files.pythonhosted.org/packages/cf/ad/b15f252bfb0f1693ad3150b55a44a674f3cba711cacdbb9ae2f03f143d19/PyVirtualDisplay-0.2.4-py2.py3-none-any.whl\n",
            "Collecting EasyProcess\n",
            "  Downloading https://files.pythonhosted.org/packages/fa/29/40040d1d64a224a5e44df9572794a66494618ffe5c77199214aeceedb8a7/EasyProcess-0.2.7-py2.py3-none-any.whl\n",
            "Installing collected packages: EasyProcess, pyvirtualdisplay\n",
            "Successfully installed EasyProcess-0.2.7 pyvirtualdisplay-0.2.4\n"
          ],
          "name": "stdout"
        }
      ]
    },
    {
      "cell_type": "code",
      "metadata": {
        "id": "LQITVuSodx_5",
        "colab_type": "code",
        "outputId": "c4c6f029-7b7e-46a8-eb1c-eb6d8494041d",
        "colab": {
          "base_uri": "https://localhost:8080/",
          "height": 54
        }
      },
      "source": [
        "from pyvirtualdisplay import Display\n",
        "display = Display(visible=0, size=(1024, 480))\n",
        "display.start()\n",
        "import os\n",
        "os.environ[\"DISPLAY\"] = \":\" + str(display.display) + \".\" + str(display.screen)\n",
        "!mkdir /tmp/.enthought\n",
        "!mkdir /tmp/.enthought/mayavi_e3\n",
        "!touch /tmp/.enthought/mayavi_e3/mayavi.log\n",
        "!mayavi2 --offscreen -d mesh.vtk -f ExtractEdges -m Surface -s \"scene.save('mesh.png', size=(800, 800))\""
      ],
      "execution_count": 9,
      "outputs": [
        {
          "output_type": "stream",
          "text": [
            "/usr/lib/python2.7/dist-packages/traits/etsconfig/etsconfig.py:429: UserWarning: Environment variable \"HOME\" not set, setting home directory to /tmp\n",
            "  (environment_variable, parent_directory))\n"
          ],
          "name": "stdout"
        }
      ]
    },
    {
      "cell_type": "code",
      "metadata": {
        "id": "DAU7tAiVTtqy",
        "colab_type": "code",
        "outputId": "1a8bfdfb-b48d-4d84-dfa8-b299fddf3c84",
        "colab": {
          "base_uri": "https://localhost:8080/",
          "height": 817
        }
      },
      "source": [
        "from IPython.display import Image, display_png\n",
        "display_png(Image('mesh.png'))"
      ],
      "execution_count": 10,
      "outputs": [
        {
          "output_type": "display_data",
          "data": {
            "image/png": "[encoded data removed]"
          },
          "metadata": {
            "tags": []
          }
        }
      ]
    },
    {
      "cell_type": "markdown",
      "metadata": {
        "id": "i_lZ8MbInXQX",
        "colab_type": "text"
      },
      "source": [
        "### 有限要素法と積分法の定義"
      ]
    },
    {
      "cell_type": "markdown",
      "metadata": {
        "id": "mhM2MxLunkt-",
        "colab_type": "text"
      },
      "source": [
        "3つの有限要素法を定義します。最初の1つは、変位フィールドを近似する mfu です。"
      ]
    },
    {
      "cell_type": "code",
      "metadata": {
        "id": "fC1cB60cnYVP",
        "colab_type": "code",
        "colab": {}
      },
      "source": [
        "mfu = gf.MeshFem(mesh, 2)\n",
        "mfu.set_classical_fem(elements_degree)"
      ],
      "execution_count": 0,
      "outputs": []
    },
    {
      "cell_type": "markdown",
      "metadata": {
        "id": "hWBbQ4aDn_OY",
        "colab_type": "text"
      },
      "source": [
        "ここで、 2 はベクトル場の次元を表します。2行目は、使用する有限要素を設定します。 classical_finite_element は、連続したLagrange要素を意味し、elements_degree は 2 に設定されています。これは2次の (アイソパラメトリック) 要素を使用することを意味します。"
      ]
    },
    {
      "cell_type": "markdown",
      "metadata": {
        "id": "nwz8WVMSoQ_i",
        "colab_type": "text"
      },
      "source": [
        "GetFEM++ では、既存の有限要素法を幅広く選択肢できます。 [付録A.有限要素法リスト](https://getfem.readthedocs.io/ja/latest/userdoc/appendixA.html#ud-appendixa) を参照してください。しかし、実際には Lagrange 有限要素法が最も使用されています。"
      ]
    },
    {
      "cell_type": "markdown",
      "metadata": {
        "id": "CFDgeS3hok3U",
        "colab_type": "text"
      },
      "source": [
        "第2の有限要素法はスカラーで、温度場と電位場の両方を近似する mft です。単一の有限要素法で任意の数の有限要素変数を近似すると便利です。"
      ]
    },
    {
      "cell_type": "code",
      "metadata": {
        "id": "wl0vqr7vn-LN",
        "colab_type": "code",
        "colab": {}
      },
      "source": [
        "mft = gf.MeshFem(mesh, 1)\n",
        "mft.set_classical_fem(elements_degree)"
      ],
      "execution_count": 0,
      "outputs": []
    },
    {
      "cell_type": "markdown",
      "metadata": {
        "id": "EZisU2JJoueW",
        "colab_type": "text"
      },
      "source": [
        "3番目の有限要素法は不連続なスカラーLagrangeで、1変数の導関数を補間することができます (たとえば、Von Mises応力の補間)。"
      ]
    },
    {
      "cell_type": "code",
      "metadata": {
        "id": "_iA8EVcToz9c",
        "colab_type": "code",
        "colab": {}
      },
      "source": [
        "mfvm = gf.MeshFem(mesh, 1)\n",
        "mfvm.set_classical_discontinuous_fem(elements_degree)"
      ],
      "execution_count": 0,
      "outputs": []
    },
    {
      "cell_type": "markdown",
      "metadata": {
        "id": "YrhampG9pC7K",
        "colab_type": "text"
      },
      "source": [
        "最後に定義するのは、積分法 mim です。GetFEM++ にデフォルトの積分法はありません。したがって、これは積分法を定義するためには必須です。もちろん、積分法の次数は、選択された有限要素法に好都合な積分を行うため、十分に選定しなければなりません。ここでは、 elements_degree の2乗で十分です。"
      ]
    },
    {
      "cell_type": "code",
      "metadata": {
        "id": "HHXbX2T-pBuD",
        "colab_type": "code",
        "colab": {}
      },
      "source": [
        "mim = gf.MeshIm(mesh, pow(elements_degree,2))"
      ],
      "execution_count": 0,
      "outputs": []
    },
    {
      "cell_type": "markdown",
      "metadata": {
        "id": "ek7VSZJtpiWB",
        "colab_type": "text"
      },
      "source": [
        "## モデルの定義"
      ]
    },
    {
      "cell_type": "markdown",
      "metadata": {
        "id": "D8RtQXVNpnmE",
        "colab_type": "text"
      },
      "source": [
        "GetFEM++ のモデルオブジェクトは(未知)変数、データ、およびモデルブリックと呼ばれるものの集まりです。モデルブリックは、単一の変数か、複数の変数をリンクしているモデルの一部 (線形または非線形項) です。これらは、(接線) 線形システムの構築のために使用されます (詳細については [modelオブジェクト](https://getfem.readthedocs.io/ja/latest/userdoc/model_object.html#ud-model-object) を参照してください)。"
      ]
    },
    {
      "cell_type": "markdown",
      "metadata": {
        "id": "zMt1G8swqk6-",
        "colab_type": "text"
      },
      "source": [
        "直接構築を行い(接線) 線形システムを作成することも可能なため、モデルオブジェクトを使用することは厳密には必須ではありません。しかし、モデルオブジェクトは、モデルのほとんどの既往な部分が事前にプログラムされているので、モデルの素早い構築が可能です。 標準境界条件、標準偏微分方程式、制約を処理するための乗数の使用などが整備されています。さらに、いくつかのブリックは、標準ブリック (ジェネリックアセンブリブリック、陽なマトリックスブリックなど) の拡張が可能なように設計されています。そのため、モデルオブジェクトのフレームワークを使用することをお勧めします。"
      ]
    },
    {
      "cell_type": "markdown",
      "metadata": {
        "id": "78imtUMqqyA-",
        "colab_type": "text"
      },
      "source": [
        "モデルには実数と複素数の2つのバージョンがあります。複素数モデルは複雑な線形システムを解くのに有利な特殊なアプリケーション (例えば、いくつかの電磁気学の問題など) のために予約されています。"
      ]
    },
    {
      "cell_type": "markdown",
      "metadata": {
        "id": "aS6Y6Qm9q02O",
        "colab_type": "text"
      },
      "source": [
        "計算される3つのフィールドに対応する3つの変数を持つ実際のモデルを宣言してみましょう 。"
      ]
    },
    {
      "cell_type": "code",
      "metadata": {
        "id": "K_XfTC6TpmpH",
        "colab_type": "code",
        "colab": {}
      },
      "source": [
        "md=gf.Model('real');\n",
        "md.add_fem_variable('u', mfu)\n",
        "md.add_fem_variable('theta', mft)\n",
        "md.add_fem_variable('V', mft)"
      ],
      "execution_count": 0,
      "outputs": []
    },
    {
      "cell_type": "markdown",
      "metadata": {
        "id": "3lT3B5r2rNH4",
        "colab_type": "text"
      },
      "source": [
        "### 弾性膜変形問題"
      ]
    },
    {
      "cell_type": "markdown",
      "metadata": {
        "id": "scgRX0m-rQRX",
        "colab_type": "text"
      },
      "source": [
        "ここでは、弾性変形問題から始めましょう。以下の add_isotropic_linearized_elasticity_brick によって追加されている定義済みのブリックを使用します。対応する項は以下の通りです。\n",
        "$$\n",
        "\\int_{\\Omega} (\\lambda^* \\mbox{div}(u) I + 2\\mu \\bar{\\varepsilon}(u)):\\bar{\\varepsilon}(\\delta_u)dx,\n",
        "$$\n",
        "この追加を接線線形システムに対して行います。このモデルブリックを使用するために、 Lamé 係数に対応するデータは、最初にモデルに追加する必要があります。ここでは、 Lamé 係数は、領域に対して一定です。ただし、一部の非定数データを定義することもできます。また、この定義済みのブリックを使用する代わりに、弱形式言語項 add_linear_term(md mim, \"lambda*(Div_u*Div_Test_u) + mu*((Grad_u + Grad_u'):Grad_Test_u)\" を使用することもできます。"
      ]
    },
    {
      "cell_type": "markdown",
      "metadata": {
        "id": "x-3RyIDoro2g",
        "colab_type": "text"
      },
      "source": [
        "連成項\n",
        "$$\n",
        "\\int_{\\Omega} (\\beta\\theta I) :\\bar{\\varepsilon}(\\delta_u)dx,\n",
        "$$\n",
        "は定義済みのブリックはなく、弱形式言語項 add_linear_term(md mim, \"beta*theta*Div_Test_u)\" を直接使用します。弱形式言語の詳細については、 [任意の項を計算する - 高水準の汎用的な構築手順 - 弱形式言語](https://getfem.readthedocs.io/ja/latest/userdoc/gasm_high.html#ud-gasm-high) を参照してください。基本的に、アセンブリ文字列は、各Gauss点で実行される最適化されたアセンブリ命令のリストでコンパイルされます。"
      ]
    },
    {
      "cell_type": "markdown",
      "metadata": {
        "id": "GLuJf9uDsB6p",
        "colab_type": "text"
      },
      "source": [
        "以下のプログラムは、全体の弾性変形方程式を考慮に入れることができます。左側の境界に Dirichlet 条件を規定するために、既定のブリックを使用します。Dirichlet条件を定義するいくつかのオプションがあります( [Dirichlet条件ブリック要素](https://getfem.readthedocs.io/ja/latest/userdoc/model_dirichlet.html#ud-model-dirichlet) を参照)。"
      ]
    },
    {
      "cell_type": "code",
      "metadata": {
        "id": "pGzUXjmxq7DT",
        "colab_type": "code",
        "outputId": "0ff16e0f-dd69-4801-981d-9e557f2bfb11",
        "colab": {
          "base_uri": "https://localhost:8080/",
          "height": 36
        }
      },
      "source": [
        "md.add_initialized_data('cmu', [cmu])\n",
        "md.add_initialized_data('clambdastar', [clambdastar])\n",
        "md.add_initialized_data('T0', [T0])\n",
        "md.add_isotropic_linearized_elasticity_brick(mim, 'u', 'clambdastar', 'cmu')\n",
        "\n",
        "md.add_Dirichlet_condition_with_multipliers(mim, 'u', elements_degree-1, LEFT_BOUND)\n",
        "md.add_initialized_data('Fdata', [F*epsilon, 0])\n",
        "md.add_source_term_brick(mim, 'u', 'Fdata', RIGHT_BOUND)\n",
        "\n",
        "md.add_initialized_data('beta', [alpha_th*E/(1-2*nu)])\n",
        "md.add_linear_generic_assembly_brick(mim, 'beta*(T0-theta)*Div_Test_u')"
      ],
      "execution_count": 16,
      "outputs": [
        {
          "output_type": "execute_result",
          "data": {
            "text/plain": [
              "4"
            ]
          },
          "metadata": {
            "tags": []
          },
          "execution_count": 16
        }
      ]
    },
    {
      "cell_type": "markdown",
      "metadata": {
        "id": "ERgeNH8PvqWX",
        "colab_type": "text"
      },
      "source": [
        "## 電位問題\n",
        "同様に、以下のプログラムは、電位方程式を記述しています。電気伝導率 $\\sigma$ と弱形式言語の項の定義方法に注意してください。"
      ]
    },
    {
      "cell_type": "code",
      "metadata": {
        "id": "5dm1Y9GHsPcj",
        "colab_type": "code",
        "outputId": "5d468512-ecb7-426e-c473-522707d4e526",
        "colab": {
          "base_uri": "https://localhost:8080/",
          "height": 36
        }
      },
      "source": [
        "sigmaeps = '(eps/(rho_0*(1+alpha*(theta-T0))))'\n",
        "md.add_initialized_data('eps', [epsilon])\n",
        "md.add_initialized_data('rho_0', [rho_0])\n",
        "md.add_initialized_data('alpha', [alpha])\n",
        "md.add_nonlinear_generic_assembly_brick(mim, sigmaeps+'*(Grad_V.Grad_Test_V)')\n",
        "md.add_Dirichlet_condition_with_multipliers(mim, 'V', elements_degree-1, RIGHT_BOUND)\n",
        "md.add_initialized_data('DdataV', [0.1])\n",
        "md.add_Dirichlet_condition_with_multipliers(mim, 'V', elements_degree-1, LEFT_BOUND, 'DdataV')"
      ],
      "execution_count": 17,
      "outputs": [
        {
          "output_type": "execute_result",
          "data": {
            "text/plain": [
              "7"
            ]
          },
          "metadata": {
            "tags": []
          },
          "execution_count": 17
        }
      ]
    },
    {
      "cell_type": "markdown",
      "metadata": {
        "id": "emN9t15DwUMW",
        "colab_type": "text"
      },
      "source": [
        "### 熱問題"
      ]
    },
    {
      "cell_type": "markdown",
      "metadata": {
        "id": "2fPUcHKRwXdN",
        "colab_type": "text"
      },
      "source": [
        "ここで、熱問題を記述するプログラムは次の通りです。"
      ]
    },
    {
      "cell_type": "code",
      "metadata": {
        "id": "9cW0C2Env6ZN",
        "colab_type": "code",
        "outputId": "b081dbab-1fa9-443a-8523-2e41d18dab39",
        "colab": {
          "base_uri": "https://localhost:8080/",
          "height": 36
        }
      },
      "source": [
        "md.add_initialized_data('kaeps', [kappa*epsilon])\n",
        "md.add_generic_elliptic_brick(mim, 'theta', 'kaeps')\n",
        "md.add_initialized_data('D2', [D*2])\n",
        "md.add_initialized_data('D2airt', [air_temp*D*2])\n",
        "md.add_mass_brick(mim, 'theta', 'D2')\n",
        "md.add_source_term_brick(mim, 'theta', 'D2airt')\n",
        "\n",
        "md.add_nonlinear_generic_assembly_brick(mim, '-'+sigmaeps+'*Norm_sqr(Grad_V)*Test_theta')"
      ],
      "execution_count": 18,
      "outputs": [
        {
          "output_type": "execute_result",
          "data": {
            "text/plain": [
              "11"
            ]
          },
          "metadata": {
            "tags": []
          },
          "execution_count": 18
        }
      ]
    },
    {
      "cell_type": "markdown",
      "metadata": {
        "id": "iR5qcqAdxnqd",
        "colab_type": "text"
      },
      "source": [
        "### モデルの求解"
      ]
    },
    {
      "cell_type": "markdown",
      "metadata": {
        "id": "sImgD76_xqyU",
        "colab_type": "text"
      },
      "source": [
        "モデルを正しく定義したら、次のようにして簡単に解くことができます。"
      ]
    },
    {
      "cell_type": "code",
      "metadata": {
        "id": "Z8nt6hfawcAu",
        "colab_type": "code",
        "outputId": "d93aa92a-7cc1-461d-8ea5-6aeac172a498",
        "colab": {
          "base_uri": "https://localhost:8080/",
          "height": 36
        }
      },
      "source": [
        "md.solve('max_res', 1E-9, 'max_iter', 100, 'noisy')"
      ],
      "execution_count": 19,
      "outputs": [
        {
          "output_type": "execute_result",
          "data": {
            "text/plain": [
              "(4, 1)"
            ]
          },
          "metadata": {
            "tags": []
          },
          "execution_count": 19
        }
      ]
    },
    {
      "cell_type": "markdown",
      "metadata": {
        "id": "tT4zpi_ExzHF",
        "colab_type": "text"
      },
      "source": [
        "問題は大域的に非線形であるため、Newton法を用いて問題を反復的に解きます。数回のイテレーションが必要です (この場合は約4です)。"
      ]
    },
    {
      "cell_type": "markdown",
      "metadata": {
        "id": "gf1u07-Rx57I",
        "colab_type": "text"
      },
      "source": [
        "### 2ステップでのモデルの求解"
      ]
    },
    {
      "cell_type": "markdown",
      "metadata": {
        "id": "Etg94mcVx-2Y",
        "colab_type": "text"
      },
      "source": [
        "別の解き方として、最初に熱と電位の問題を解くこともできます。今回のモデルでは、熱および電位は変形に依存しません。熱と電位の問題を解いてから変形の問題を解くには、次のように実行します。"
      ]
    },
    {
      "cell_type": "code",
      "metadata": {
        "id": "SFWMd3AVxx4k",
        "colab_type": "code",
        "outputId": "60aa344a-4a17-4892-b537-e34cdfba9bb8",
        "colab": {
          "base_uri": "https://localhost:8080/",
          "height": 36
        }
      },
      "source": [
        "md.disable_variable('u')\n",
        "md.solve('max_res', 1E-9, 'max_iter', 100, 'noisy')\n",
        "md.enable_variable('u')\n",
        "md.disable_variable('theta')\n",
        "md.disable_variable('V')\n",
        "md.solve('max_res', 1E-9, 'max_iter', 100, 'noisy')"
      ],
      "execution_count": 20,
      "outputs": [
        {
          "output_type": "execute_result",
          "data": {
            "text/plain": [
              "(0, 1)"
            ]
          },
          "metadata": {
            "tags": []
          },
          "execution_count": 20
        }
      ]
    },
    {
      "cell_type": "markdown",
      "metadata": {
        "id": "qCh7A_yvyHoS",
        "colab_type": "text"
      },
      "source": [
        "### 解のエクスポート/可視化"
      ]
    },
    {
      "cell_type": "markdown",
      "metadata": {
        "id": "XKFaDSqsyOEj",
        "colab_type": "text"
      },
      "source": [
        "以上で有限要素問題が解けました。図のように解をプロットすることができます。C++ および Python プログラムでは、外部のグラフィカルポストプロセッサを使用する必要があることに注意してください。また、汎用補間を使用して任意の数量を後処理できることにも注意してください(後述の ga_interpolation_Lagrange_fem を参照)。また、複雑なエクスポートやスライスの作成も可能です ( [解の出力と表示](https://getfem.readthedocs.io/ja/latest/userdoc/export.html#ud-export) をご覧ください)。"
      ]
    },
    {
      "cell_type": "code",
      "metadata": {
        "id": "H9Mt1NOUyBtd",
        "colab_type": "code",
        "outputId": "5d47609a-469f-46d6-f9f5-2c6876be7e86",
        "colab": {
          "base_uri": "https://localhost:8080/",
          "height": 91
        }
      },
      "source": [
        "U = md.variable('u')\n",
        "V = md.variable('V')\n",
        "THETA = md.variable('theta')\n",
        "VM = md.compute_isotropic_linearized_Von_Mises_or_Tresca('u', 'clambdastar', 'cmu', mfvm)\n",
        "CO = np.reshape(md.interpolation('-'+sigmaeps+'*Grad_V', mfvm), (2, mfvm.nbdof()), 'F')\n",
        "\n",
        "mfvm.export_to_vtk('displacement_with_von_mises.vtk', mfvm,\n",
        "                   VM, 'Von Mises Stresses', mfu, U, 'Displacements')\n",
        "print ('You can view solutions with for instance:')\n",
        "print ('mayavi2 -d displacement_with_von_mises.vtk -f WarpVector -m Surface')\n",
        "mft.export_to_vtk('temperature.vtk', mft, THETA, 'Temperature')\n",
        "print ('mayavi2 -d temperature.vtk -f WarpScalar -m Surface')\n",
        "mft.export_to_vtk('electric_potential.vtk', mft, V, 'Electric potential')\n",
        "print ('mayavi2 -d electric_potential.vtk -f WarpScalar -m Surface')"
      ],
      "execution_count": 21,
      "outputs": [
        {
          "output_type": "stream",
          "text": [
            "You can view solutions with for instance:\n",
            "mayavi2 -d displacement_with_von_mises.vtk -f WarpVector -m Surface\n",
            "mayavi2 -d temperature.vtk -f WarpScalar -m Surface\n",
            "mayavi2 -d electric_potential.vtk -f WarpScalar -m Surface\n"
          ],
          "name": "stdout"
        }
      ]
    },
    {
      "cell_type": "code",
      "metadata": {
        "id": "alZWs4VTZ08s",
        "colab_type": "code",
        "outputId": "5b1b150b-d6b1-40da-eade-e5a99447cc0e",
        "colab": {
          "base_uri": "https://localhost:8080/",
          "height": 128
        }
      },
      "source": [
        "from pyvirtualdisplay import Display\n",
        "display = Display(visible=0, size=(1024, 480))\n",
        "display.start()\n",
        "import os\n",
        "os.environ[\"DISPLAY\"] = \":\" + str(display.display) + \".\" + str(display.screen)\n",
        "!mayavi2 --offscreen -d displacement_with_von_mises.vtk -m Surface -f WarpVector -s \"scene.save('displacement_with_von_mises.png', size=(800, 800))\"\n",
        "!mayavi2 --offscreen -d temperature.vtk -m Surface -s \"scene.save('temperature.png', size=(800, 800))\"\n",
        "!mayavi2 --offscreen -d electric_potential.vtk -m Surface -s \"scene.save('electric_potential.png', size=(800, 800))\""
      ],
      "execution_count": 22,
      "outputs": [
        {
          "output_type": "stream",
          "text": [
            "/usr/lib/python2.7/dist-packages/traits/etsconfig/etsconfig.py:429: UserWarning: Environment variable \"HOME\" not set, setting home directory to /tmp\n",
            "  (environment_variable, parent_directory))\n",
            "/usr/lib/python2.7/dist-packages/traits/etsconfig/etsconfig.py:429: UserWarning: Environment variable \"HOME\" not set, setting home directory to /tmp\n",
            "  (environment_variable, parent_directory))\n",
            "/usr/lib/python2.7/dist-packages/traits/etsconfig/etsconfig.py:429: UserWarning: Environment variable \"HOME\" not set, setting home directory to /tmp\n",
            "  (environment_variable, parent_directory))\n"
          ],
          "name": "stdout"
        }
      ]
    },
    {
      "cell_type": "code",
      "metadata": {
        "id": "8rB2nP8jzs3W",
        "colab_type": "code",
        "outputId": "32c05d2d-1323-41ba-c789-8df42a629c24",
        "colab": {
          "base_uri": "https://localhost:8080/",
          "height": 817
        }
      },
      "source": [
        "from IPython.display import Image, display_png\n",
        "display_png(Image('displacement_with_von_mises.png'))"
      ],
      "execution_count": 23,
      "outputs": [
        {
          "output_type": "display_data",
          "data": {
            "image/png": "[encoded data removed]"
          },
          "metadata": {
            "tags": []
          }
        }
      ]
    },
    {
      "cell_type": "code",
      "metadata": {
        "id": "s4EYaysbzxRV",
        "colab_type": "code",
        "outputId": "750ea922-8920-41e4-b99c-794ee1fbc22e",
        "colab": {
          "base_uri": "https://localhost:8080/",
          "height": 817
        }
      },
      "source": [
        "from IPython.display import Image, display_png\n",
        "display_png(Image('temperature.png'))"
      ],
      "execution_count": 24,
      "outputs": [
        {
          "output_type": "display_data",
          "data": {
            "image/png": "[encoded data removed]"
          },
          "metadata": {
            "tags": []
          }
        }
      ]
    },
    {
      "cell_type": "code",
      "metadata": {
        "id": "jeII1n5jz4EJ",
        "colab_type": "code",
        "outputId": "391d8075-8d22-4e2d-a3f9-e902d93a4496",
        "colab": {
          "base_uri": "https://localhost:8080/",
          "height": 817
        }
      },
      "source": [
        "from IPython.display import Image, display_png\n",
        "display_png(Image('electric_potential.png'))"
      ],
      "execution_count": 25,
      "outputs": [
        {
          "output_type": "display_data",
          "data": {
            "image/png": "[encoded data removed]"
          },
          "metadata": {
            "tags": []
          }
        }
      ]
    },
    {
      "cell_type": "code",
      "metadata": {
        "id": "rjcdq4rlVi1O",
        "colab_type": "code",
        "colab": {}
      },
      "source": [
        ""
      ],
      "execution_count": 0,
      "outputs": []
    }
  ]
}